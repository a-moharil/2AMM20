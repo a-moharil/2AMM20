{
 "cells": [
  {
   "cell_type": "markdown",
   "metadata": {
    "id": "TdgCsG6x6Ykp"
   },
   "source": [
    "# 2AMM20 - Research Topics in Data Mining\n",
    "#### NLP Track - Group 01\n"
   ]
  },
  {
   "cell_type": "code",
   "execution_count": 1,
   "metadata": {
    "id": "3QsxLrHZlgoi",
    "scrolled": true
   },
   "outputs": [
    {
     "name": "stdout",
     "output_type": "stream",
     "text": [
      "Requirement already satisfied: transformers in c:\\programdata\\anaconda3\\lib\\site-packages (4.11.3)\n",
      "Requirement already satisfied: numpy>=1.17 in c:\\programdata\\anaconda3\\lib\\site-packages (from transformers) (1.19.2)\n",
      "Requirement already satisfied: requests in c:\\programdata\\anaconda3\\lib\\site-packages (from transformers) (2.24.0)\n",
      "Requirement already satisfied: tokenizers<0.11,>=0.10.1 in c:\\programdata\\anaconda3\\lib\\site-packages (from transformers) (0.10.3)\n",
      "Requirement already satisfied: filelock in c:\\programdata\\anaconda3\\lib\\site-packages (from transformers) (3.0.12)\n",
      "Requirement already satisfied: pyyaml>=5.1 in c:\\programdata\\anaconda3\\lib\\site-packages (from transformers) (5.3.1)\n",
      "Requirement already satisfied: packaging>=20.0 in c:\\programdata\\anaconda3\\lib\\site-packages (from transformers) (20.4)\n",
      "Requirement already satisfied: tqdm>=4.27 in c:\\programdata\\anaconda3\\lib\\site-packages (from transformers) (4.50.2)\n",
      "Requirement already satisfied: sacremoses in c:\\programdata\\anaconda3\\lib\\site-packages (from transformers) (0.0.46)\n",
      "Requirement already satisfied: regex!=2019.12.17 in c:\\programdata\\anaconda3\\lib\\site-packages (from transformers) (2020.10.15)\n",
      "Requirement already satisfied: huggingface-hub>=0.0.17 in c:\\programdata\\anaconda3\\lib\\site-packages (from transformers) (0.0.19)\n",
      "Requirement already satisfied: certifi>=2017.4.17 in c:\\programdata\\anaconda3\\lib\\site-packages (from requests->transformers) (2020.6.20)\n",
      "Requirement already satisfied: chardet<4,>=3.0.2 in c:\\programdata\\anaconda3\\lib\\site-packages (from requests->transformers) (3.0.4)\n",
      "Requirement already satisfied: idna<3,>=2.5 in c:\\programdata\\anaconda3\\lib\\site-packages (from requests->transformers) (2.10)\n",
      "Requirement already satisfied: urllib3!=1.25.0,!=1.25.1,<1.26,>=1.21.1 in c:\\programdata\\anaconda3\\lib\\site-packages (from requests->transformers) (1.25.11)\n",
      "Requirement already satisfied: pyparsing>=2.0.2 in c:\\programdata\\anaconda3\\lib\\site-packages (from packaging>=20.0->transformers) (2.4.7)\n",
      "Requirement already satisfied: six in c:\\programdata\\anaconda3\\lib\\site-packages (from packaging>=20.0->transformers) (1.15.0)\n",
      "Requirement already satisfied: joblib in c:\\programdata\\anaconda3\\lib\\site-packages (from sacremoses->transformers) (0.17.0)\n",
      "Requirement already satisfied: click in c:\\programdata\\anaconda3\\lib\\site-packages (from sacremoses->transformers) (7.1.2)\n",
      "Requirement already satisfied: typing-extensions in c:\\programdata\\anaconda3\\lib\\site-packages (from huggingface-hub>=0.0.17->transformers) (3.7.4.3)\n",
      "Requirement already satisfied: yellowbrick in c:\\programdata\\anaconda3\\lib\\site-packages (1.3.post1)\n",
      "Requirement already satisfied: scikit-learn>=0.20 in c:\\programdata\\anaconda3\\lib\\site-packages (from yellowbrick) (0.23.2)\n",
      "Requirement already satisfied: cycler>=0.10.0 in c:\\programdata\\anaconda3\\lib\\site-packages (from yellowbrick) (0.10.0)\n",
      "Requirement already satisfied: matplotlib!=3.0.0,>=2.0.2 in c:\\programdata\\anaconda3\\lib\\site-packages (from yellowbrick) (3.4.3)\n",
      "Requirement already satisfied: numpy<1.20,>=1.16.0 in c:\\programdata\\anaconda3\\lib\\site-packages (from yellowbrick) (1.19.2)\n",
      "Requirement already satisfied: scipy>=1.0.0 in c:\\programdata\\anaconda3\\lib\\site-packages (from yellowbrick) (1.5.2)\n",
      "Requirement already satisfied: threadpoolctl>=2.0.0 in c:\\programdata\\anaconda3\\lib\\site-packages (from scikit-learn>=0.20->yellowbrick) (2.1.0)\n",
      "Requirement already satisfied: joblib>=0.11 in c:\\programdata\\anaconda3\\lib\\site-packages (from scikit-learn>=0.20->yellowbrick) (0.17.0)\n",
      "Requirement already satisfied: six in c:\\programdata\\anaconda3\\lib\\site-packages (from cycler>=0.10.0->yellowbrick) (1.15.0)\n",
      "Requirement already satisfied: kiwisolver>=1.0.1 in c:\\programdata\\anaconda3\\lib\\site-packages (from matplotlib!=3.0.0,>=2.0.2->yellowbrick) (1.3.0)\n",
      "Requirement already satisfied: python-dateutil>=2.7 in c:\\programdata\\anaconda3\\lib\\site-packages (from matplotlib!=3.0.0,>=2.0.2->yellowbrick) (2.8.1)\n",
      "Requirement already satisfied: pillow>=6.2.0 in c:\\programdata\\anaconda3\\lib\\site-packages (from matplotlib!=3.0.0,>=2.0.2->yellowbrick) (8.0.1)\n",
      "Requirement already satisfied: pyparsing>=2.2.1 in c:\\programdata\\anaconda3\\lib\\site-packages (from matplotlib!=3.0.0,>=2.0.2->yellowbrick) (2.4.7)\n"
     ]
    }
   ],
   "source": [
    "!pip install transformers\n",
    "!pip install yellowbrick"
   ]
  },
  {
   "cell_type": "code",
   "execution_count": 2,
   "metadata": {
    "id": "5m6OJt4A7F-2"
   },
   "outputs": [],
   "source": [
    "%matplotlib inline  "
   ]
  },
  {
   "cell_type": "code",
   "execution_count": 1,
   "metadata": {
    "id": "HEBkdbL86XxC"
   },
   "outputs": [],
   "source": [
    "import io\n",
    "import re\n",
    "import torch\n",
    "import random\n",
    "import math\n",
    "import operator\n",
    "\n",
    "import numpy as np\n",
    "import pandas as pd\n",
    "pd.options.mode.chained_assignment = None  # default='warn'\n",
    "import matplotlib.pyplot as plt\n",
    "import seaborn as sns\n",
    "\n",
    "from os import listdir\n",
    "from os.path import isfile, join\n",
    "from pathlib import Path\n",
    "from tqdm.notebook import tqdm\n",
    "from transformers import BertTokenizer, BertModel\n",
    "from scipy.spatial.distance import cosine, cdist\n",
    "from sklearn.cluster import KMeans\n",
    "from sklearn.decomposition import PCA\n",
    "from yellowbrick.cluster import KElbowVisualizer\n"
   ]
  },
  {
   "cell_type": "markdown",
   "metadata": {
    "id": "HbDt5cZgNplS"
   },
   "source": [
    "## VERIFY VARIABLES (todo delete later.)"
   ]
  },
  {
   "cell_type": "code",
   "execution_count": 11,
   "metadata": {
    "id": "k-5pIayJNr1m"
   },
   "outputs": [],
   "source": [
    "TEST_MODE = False  # if testing, used in some places. If using variable always put a TODO where you use it for easy removal.\n",
    "BERT_DF_EXISTS = False"
   ]
  },
  {
   "cell_type": "markdown",
   "metadata": {
    "id": "aUq__eC9wGMn"
   },
   "source": [
    "## Helper functions"
   ]
  },
  {
   "cell_type": "code",
   "execution_count": 18,
   "metadata": {
    "id": "bYNYu-VWwJrx"
   },
   "outputs": [],
   "source": [
    "def extract_sentences(word, data_df): \n",
    "  \"\"\"\n",
    "  Function that extracts sentences where word appears. \n",
    "\n",
    "  :param string word: word to find in data_df.\n",
    "  :param dataframe data_df: dataframe that contains all sentences to look for word.\n",
    "  :return: two lists [original_index], [sentence] \n",
    "          original_index states the location of sentence in data_df \n",
    "          sentence states the sentence \n",
    "  \"\"\"\n",
    "  found_data_df = data_df[data_df['citation-string'].str.contains(r\"\\b{0}\\b\".format(word), case=False)]\n",
    "  found_data_df.reset_index(drop=True, inplace=True)\n",
    "\n",
    "  return found_data_df.index.values.tolist(), found_data_df['citation-string'].tolist(), found_data_df\n",
    "\n",
    "\n",
    "def flatten_list(_2d_list):\n",
    "    flat_list = []\n",
    "    # Iterate through the outer list\n",
    "    for element in _2d_list:\n",
    "        if type(element) is list:\n",
    "            # If the element is of type list, iterate through the sublist\n",
    "            for item in element:\n",
    "                flat_list.append(item)\n",
    "        else:\n",
    "            flat_list.append(element)\n",
    "    return flat_list\n",
    "\n",
    "\n",
    "def extract_sentence_of_flattened_list(df):\n",
    "  sentences = []\n",
    "  for i in tqdm(range(df.shape[0])):\n",
    "    sentence = [df['citation-string'][i]] * len(df['polysemy-vector'][i])\n",
    "    sentences.extend(sentence)\n",
    "  return sentences      "
   ]
  },
  {
   "cell_type": "markdown",
   "metadata": {
    "id": "zs7X2d-4P5sL"
   },
   "source": [
    "## Dataset"
   ]
  },
  {
   "cell_type": "code",
   "execution_count": 140,
   "metadata": {
    "colab": {
     "base_uri": "https://localhost:8080/",
     "height": 75,
     "resources": {
      "http://localhost:8080/nbextensions/google.colab/files.js": {
       "data": "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",
       "headers": [
        [
         "content-type",
         "application/javascript"
        ]
       ],
       "ok": true,
       "status": 200,
       "status_text": "OK"
      }
     }
    },
    "id": "0GKEGgKZ5FCf",
    "outputId": "1ab024ca-7d94-4e52-cef0-fbbc12e1853a"
   },
   "outputs": [
    {
     "data": {
      "text/html": [
       "\n",
       "     <input type=\"file\" id=\"files-20c9b517-67e5-4e62-8143-a4f55b6b599d\" name=\"files[]\" multiple disabled\n",
       "        style=\"border:none\" />\n",
       "     <output id=\"result-20c9b517-67e5-4e62-8143-a4f55b6b599d\">\n",
       "      Upload widget is only available when the cell has been executed in the\n",
       "      current browser session. Please rerun this cell to enable.\n",
       "      </output>\n",
       "      <script src=\"/nbextensions/google.colab/files.js\"></script> "
      ],
      "text/plain": [
       "<IPython.core.display.HTML object>"
      ]
     },
     "metadata": {},
     "output_type": "display_data"
    },
    {
     "name": "stdout",
     "output_type": "stream",
     "text": [
      "Saving MSH.csv to MSH.csv\n"
     ]
    }
   ],
   "source": [
    "uploaded = files.upload()  # opens explorer to select data "
   ]
  },
  {
   "cell_type": "code",
   "execution_count": 13,
   "metadata": {
    "colab": {
     "base_uri": "https://localhost:8080/"
    },
    "id": "EzWXc6Ew_Hwr",
    "outputId": "a695e0ec-ca6f-442f-f57d-99ece4a9532a"
   },
   "outputs": [
    {
     "data": {
      "text/html": [
       "<div>\n",
       "<style scoped>\n",
       "    .dataframe tbody tr th:only-of-type {\n",
       "        vertical-align: middle;\n",
       "    }\n",
       "\n",
       "    .dataframe tbody tr th {\n",
       "        vertical-align: top;\n",
       "    }\n",
       "\n",
       "    .dataframe thead th {\n",
       "        text-align: right;\n",
       "    }\n",
       "</style>\n",
       "<table border=\"1\" class=\"dataframe\">\n",
       "  <thead>\n",
       "    <tr style=\"text-align: right;\">\n",
       "      <th></th>\n",
       "      <th>PMID-integer</th>\n",
       "      <th>citation-string</th>\n",
       "      <th>class</th>\n",
       "    </tr>\n",
       "  </thead>\n",
       "  <tbody>\n",
       "    <tr>\n",
       "      <th>0</th>\n",
       "      <td>2327</td>\n",
       "      <td>Partial purification and properties of protea...</td>\n",
       "      <td>M2</td>\n",
       "    </tr>\n",
       "    <tr>\n",
       "      <th>1</th>\n",
       "      <td>8893</td>\n",
       "      <td>Isolation and properties of yeast mutants with...</td>\n",
       "      <td>M2</td>\n",
       "    </tr>\n",
       "    <tr>\n",
       "      <th>2</th>\n",
       "      <td>23355</td>\n",
       "      <td>Amyloglucosidase production by Torula thermoph...</td>\n",
       "      <td>M2</td>\n",
       "    </tr>\n",
       "    <tr>\n",
       "      <th>3</th>\n",
       "      <td>51839</td>\n",
       "      <td>Tumor growth inhibition by ammonium chloride-i...</td>\n",
       "      <td>M1</td>\n",
       "    </tr>\n",
       "    <tr>\n",
       "      <th>4</th>\n",
       "      <td>67092</td>\n",
       "      <td>Comparison of human stratum corneum, callus an...</td>\n",
       "      <td>M2</td>\n",
       "    </tr>\n",
       "  </tbody>\n",
       "</table>\n",
       "</div>"
      ],
      "text/plain": [
       "   PMID-integer                                    citation-string class\n",
       "0          2327   Partial purification and properties of protea...    M2\n",
       "1          8893  Isolation and properties of yeast mutants with...    M2\n",
       "2         23355  Amyloglucosidase production by Torula thermoph...    M2\n",
       "3         51839  Tumor growth inhibition by ammonium chloride-i...    M1\n",
       "4         67092  Comparison of human stratum corneum, callus an...    M2"
      ]
     },
     "execution_count": 13,
     "metadata": {},
     "output_type": "execute_result"
    }
   ],
   "source": [
    "csv_file = \"MSH_subset.csv\" if TEST_MODE else \"MSH.csv\"  # Check filename is correct. Especially if you upload multiple times. # TODO DELETE IF STATEMENT.\n",
    "# msh_data = pd.read_csv(io.BytesIO(uploaded[csv_file])) # the main cleaned dataset\n",
    "msh_data = pd.read_csv(csv_file)\n",
    "assert len(extract_sentences(\"<e>\", msh_data)[0]) == 0 # ensure there are no \"<e>\" characters anymore.\n",
    "assert len(extract_sentences(\"</e>\", msh_data)[0]) == 0 # ensure there are no \"</e>\" characters anymore.\n",
    "\n",
    "msh_data.head()"
   ]
  },
  {
   "cell_type": "code",
   "execution_count": 43,
   "metadata": {},
   "outputs": [],
   "source": [
    "occurrence_data = msh_data.copy(deep=True)\n",
    "occurrence_data['citation-string'] = occurrence_data[\"citation-string\"].str.replace('[^a-zA-Z ]', '')  # remove numerical\n",
    "occurrence_dict = {}\n",
    "\n",
    "for citation_string in occurrence_data['citation-string']:\n",
    "\n",
    "  occur_split_sentences = citation_string.split(\" \")\n",
    "\n",
    "  for occur_split_sentence in occur_split_sentences:\n",
    "      occur_split_sentence = occur_split_sentence.lower()  # convert to lower case\n",
    "      if occur_split_sentence == \"\":  # split might include empty string\n",
    "          pass\n",
    "      else:\n",
    "          if occur_split_sentence in occurrence_dict:  # if key alreayd exists.\n",
    "              occurrence_dict[occur_split_sentence] += 1\n",
    "          else:\n",
    "              occurrence_dict[occur_split_sentence] = 1"
   ]
  },
  {
   "cell_type": "code",
   "execution_count": 44,
   "metadata": {},
   "outputs": [
    {
     "data": {
      "text/plain": [
       "[('the', 360427),\n",
       " ('of', 320241),\n",
       " ('and', 254831),\n",
       " ('in', 209566),\n",
       " ('to', 124410),\n",
       " ('a', 111643),\n",
       " ('with', 87133),\n",
       " ('for', 64177),\n",
       " ('was', 63299),\n",
       " ('were', 59635),\n",
       " ('that', 49128),\n",
       " ('by', 49114),\n",
       " ('is', 45652),\n",
       " ('on', 34954),\n",
       " ('from', 33128),\n",
       " ('as', 32814),\n",
       " ('patients', 28725),\n",
       " ('or', 27437),\n",
       " ('this', 27198),\n",
       " ('at', 24573),\n",
       " ('an', 24357),\n",
       " ('are', 23013),\n",
       " ('we', 21816),\n",
       " ('be', 21768),\n",
       " ('cells', 19893),\n",
       " ('results', 18166),\n",
       " ('not', 17800),\n",
       " ('these', 17746),\n",
       " ('study', 17429),\n",
       " ('p', 15020),\n",
       " ('after', 13799),\n",
       " ('have', 13746),\n",
       " ('cell', 13489),\n",
       " ('between', 13414),\n",
       " ('which', 13276),\n",
       " ('than', 12599),\n",
       " ('treatment', 12007),\n",
       " ('using', 11963),\n",
       " ('but', 11599),\n",
       " ('expression', 10940),\n",
       " ('both', 10685),\n",
       " ('group', 10597),\n",
       " ('been', 10394),\n",
       " ('also', 10383),\n",
       " ('may', 10192),\n",
       " ('during', 10056),\n",
       " ('protein', 10053),\n",
       " ('two', 9894),\n",
       " ('has', 9852),\n",
       " ('had', 9448),\n",
       " ('all', 9440),\n",
       " ('activity', 9269),\n",
       " ('no', 9174),\n",
       " ('it', 9121),\n",
       " ('their', 9118),\n",
       " ('used', 8950),\n",
       " ('increased', 8902),\n",
       " ('disease', 8875),\n",
       " ('analysis', 8831),\n",
       " ('levels', 8639),\n",
       " ('human', 8550),\n",
       " ('significantly', 8529),\n",
       " ('more', 8395),\n",
       " ('gene', 8331),\n",
       " ('clinical', 8188),\n",
       " ('associated', 8171),\n",
       " ('compared', 8142),\n",
       " ('effects', 8127),\n",
       " ('methods', 8093),\n",
       " ('can', 8012),\n",
       " ('effect', 7979),\n",
       " ('other', 7949),\n",
       " ('showed', 7834),\n",
       " ('found', 7766),\n",
       " ('data', 7765),\n",
       " ('significant', 7470),\n",
       " ('mice', 7261),\n",
       " ('control', 7213),\n",
       " ('its', 7083),\n",
       " ('different', 7018),\n",
       " ('one', 6684),\n",
       " ('high', 6670),\n",
       " ('however', 6456),\n",
       " ('into', 6432),\n",
       " ('higher', 6405),\n",
       " ('observed', 6210),\n",
       " ('studies', 6180),\n",
       " ('our', 6132),\n",
       " ('only', 6111),\n",
       " ('lt', 6097),\n",
       " ('response', 6058),\n",
       " ('when', 5920),\n",
       " ('most', 5917),\n",
       " ('cases', 5908),\n",
       " ('there', 5785),\n",
       " ('role', 5772),\n",
       " ('years', 5763),\n",
       " ('blood', 5675),\n",
       " ('n', 5643),\n",
       " ('c', 5623),\n",
       " ('dna', 5611),\n",
       " ('risk', 5594),\n",
       " ('use', 5557),\n",
       " ('respectively', 5535),\n",
       " ('three', 5479),\n",
       " ('groups', 5463),\n",
       " ('present', 5442),\n",
       " ('model', 5361),\n",
       " ('time', 5304),\n",
       " ('among', 5294),\n",
       " ('t', 5292),\n",
       " ('cancer', 5249),\n",
       " ('age', 5229),\n",
       " ('system', 5197),\n",
       " ('such', 5193),\n",
       " ('changes', 5107),\n",
       " ('well', 5050),\n",
       " ('development', 5035),\n",
       " ('acid', 5023),\n",
       " ('b', 5004),\n",
       " ('growth', 4998),\n",
       " ('rate', 4931),\n",
       " ('increase', 4920),\n",
       " ('function', 4832),\n",
       " ('factor', 4767),\n",
       " ('those', 4735),\n",
       " ('total', 4689),\n",
       " ('type', 4670),\n",
       " ('normal', 4666),\n",
       " ('h', 4644),\n",
       " ('new', 4632),\n",
       " ('first', 4625),\n",
       " ('children', 4561),\n",
       " ('who', 4550),\n",
       " ('infection', 4545),\n",
       " ('tumor', 4449),\n",
       " ('level', 4378),\n",
       " ('within', 4337),\n",
       " ('samples', 4330),\n",
       " ('method', 4308),\n",
       " ('could', 4307),\n",
       " ('factors', 4305),\n",
       " ('genes', 4285),\n",
       " ('conclusion', 4263),\n",
       " ('patient', 4249),\n",
       " ('low', 4232),\n",
       " ('rats', 4186),\n",
       " ('therapy', 4175),\n",
       " ('suggest', 4171),\n",
       " ('conclusions', 4139),\n",
       " ('did', 4119),\n",
       " ('proteins', 4097),\n",
       " ('without', 4089),\n",
       " ('days', 4088),\n",
       " ('identified', 4086),\n",
       " ('potential', 4067),\n",
       " ('species', 4058),\n",
       " ('number', 4051),\n",
       " ('receptor', 4045),\n",
       " ('tissue', 4028),\n",
       " ('presence', 4024),\n",
       " ('important', 4014),\n",
       " ('through', 4010),\n",
       " ('reduced', 3996),\n",
       " ('mean', 3976),\n",
       " ('concentrations', 3974),\n",
       " ('lower', 3969),\n",
       " ('including', 3937),\n",
       " ('findings', 3918),\n",
       " ('each', 3916),\n",
       " ('women', 3912),\n",
       " ('serum', 3906),\n",
       " ('syndrome', 3899),\n",
       " ('induced', 3871),\n",
       " ('performed', 3870),\n",
       " ('health', 3862),\n",
       " ('while', 3856),\n",
       " ('specific', 3829),\n",
       " ('test', 3807),\n",
       " ('decreased', 3730),\n",
       " ('s', 3706),\n",
       " ('diagnosis', 3674),\n",
       " ('activation', 3670),\n",
       " ('similar', 3666),\n",
       " ('based', 3602),\n",
       " ('virus', 3598),\n",
       " ('production', 3575),\n",
       " ('cd', 3540),\n",
       " ('primary', 3525),\n",
       " ('months', 3521),\n",
       " ('further', 3502),\n",
       " ('reported', 3502),\n",
       " ('case', 3487),\n",
       " ('against', 3484),\n",
       " ('i', 3456),\n",
       " ('addition', 3456),\n",
       " ('binding', 3455),\n",
       " ('positive', 3427),\n",
       " ('treated', 3426),\n",
       " ('differences', 3421),\n",
       " ('subjects', 3409),\n",
       " ('vitro', 3400),\n",
       " ('show', 3366),\n",
       " ('concentration', 3365),\n",
       " ('measured', 3359),\n",
       " ('il', 3355),\n",
       " ('early', 3349),\n",
       " ('some', 3337),\n",
       " ('detected', 3293),\n",
       " ('revealed', 3282),\n",
       " ('although', 3275),\n",
       " ('d', 3272),\n",
       " ('hiv', 3234),\n",
       " ('investigated', 3218),\n",
       " ('over', 3211),\n",
       " ('responses', 3205),\n",
       " ('they', 3200),\n",
       " ('following', 3198),\n",
       " ('studied', 3188),\n",
       " ('due', 3171),\n",
       " ('drug', 3159),\n",
       " ('acute', 3148),\n",
       " ('examined', 3146),\n",
       " ('obtained', 3143),\n",
       " ('mutations', 3142),\n",
       " ('ca', 3139),\n",
       " ('determined', 3103),\n",
       " ('evidence', 3097),\n",
       " ('complex', 3095),\n",
       " ('chronic', 3095),\n",
       " ('less', 3091),\n",
       " ('formation', 3086),\n",
       " ('molecular', 3083),\n",
       " ('plasma', 3076),\n",
       " ('under', 3069),\n",
       " ('about', 3056),\n",
       " ('water', 2995),\n",
       " ('demonstrated', 2979),\n",
       " ('related', 2977),\n",
       " ('bone', 2962),\n",
       " ('surface', 2952),\n",
       " ('four', 2950),\n",
       " ('whereas', 2943),\n",
       " ('genetic', 2931),\n",
       " ('exposure', 2929),\n",
       " ('day', 2909),\n",
       " ('region', 2885),\n",
       " ('developed', 2867),\n",
       " ('report', 2853),\n",
       " ('determine', 2847),\n",
       " ('evaluated', 2843),\n",
       " ('period', 2811),\n",
       " ('population', 2809),\n",
       " ('ci', 2808),\n",
       " ('either', 2805),\n",
       " ('major', 2774),\n",
       " ('common', 2765),\n",
       " ('range', 2758),\n",
       " ('vivo', 2735),\n",
       " ('whether', 2734),\n",
       " ('several', 2729),\n",
       " ('mm', 2712),\n",
       " ('gt', 2705),\n",
       " ('detection', 2702),\n",
       " ('conditions', 2700),\n",
       " ('known', 2699),\n",
       " ('involved', 2680),\n",
       " ('should', 2679),\n",
       " ('thus', 2673),\n",
       " ('controls', 2648),\n",
       " ('novel', 2642),\n",
       " ('x', 2640),\n",
       " ('before', 2636),\n",
       " ('tumors', 2635),\n",
       " ('liver', 2631),\n",
       " ('here', 2629),\n",
       " ('small', 2620),\n",
       " ('values', 2618),\n",
       " ('dose', 2615),\n",
       " ('brain', 2591),\n",
       " ('ii', 2589),\n",
       " ('effective', 2581),\n",
       " ('cardiac', 2567),\n",
       " ('skin', 2560),\n",
       " ('inhibition', 2557),\n",
       " ('isolated', 2552),\n",
       " ('large', 2544),\n",
       " ('membrane', 2537),\n",
       " ('assay', 2532),\n",
       " ('shown', 2528),\n",
       " ('per', 2525),\n",
       " ('association', 2525),\n",
       " ('functional', 2506),\n",
       " ('single', 2504),\n",
       " ('vs', 2499),\n",
       " ('rates', 2494),\n",
       " ('analyzed', 2492),\n",
       " ('weeks', 2489),\n",
       " ('same', 2487),\n",
       " ('breast', 2476),\n",
       " ('mrna', 2465),\n",
       " ('caused', 2458),\n",
       " ('mechanism', 2448),\n",
       " ('ratio', 2434),\n",
       " ('survival', 2433),\n",
       " ('body', 2432),\n",
       " ('because', 2421),\n",
       " ('immune', 2415),\n",
       " ('greater', 2412),\n",
       " ('mechanisms', 2395),\n",
       " ('lung', 2393),\n",
       " ('severe', 2384),\n",
       " ('care', 2376),\n",
       " ('strains', 2374),\n",
       " ('expressed', 2341),\n",
       " ('structure', 2337),\n",
       " ('provide', 2335),\n",
       " ('mouse', 2331),\n",
       " ('symptoms', 2331),\n",
       " ('various', 2328),\n",
       " ('m', 2322),\n",
       " ('stress', 2322),\n",
       " ('lesions', 2302),\n",
       " ('l', 2302),\n",
       " ('included', 2301),\n",
       " ('healthy', 2298),\n",
       " ('plt', 2289),\n",
       " ('possible', 2287),\n",
       " ('tested', 2268),\n",
       " ('indicate', 2264),\n",
       " ('current', 2254),\n",
       " ('loss', 2253),\n",
       " ('muscle', 2249),\n",
       " ('multiple', 2246),\n",
       " ('any', 2245),\n",
       " ('previously', 2240),\n",
       " ('reaction', 2229),\n",
       " ('animals', 2223),\n",
       " ('assessed', 2217),\n",
       " ('research', 2215),\n",
       " ('administration', 2208),\n",
       " ('reduction', 2200),\n",
       " ('process', 2198),\n",
       " ('many', 2175),\n",
       " ('g', 2169),\n",
       " ('size', 2167),\n",
       " ('rat', 2165),\n",
       " ('information', 2157),\n",
       " ('mass', 2157),\n",
       " ('renal', 2156),\n",
       " ('experimental', 2155),\n",
       " ('sequence', 2142),\n",
       " ('sensitivity', 2129),\n",
       " ('will', 2119),\n",
       " ('imaging', 2106),\n",
       " ('site', 2104),\n",
       " ('year', 2103),\n",
       " ('diseases', 2089),\n",
       " ('mutation', 2088),\n",
       " ('enzyme', 2086),\n",
       " ('release', 2084),\n",
       " ('mg', 2082),\n",
       " ('prevalence', 2072),\n",
       " ('area', 2066),\n",
       " ('phase', 2061),\n",
       " ('if', 2061),\n",
       " ('out', 2059),\n",
       " ('heart', 2058),\n",
       " ('e', 2039),\n",
       " ('highly', 2037),\n",
       " ('antibodies', 2037),\n",
       " ('negative', 2035),\n",
       " ('approximately', 2033),\n",
       " ('form', 2031),\n",
       " ('resistance', 2031),\n",
       " ('contrast', 2029),\n",
       " ('characterized', 2025),\n",
       " ('active', 2024),\n",
       " ('evaluate', 2016),\n",
       " ('individuals', 2010),\n",
       " ('investigate', 2008),\n",
       " ('models', 2005),\n",
       " ('decrease', 2004),\n",
       " ('difference', 2001),\n",
       " ('features', 1999),\n",
       " ('degrees', 1998),\n",
       " ('therefore', 1998),\n",
       " ('required', 1994),\n",
       " ('sites', 1991),\n",
       " ('family', 1988),\n",
       " ('evaluation', 1985),\n",
       " ('weight', 1977),\n",
       " ('five', 1977),\n",
       " ('influence', 1973),\n",
       " ('cellular', 1970),\n",
       " ('combination', 1969),\n",
       " ('review', 1952),\n",
       " ('design', 1944),\n",
       " ('central', 1937),\n",
       " ('support', 1936),\n",
       " ('respiratory', 1936),\n",
       " ('death', 1930),\n",
       " ('receptors', 1930),\n",
       " ('result', 1929),\n",
       " ('neurons', 1918),\n",
       " ('change', 1917),\n",
       " ('pressure', 1917),\n",
       " ('parameters', 1913),\n",
       " ('content', 1909),\n",
       " ('male', 1907),\n",
       " ('via', 1905),\n",
       " ('aim', 1903),\n",
       " ('vaccine', 1899),\n",
       " ('properties', 1892),\n",
       " ('objective', 1882),\n",
       " ('flow', 1880),\n",
       " ('r', 1873),\n",
       " ('antibody', 1870),\n",
       " ('overall', 1869),\n",
       " ('pathway', 1863),\n",
       " ('status', 1862),\n",
       " ('alcohol', 1854),\n",
       " ('adult', 1853),\n",
       " ('produced', 1851),\n",
       " ('approach', 1851),\n",
       " ('comparison', 1850),\n",
       " ('adrenal', 1850),\n",
       " ('carcinoma', 1841),\n",
       " ('female', 1840),\n",
       " ('pain', 1840),\n",
       " ('activities', 1837),\n",
       " ('distribution', 1835),\n",
       " ('followed', 1833),\n",
       " ('relationship', 1833),\n",
       " ('cause', 1833),\n",
       " ('followup', 1829),\n",
       " ('medical', 1804),\n",
       " ('received', 1793),\n",
       " ('relative', 1791),\n",
       " ('strain', 1789),\n",
       " ('very', 1786),\n",
       " ('intake', 1786),\n",
       " ('frequency', 1780),\n",
       " ('affected', 1777),\n",
       " ('presented', 1770),\n",
       " ('up', 1764),\n",
       " ('containing', 1764),\n",
       " ('suggesting', 1764),\n",
       " ('correlation', 1761),\n",
       " ('regions', 1752),\n",
       " ('incidence', 1750),\n",
       " ('outcome', 1747),\n",
       " ('oral', 1744),\n",
       " ('interaction', 1744),\n",
       " ('index', 1731),\n",
       " ('second', 1727),\n",
       " ('might', 1722),\n",
       " ('likely', 1720),\n",
       " ('characteristics', 1720),\n",
       " ('min', 1718),\n",
       " ('confirmed', 1717),\n",
       " ('mortality', 1714),\n",
       " ('quality', 1714),\n",
       " ('diet', 1713),\n",
       " ('signaling', 1707),\n",
       " ('types', 1704),\n",
       " ('standard', 1703),\n",
       " ('proliferation', 1703),\n",
       " ('six', 1702),\n",
       " ('milk', 1702),\n",
       " ('ability', 1700),\n",
       " ('value', 1699),\n",
       " ('combined', 1692),\n",
       " ('synthesis', 1691),\n",
       " ('demonstrate', 1690),\n",
       " ('enhanced', 1689),\n",
       " ('identify', 1687),\n",
       " ('collected', 1684),\n",
       " ('target', 1682),\n",
       " ('considered', 1682),\n",
       " ('tissues', 1681),\n",
       " ('being', 1680),\n",
       " ('volume', 1677),\n",
       " ('stage', 1668),\n",
       " ('described', 1665),\n",
       " ('then', 1664),\n",
       " ('rna', 1664),\n",
       " ('order', 1661),\n",
       " ('therapeutic', 1661),\n",
       " ('us', 1659),\n",
       " ('disorder', 1653),\n",
       " ('indicated', 1648),\n",
       " ('kinase', 1647),\n",
       " ('part', 1645),\n",
       " ('regulation', 1644),\n",
       " ('furthermore', 1643),\n",
       " ('efficacy', 1640),\n",
       " ('work', 1639),\n",
       " ('k', 1639),\n",
       " ('viral', 1638),\n",
       " ('inhibited', 1636),\n",
       " ('available', 1632),\n",
       " ('increases', 1631),\n",
       " ('systems', 1631),\n",
       " ('essential', 1629),\n",
       " ('sodium', 1627),\n",
       " ('main', 1623),\n",
       " ('infected', 1622),\n",
       " ('identification', 1621),\n",
       " ('ph', 1618),\n",
       " ('culture', 1616),\n",
       " ('compounds', 1614),\n",
       " ('lines', 1614),\n",
       " ('resulted', 1612),\n",
       " ('pattern', 1608),\n",
       " ('analyses', 1604),\n",
       " ('drugs', 1603),\n",
       " ('recent', 1593),\n",
       " ('nuclear', 1593),\n",
       " ('mutant', 1590),\n",
       " ('impact', 1580),\n",
       " ('sample', 1579),\n",
       " ('increasing', 1577),\n",
       " ('injection', 1570),\n",
       " ('pulmonary', 1563),\n",
       " ('correlated', 1562),\n",
       " ('apoptosis', 1562),\n",
       " ('state', 1561),\n",
       " ('peripheral', 1559),\n",
       " ('f', 1556),\n",
       " ('induction', 1548),\n",
       " ('median', 1546),\n",
       " ('disorders', 1543),\n",
       " ('performance', 1543),\n",
       " ('damage', 1542),\n",
       " ('andor', 1538),\n",
       " ('previous', 1538),\n",
       " ('chain', 1538),\n",
       " ('pcr', 1534),\n",
       " ('inflammatory', 1532),\n",
       " ('microm', 1530),\n",
       " ('failure', 1530),\n",
       " ('inhibitor', 1526),\n",
       " ('tests', 1526),\n",
       " ('least', 1525),\n",
       " ('complete', 1525),\n",
       " ('assess', 1518),\n",
       " ('direct', 1516),\n",
       " ('management', 1515),\n",
       " ('average', 1514),\n",
       " ('infections', 1513),\n",
       " ('diagnostic', 1513),\n",
       " ('stimulation', 1510),\n",
       " ('since', 1510),\n",
       " ('differentiation', 1508),\n",
       " ('conducted', 1498),\n",
       " ('experiments', 1490),\n",
       " ('given', 1489),\n",
       " ('where', 1487),\n",
       " ('suggests', 1485),\n",
       " ('surgery', 1482),\n",
       " ('wt', 1482),\n",
       " ('sequences', 1477),\n",
       " ('areas', 1475),\n",
       " ('men', 1466),\n",
       " ('initial', 1465),\n",
       " ('examination', 1463),\n",
       " ('hospital', 1462),\n",
       " ('patterns', 1460),\n",
       " ('assessment', 1460),\n",
       " ('platelet', 1460),\n",
       " ('useful', 1460),\n",
       " ('better', 1458),\n",
       " ('calcium', 1456),\n",
       " ('even', 1446),\n",
       " ('improved', 1446),\n",
       " ('cp', 1444),\n",
       " ('domain', 1444),\n",
       " ('baseline', 1433),\n",
       " ('longterm', 1429),\n",
       " ('markers', 1427),\n",
       " ('versus', 1425),\n",
       " ('participants', 1425),\n",
       " ('amino', 1424),\n",
       " ('alpha', 1424),\n",
       " ('additional', 1421),\n",
       " ('agents', 1420),\n",
       " ('applied', 1420),\n",
       " ('general', 1419),\n",
       " ('transmission', 1419),\n",
       " ('according', 1418),\n",
       " ('seen', 1416),\n",
       " ('would', 1413),\n",
       " ('biological', 1408),\n",
       " ('dietary', 1408),\n",
       " ('interactions', 1403),\n",
       " ('does', 1400),\n",
       " ('injury', 1392),\n",
       " ('elevated', 1390),\n",
       " ('th', 1389),\n",
       " ('mgkg', 1388),\n",
       " ('events', 1385),\n",
       " ('left', 1385),\n",
       " ('how', 1383),\n",
       " ('suggested', 1381),\n",
       " ('occurred', 1380),\n",
       " ('life', 1378),\n",
       " ('chromosome', 1375),\n",
       " ('measures', 1373),\n",
       " ('ventricular', 1372),\n",
       " ('screening', 1370),\n",
       " ('structural', 1369),\n",
       " ('iron', 1364),\n",
       " ('bacterial', 1360),\n",
       " ('absence', 1359),\n",
       " ('often', 1357),\n",
       " ('basis', 1357),\n",
       " ('established', 1356),\n",
       " ('nm', 1353),\n",
       " ('technique', 1352),\n",
       " ('consistent', 1352),\n",
       " ('thyroid', 1349),\n",
       " ('electron', 1344),\n",
       " ('transcription', 1344),\n",
       " ('products', 1344),\n",
       " ('vascular', 1339),\n",
       " ('ra', 1338),\n",
       " ('measurements', 1336),\n",
       " ('delivery', 1334),\n",
       " ('rapid', 1332),\n",
       " ('fish', 1330),\n",
       " ('knowledge', 1330),\n",
       " ('radiation', 1329),\n",
       " ('recently', 1326),\n",
       " ('times', 1324),\n",
       " ('secretion', 1322),\n",
       " ('populations', 1321),\n",
       " ('temperature', 1320),\n",
       " ('them', 1317),\n",
       " ('individual', 1314),\n",
       " ('made', 1313),\n",
       " ('recombinant', 1313),\n",
       " ('microscopy', 1312),\n",
       " ('stem', 1307),\n",
       " ('processes', 1306),\n",
       " ('functions', 1306),\n",
       " ('physical', 1304),\n",
       " ('alone', 1302),\n",
       " ('peptide', 1300),\n",
       " ('outcomes', 1300),\n",
       " ('natural', 1296),\n",
       " ('exposed', 1293),\n",
       " ('aa', 1292),\n",
       " ('history', 1291),\n",
       " ('action', 1290),\n",
       " ('purpose', 1287),\n",
       " ('antigen', 1287),\n",
       " ('key', 1286),\n",
       " ('independent', 1281),\n",
       " ('local', 1281),\n",
       " ('infants', 1279),\n",
       " ('components', 1278),\n",
       " ('light', 1278),\n",
       " ('adults', 1278),\n",
       " ('application', 1275),\n",
       " ('systemic', 1271),\n",
       " ('affect', 1270),\n",
       " ('selected', 1269),\n",
       " ('daily', 1268),\n",
       " ('fold', 1266),\n",
       " ('energy', 1266),\n",
       " ('resulting', 1265),\n",
       " ('root', 1265),\n",
       " ('together', 1264),\n",
       " ('capacity', 1262),\n",
       " ('isolates', 1259),\n",
       " ('food', 1253),\n",
       " ('understanding', 1252),\n",
       " ('intracellular', 1251),\n",
       " ('transport', 1244),\n",
       " ('uptake', 1243),\n",
       " ('molecules', 1242),\n",
       " ('secondary', 1241),\n",
       " ('animal', 1240),\n",
       " ('rare', 1236),\n",
       " ('sex', 1235),\n",
       " ('density', 1235),\n",
       " ('distinct', 1235),\n",
       " ('pcp', 1235),\n",
       " ('testing', 1230),\n",
       " ('replication', 1229),\n",
       " ('play', 1227),\n",
       " ('solution', 1223),\n",
       " ('induce', 1218),\n",
       " ('progression', 1217),\n",
       " ('moreover', 1216),\n",
       " ('fluid', 1216),\n",
       " ('diabetes', 1216),\n",
       " ('materials', 1214),\n",
       " ('metabolism', 1212),\n",
       " ('exercise', 1210),\n",
       " ('acids', 1208),\n",
       " ('need', 1208),\n",
       " ('field', 1207),\n",
       " ('inflammation', 1206),\n",
       " ('consumption', 1205),\n",
       " ('accumulation', 1201),\n",
       " ('indicating', 1201),\n",
       " ('highest', 1200),\n",
       " ('host', 1199),\n",
       " ('especially', 1198),\n",
       " ('phosphorylation', 1194),\n",
       " ('pathways', 1192),\n",
       " ('good', 1192),\n",
       " ('structures', 1185),\n",
       " ('signal', 1180),\n",
       " ('beta', 1179),\n",
       " ('regression', 1179),\n",
       " ('activated', 1178),\n",
       " ('future', 1178),\n",
       " ('specificity', 1176),\n",
       " ('line', 1175),\n",
       " ('coronary', 1174),\n",
       " ('murine', 1172),\n",
       " ('chemotherapy', 1172),\n",
       " ('ct', 1170),\n",
       " ('sensitive', 1169),\n",
       " ('quantitative', 1165),\n",
       " ('critical', 1165),\n",
       " ('despite', 1162),\n",
       " ('administered', 1160),\n",
       " ('practice', 1160),\n",
       " ('derived', 1159),\n",
       " ('hormone', 1157),\n",
       " ('trial', 1157),\n",
       " ('do', 1156),\n",
       " ('interval', 1152),\n",
       " ('exhibited', 1152),\n",
       " ('endothelial', 1152),\n",
       " ('improve', 1150),\n",
       " ('duration', 1146),\n",
       " ('doses', 1145),\n",
       " ('toxicity', 1142),\n",
       " ('lead', 1139),\n",
       " ('provides', 1138),\n",
       " ('involvement', 1137),\n",
       " ('describe', 1135),\n",
       " ('laboratory', 1134),\n",
       " ('lipid', 1133),\n",
       " ('score', 1133),\n",
       " ('diagnosed', 1132),\n",
       " ('limited', 1130),\n",
       " ('breastfeeding', 1125),\n",
       " ('criteria', 1124),\n",
       " ('techniques', 1120),\n",
       " ('iii', 1119),\n",
       " ('intervention', 1119),\n",
       " ('characterization', 1117),\n",
       " ('glucose', 1115),\n",
       " ('training', 1114),\n",
       " ('leukemia', 1113),\n",
       " ('cycle', 1110),\n",
       " ('treatments', 1108),\n",
       " ('dental', 1108),\n",
       " ('upon', 1107),\n",
       " ('chemical', 1106),\n",
       " ('taken', 1104),\n",
       " ('reduce', 1103),\n",
       " ('epithelial', 1103),\n",
       " ('fatty', 1102),\n",
       " ('strong', 1101),\n",
       " ('free', 1101),\n",
       " ('cortical', 1099),\n",
       " ('hr', 1098),\n",
       " ('pregnancy', 1097),\n",
       " ('abnormalities', 1096),\n",
       " ('proposed', 1095),\n",
       " ('still', 1094),\n",
       " ('week', 1091),\n",
       " ('inhibitors', 1090),\n",
       " ('causes', 1090),\n",
       " ('across', 1089),\n",
       " ('fluorescence', 1085),\n",
       " ('agent', 1084),\n",
       " ('estimated', 1080),\n",
       " ('behavior', 1078),\n",
       " ('surgical', 1077),\n",
       " ('literature', 1076),\n",
       " ('pathogenesis', 1075),\n",
       " ('young', 1075),\n",
       " ('defined', 1072),\n",
       " ('bacteria', 1070),\n",
       " ('dysfunction', 1064),\n",
       " ('specimens', 1063),\n",
       " ('provided', 1061),\n",
       " ('length', 1061),\n",
       " ('forms', 1060),\n",
       " ('carried', 1058),\n",
       " ('develop', 1058),\n",
       " ('resonance', 1055),\n",
       " ('end', 1054),\n",
       " ('developing', 1051),\n",
       " ('wildtype', 1050),\n",
       " ('statistically', 1050),\n",
       " ('states', 1050),\n",
       " ('teeth', 1049),\n",
       " ('females', 1048),\n",
       " ('enzymes', 1047),\n",
       " ('material', 1045),\n",
       " ('series', 1041),\n",
       " ('phenotype', 1040),\n",
       " ('iv', 1039),\n",
       " ('hypothesis', 1039),\n",
       " ('cardiovascular', 1039),\n",
       " ('inhibitory', 1038),\n",
       " ('severity', 1038),\n",
       " ('recovery', 1037),\n",
       " ('marrow', 1035),\n",
       " ('trials', 1035),\n",
       " ('stable', 1033),\n",
       " ('class', 1033),\n",
       " ('physiological', 1030),\n",
       " ('aged', 1030),\n",
       " ('medium', 1029),\n",
       " ('paper', 1027),\n",
       " ('tolerance', 1026),\n",
       " ('long', 1023),\n",
       " ('contribute', 1022),\n",
       " ('onset', 1021),\n",
       " ('so', 1019),\n",
       " ('cm', 1019),\n",
       " ('dependent', 1018),\n",
       " ('prior', 1018),\n",
       " ('artery', 1017),\n",
       " ('variation', 1017),\n",
       " ('fa', 1016),\n",
       " ('right', 1015),\n",
       " ('reference', 1014),\n",
       " ('able', 1013),\n",
       " ('procedure', 1010),\n",
       " ('examine', 1008),\n",
       " ('ip', 1007),\n",
       " ('seven', 1005),\n",
       " ('anterior', 1004),\n",
       " ('course', 1004),\n",
       " ('ifngamma', 1004),\n",
       " ('complications', 1002),\n",
       " ('western', 1002),\n",
       " ('complexes', 1001),\n",
       " ('magnetic', 1000),\n",
       " ('hybridization', 998),\n",
       " ('mediated', 997),\n",
       " ('marker', 997),\n",
       " ('mainly', 997),\n",
       " ('program', 996),\n",
       " ('coli', 995),\n",
       " ('fetal', 994),\n",
       " ('investigation', 994),\n",
       " ('v', 993),\n",
       " ('kidney', 993),\n",
       " ('frequently', 991),\n",
       " ('little', 991),\n",
       " ('ie', 990),\n",
       " ('source', 990),\n",
       " ('importance', 989),\n",
       " ('directly', 989),\n",
       " ('ala', 987),\n",
       " ('lack', 986),\n",
       " ('calculated', 986),\n",
       " ('bovine', 985),\n",
       " ('underwent', 985),\n",
       " ('controlled', 984),\n",
       " ('achieved', 983),\n",
       " ('cortex', 982),\n",
       " ('males', 981),\n",
       " ('oxygen', 981),\n",
       " ('cns', 980),\n",
       " ('cad', 980),\n",
       " ('point', 979),\n",
       " ('percentage', 978),\n",
       " ('conventional', 978),\n",
       " ('randomized', 977),\n",
       " ('retinal', 976),\n",
       " ('condition', 975),\n",
       " ('hours', 975),\n",
       " ('amount', 974),\n",
       " ('malignant', 974),\n",
       " ('responsible', 973),\n",
       " ('remains', 972),\n",
       " ('cultures', 969),\n",
       " ('yearold', 969),\n",
       " ('recorded', 968),\n",
       " ('cultured', 968),\n",
       " ('transfer', 966),\n",
       " ('subsequent', 966),\n",
       " ('lens', 966),\n",
       " ('discussed', 964),\n",
       " ('cohort', 961),\n",
       " ('regulatory', 960),\n",
       " ('selective', 959),\n",
       " ('relatively', 958),\n",
       " ('strategies', 958),\n",
       " ('prevention', 958),\n",
       " ('along', 957),\n",
       " ('ion', 956),\n",
       " ('component', 956),\n",
       " ('humans', 956),\n",
       " ('maximum', 955),\n",
       " ('metabolic', 955),\n",
       " ('partial', 953),\n",
       " ('eight', 953),\n",
       " ('fever', 951),\n",
       " ('include', 951),\n",
       " ('stages', 950),\n",
       " ('differential', 950),\n",
       " ('nerve', 950),\n",
       " ('few', 950),\n",
       " ('joint', 949),\n",
       " ('degree', 948),\n",
       " ('removal', 948),\n",
       " ('having', 948),\n",
       " ('predicted', 948),\n",
       " ('particularly', 947),\n",
       " ('mitochondrial', 947),\n",
       " ('genome', 946),\n",
       " ('her', 946),\n",
       " ('extracellular', 943),\n",
       " ('whole', 941),\n",
       " ('plant', 940),\n",
       " ('regarding', 940),\n",
       " ('anemia', 939),\n",
       " ('located', 938),\n",
       " ('residues', 936),\n",
       " ('strongly', 936),\n",
       " ('lymphocytes', 935),\n",
       " ('unknown', 935),\n",
       " ('leading', 934),\n",
       " ('oxidative', 934),\n",
       " ('efficiency', 933),\n",
       " ('deficiency', 931),\n",
       " ('much', 929),\n",
       " ('determination', 929),\n",
       " ('posterior', 926),\n",
       " ('cold', 926),\n",
       " ('red', 924),\n",
       " ('mri', 924),\n",
       " ('bse', 924),\n",
       " ('bpd', 924),\n",
       " ('national', 923),\n",
       " ('assays', 921),\n",
       " ('situ', 920),\n",
       " ('crf', 919),\n",
       " ('alterations', 918),\n",
       " ('later', 917),\n",
       " ('deletion', 916),\n",
       " ('alternative', 916),\n",
       " ('confidence', 915),\n",
       " ('short', 914),\n",
       " ('white', 914),\n",
       " ('macrophages', 913),\n",
       " ('cerebral', 911),\n",
       " ('origin', 910),\n",
       " ('basal', 910),\n",
       " ('rb', 909),\n",
       " ('scd', 909),\n",
       " ('count', 908),\n",
       " ('sp', 907),\n",
       " ('composition', 906),\n",
       " ('variables', 904),\n",
       " ('side', 901),\n",
       " ('gas', 901),\n",
       " ('compare', 900),\n",
       " ('corresponding', 899),\n",
       " ('images', 898),\n",
       " ('defects', 897),\n",
       " ('fed', 896),\n",
       " ('adverse', 895),\n",
       " ('ml', 894),\n",
       " ('generated', 893),\n",
       " ('tnt', 893),\n",
       " ('needed', 892),\n",
       " ('improvement', 892),\n",
       " ('o', 892),\n",
       " ('scale', 890),\n",
       " ('survey', 886),\n",
       " ('fas', 885),\n",
       " ('environmental', 883),\n",
       " ('plants', 883),\n",
       " ('stability', 881),\n",
       " ('social', 881),\n",
       " ('larger', 880),\n",
       " ('malaria', 880),\n",
       " ('drinking', 879),\n",
       " ('scores', 879),\n",
       " ('produce', 878),\n",
       " ('maternal', 878),\n",
       " ('occur', 876),\n",
       " ('clinically', 876),\n",
       " ('profile', 875),\n",
       " ('poor', 874),\n",
       " ...]"
      ]
     },
     "execution_count": 44,
     "metadata": {},
     "output_type": "execute_result"
    }
   ],
   "source": [
    "sorted_occurrence_dict =  sorted(occurrence_dict.items(), key=operator.itemgetter(1), reverse=True)\n",
    "sorted_occurrence_dict"
   ]
  },
  {
   "cell_type": "code",
   "execution_count": 14,
   "metadata": {
    "id": "wb4qTG01InKz"
   },
   "outputs": [],
   "source": [
    "polysemy_list = [\"single\", \"growth\", \"evaluation\", \"surgery\",\n",
    "                 \"reduction\", \"inhibition\", \"pressure\", \"support\", \n",
    "                 \"weight\", \"frequency\", \"sensitivity\", \"failure\", \n",
    "                 \"culture\", \"resistance\", \"degree\", \"determination\",  \n",
    "                 \"energy\", \"lead\", \"glucose\", \"scale\", \n",
    "                 \"strains\", \"sex\", \"condition\",  \n",
    "                 \"variation\", \"transport\", \"man\", \n",
    "                 \"radiation\", \"transient\", \"white\", \n",
    "                 \"depression\", \"repair\", \"pathology\", \"fat\", \n",
    "                 \"extraction\", \"ultrasound\", \"discharge\", \n",
    "                 \"nutrition\", \"adjustment\", \"cold\", \n",
    "                 \"mole\"]  # list from the paper, filtered out words with >=2 tokens.\n",
    "\n",
    "homograph_list = [\"degree\", \"lead\", \"scale\", \"transport\", \"discharge\", \"mole\"]  # https://en.wikipedia.org/wiki/List_of_English_homographs"
   ]
  },
  {
   "cell_type": "code",
   "execution_count": 69,
   "metadata": {},
   "outputs": [
    {
     "data": {
      "text/plain": [
       "{'patients': 28725,\n",
       " 'cells': 19893,\n",
       " 'results': 18166,\n",
       " 'study': 17429,\n",
       " 'cell': 13489,\n",
       " 'between': 13414,\n",
       " 'treatment': 12007,\n",
       " 'expression': 10940,\n",
       " 'both': 10685,\n",
       " 'group': 10597,\n",
       " 'been': 10394,\n",
       " 'may': 10192,\n",
       " 'during': 10056,\n",
       " 'protein': 10053,\n",
       " 'two': 9894,\n",
       " 'all': 9440,\n",
       " 'activity': 9269,\n",
       " 'no': 9174,\n",
       " 'their': 9118,\n",
       " 'used': 8950,\n",
       " 'increased': 8902,\n",
       " 'disease': 8875,\n",
       " 'analysis': 8831,\n",
       " 'levels': 8639,\n",
       " 'human': 8550,\n",
       " 'significantly': 8529,\n",
       " 'more': 8395,\n",
       " 'gene': 8331,\n",
       " 'clinical': 8188,\n",
       " 'associated': 8171,\n",
       " 'compared': 8142,\n",
       " 'effects': 8127,\n",
       " 'methods': 8093,\n",
       " 'can': 8012,\n",
       " 'effect': 7979,\n",
       " 'other': 7949,\n",
       " 'showed': 7834,\n",
       " 'found': 7766,\n",
       " 'data': 7765,\n",
       " 'significant': 7470,\n",
       " 'mice': 7261,\n",
       " 'control': 7213,\n",
       " 'its': 7083,\n",
       " 'different': 7018,\n",
       " 'one': 6684,\n",
       " 'high': 6670,\n",
       " 'however': 6456,\n",
       " 'into': 6432,\n",
       " 'higher': 6405,\n",
       " 'observed': 6210,\n",
       " 'studies': 6180,\n",
       " 'our': 6132,\n",
       " 'only': 6111,\n",
       " 'lt': 6097,\n",
       " 'response': 6058,\n",
       " 'when': 5920,\n",
       " 'most': 5917,\n",
       " 'cases': 5908,\n",
       " 'there': 5785,\n",
       " 'role': 5772,\n",
       " 'years': 5763,\n",
       " 'blood': 5675,\n",
       " 'n': 5643,\n",
       " 'c': 5623,\n",
       " 'dna': 5611,\n",
       " 'risk': 5594,\n",
       " 'use': 5557,\n",
       " 'respectively': 5535,\n",
       " 'three': 5479,\n",
       " 'groups': 5463,\n",
       " 'present': 5442,\n",
       " 'model': 5361,\n",
       " 'time': 5304,\n",
       " 'among': 5294,\n",
       " 't': 5292,\n",
       " 'cancer': 5249,\n",
       " 'age': 5229,\n",
       " 'system': 5197,\n",
       " 'such': 5193,\n",
       " 'changes': 5107,\n",
       " 'well': 5050,\n",
       " 'development': 5035,\n",
       " 'acid': 5023,\n",
       " 'b': 5004,\n",
       " 'rate': 4931,\n",
       " 'increase': 4920,\n",
       " 'function': 4832,\n",
       " 'factor': 4767,\n",
       " 'those': 4735,\n",
       " 'total': 4689,\n",
       " 'type': 4670,\n",
       " 'normal': 4666,\n",
       " 'h': 4644,\n",
       " 'new': 4632,\n",
       " 'first': 4625,\n",
       " 'children': 4561,\n",
       " 'who': 4550,\n",
       " 'infection': 4545,\n",
       " 'tumor': 4449,\n",
       " 'level': 4378,\n",
       " 'within': 4337,\n",
       " 'samples': 4330,\n",
       " 'method': 4308,\n",
       " 'could': 4307,\n",
       " 'factors': 4305,\n",
       " 'genes': 4285,\n",
       " 'conclusion': 4263,\n",
       " 'patient': 4249,\n",
       " 'low': 4232,\n",
       " 'rats': 4186,\n",
       " 'therapy': 4175,\n",
       " 'suggest': 4171,\n",
       " 'conclusions': 4139,\n",
       " 'did': 4119,\n",
       " 'proteins': 4097,\n",
       " 'without': 4089,\n",
       " 'days': 4088,\n",
       " 'identified': 4086,\n",
       " 'potential': 4067,\n",
       " 'species': 4058,\n",
       " 'number': 4051,\n",
       " 'receptor': 4045,\n",
       " 'tissue': 4028,\n",
       " 'presence': 4024,\n",
       " 'important': 4014,\n",
       " 'through': 4010,\n",
       " 'reduced': 3996,\n",
       " 'mean': 3976,\n",
       " 'concentrations': 3974,\n",
       " 'lower': 3969,\n",
       " 'including': 3937,\n",
       " 'findings': 3918,\n",
       " 'each': 3916,\n",
       " 'women': 3912,\n",
       " 'serum': 3906,\n",
       " 'syndrome': 3899,\n",
       " 'induced': 3871,\n",
       " 'performed': 3870,\n",
       " 'health': 3862,\n",
       " 'while': 3856,\n",
       " 'specific': 3829,\n",
       " 'test': 3807,\n",
       " 'decreased': 3730,\n",
       " 's': 3706,\n",
       " 'diagnosis': 3674,\n",
       " 'activation': 3670,\n",
       " 'similar': 3666,\n",
       " 'based': 3602,\n",
       " 'virus': 3598,\n",
       " 'production': 3575,\n",
       " 'cd': 3540,\n",
       " 'primary': 3525,\n",
       " 'months': 3521,\n",
       " 'further': 3502,\n",
       " 'reported': 3502,\n",
       " 'case': 3487,\n",
       " 'against': 3484,\n",
       " 'i': 3456,\n",
       " 'addition': 3456,\n",
       " 'binding': 3455,\n",
       " 'positive': 3427,\n",
       " 'treated': 3426,\n",
       " 'differences': 3421,\n",
       " 'subjects': 3409,\n",
       " 'vitro': 3400,\n",
       " 'show': 3366,\n",
       " 'concentration': 3365,\n",
       " 'measured': 3359,\n",
       " 'il': 3355,\n",
       " 'early': 3349,\n",
       " 'some': 3337,\n",
       " 'detected': 3293,\n",
       " 'revealed': 3282,\n",
       " 'although': 3275,\n",
       " 'd': 3272,\n",
       " 'hiv': 3234,\n",
       " 'investigated': 3218,\n",
       " 'over': 3211,\n",
       " 'responses': 3205,\n",
       " 'they': 3200,\n",
       " 'following': 3198,\n",
       " 'studied': 3188,\n",
       " 'due': 3171,\n",
       " 'drug': 3159,\n",
       " 'acute': 3148,\n",
       " 'examined': 3146,\n",
       " 'obtained': 3143,\n",
       " 'mutations': 3142,\n",
       " 'ca': 3139,\n",
       " 'determined': 3103,\n",
       " 'evidence': 3097,\n",
       " 'complex': 3095,\n",
       " 'chronic': 3095,\n",
       " 'less': 3091,\n",
       " 'formation': 3086,\n",
       " 'molecular': 3083,\n",
       " 'plasma': 3076,\n",
       " 'under': 3069,\n",
       " 'about': 3056,\n",
       " 'water': 2995,\n",
       " 'demonstrated': 2979,\n",
       " 'related': 2977,\n",
       " 'bone': 2962,\n",
       " 'surface': 2952,\n",
       " 'four': 2950,\n",
       " 'whereas': 2943,\n",
       " 'genetic': 2931,\n",
       " 'exposure': 2929,\n",
       " 'day': 2909,\n",
       " 'region': 2885,\n",
       " 'developed': 2867,\n",
       " 'report': 2853,\n",
       " 'determine': 2847,\n",
       " 'evaluated': 2843,\n",
       " 'period': 2811,\n",
       " 'population': 2809,\n",
       " 'ci': 2808,\n",
       " 'either': 2805,\n",
       " 'major': 2774,\n",
       " 'common': 2765,\n",
       " 'range': 2758,\n",
       " 'vivo': 2735,\n",
       " 'whether': 2734,\n",
       " 'several': 2729,\n",
       " 'mm': 2712,\n",
       " 'gt': 2705,\n",
       " 'detection': 2702,\n",
       " 'conditions': 2700,\n",
       " 'known': 2699,\n",
       " 'involved': 2680,\n",
       " 'should': 2679,\n",
       " 'thus': 2673,\n",
       " 'controls': 2648,\n",
       " 'novel': 2642,\n",
       " 'x': 2640,\n",
       " 'before': 2636,\n",
       " 'tumors': 2635,\n",
       " 'liver': 2631,\n",
       " 'here': 2629,\n",
       " 'small': 2620,\n",
       " 'values': 2618,\n",
       " 'dose': 2615,\n",
       " 'brain': 2591,\n",
       " 'ii': 2589,\n",
       " 'effective': 2581,\n",
       " 'cardiac': 2567,\n",
       " 'skin': 2560,\n",
       " 'isolated': 2552,\n",
       " 'large': 2544,\n",
       " 'membrane': 2537,\n",
       " 'assay': 2532,\n",
       " 'shown': 2528,\n",
       " 'per': 2525,\n",
       " 'association': 2525,\n",
       " 'functional': 2506,\n",
       " 'vs': 2499,\n",
       " 'rates': 2494,\n",
       " 'analyzed': 2492,\n",
       " 'weeks': 2489,\n",
       " 'same': 2487,\n",
       " 'breast': 2476,\n",
       " 'mrna': 2465,\n",
       " 'caused': 2458,\n",
       " 'mechanism': 2448,\n",
       " 'ratio': 2434,\n",
       " 'survival': 2433,\n",
       " 'body': 2432,\n",
       " 'because': 2421,\n",
       " 'immune': 2415,\n",
       " 'greater': 2412,\n",
       " 'mechanisms': 2395,\n",
       " 'lung': 2393,\n",
       " 'severe': 2384,\n",
       " 'care': 2376,\n",
       " 'expressed': 2341,\n",
       " 'structure': 2337,\n",
       " 'provide': 2335,\n",
       " 'mouse': 2331,\n",
       " 'symptoms': 2331,\n",
       " 'various': 2328,\n",
       " 'm': 2322,\n",
       " 'stress': 2322,\n",
       " 'lesions': 2302,\n",
       " 'l': 2302,\n",
       " 'included': 2301,\n",
       " 'healthy': 2298,\n",
       " 'plt': 2289,\n",
       " 'possible': 2287,\n",
       " 'tested': 2268,\n",
       " 'indicate': 2264,\n",
       " 'current': 2254,\n",
       " 'loss': 2253,\n",
       " 'muscle': 2249,\n",
       " 'multiple': 2246,\n",
       " 'any': 2245,\n",
       " 'previously': 2240,\n",
       " 'reaction': 2229,\n",
       " 'animals': 2223,\n",
       " 'assessed': 2217,\n",
       " 'research': 2215,\n",
       " 'administration': 2208,\n",
       " 'process': 2198,\n",
       " 'many': 2175,\n",
       " 'g': 2169,\n",
       " 'size': 2167,\n",
       " 'rat': 2165,\n",
       " 'information': 2157,\n",
       " 'mass': 2157,\n",
       " 'renal': 2156,\n",
       " 'experimental': 2155,\n",
       " 'sequence': 2142,\n",
       " 'will': 2119,\n",
       " 'imaging': 2106,\n",
       " 'site': 2104,\n",
       " 'year': 2103,\n",
       " 'diseases': 2089,\n",
       " 'mutation': 2088,\n",
       " 'enzyme': 2086,\n",
       " 'release': 2084,\n",
       " 'mg': 2082,\n",
       " 'prevalence': 2072,\n",
       " 'area': 2066,\n",
       " 'phase': 2061,\n",
       " 'if': 2061,\n",
       " 'out': 2059,\n",
       " 'heart': 2058,\n",
       " 'e': 2039,\n",
       " 'highly': 2037,\n",
       " 'antibodies': 2037,\n",
       " 'negative': 2035,\n",
       " 'approximately': 2033,\n",
       " 'form': 2031,\n",
       " 'contrast': 2029,\n",
       " 'characterized': 2025,\n",
       " 'active': 2024,\n",
       " 'evaluate': 2016,\n",
       " 'individuals': 2010,\n",
       " 'investigate': 2008,\n",
       " 'models': 2005,\n",
       " 'decrease': 2004,\n",
       " 'difference': 2001,\n",
       " 'features': 1999,\n",
       " 'degrees': 1998,\n",
       " 'therefore': 1998,\n",
       " 'required': 1994,\n",
       " 'sites': 1991,\n",
       " 'family': 1988,\n",
       " 'five': 1977,\n",
       " 'influence': 1973,\n",
       " 'cellular': 1970,\n",
       " 'combination': 1969,\n",
       " 'review': 1952,\n",
       " 'design': 1944,\n",
       " 'central': 1937,\n",
       " 'respiratory': 1936,\n",
       " 'death': 1930,\n",
       " 'receptors': 1930,\n",
       " 'result': 1929,\n",
       " 'neurons': 1918,\n",
       " 'change': 1917,\n",
       " 'parameters': 1913,\n",
       " 'content': 1909,\n",
       " 'male': 1907,\n",
       " 'via': 1905,\n",
       " 'aim': 1903,\n",
       " 'vaccine': 1899,\n",
       " 'properties': 1892,\n",
       " 'objective': 1882,\n",
       " 'flow': 1880,\n",
       " 'r': 1873,\n",
       " 'antibody': 1870,\n",
       " 'overall': 1869,\n",
       " 'pathway': 1863,\n",
       " 'status': 1862,\n",
       " 'alcohol': 1854,\n",
       " 'adult': 1853,\n",
       " 'produced': 1851,\n",
       " 'approach': 1851,\n",
       " 'comparison': 1850,\n",
       " 'adrenal': 1850,\n",
       " 'carcinoma': 1841,\n",
       " 'female': 1840,\n",
       " 'pain': 1840,\n",
       " 'activities': 1837,\n",
       " 'distribution': 1835,\n",
       " 'followed': 1833,\n",
       " 'relationship': 1833,\n",
       " 'cause': 1833,\n",
       " 'followup': 1829,\n",
       " 'medical': 1804,\n",
       " 'received': 1793,\n",
       " 'relative': 1791,\n",
       " 'strain': 1789,\n",
       " 'very': 1786,\n",
       " 'intake': 1786,\n",
       " 'affected': 1777,\n",
       " 'presented': 1770,\n",
       " 'up': 1764,\n",
       " 'containing': 1764,\n",
       " 'suggesting': 1764,\n",
       " 'correlation': 1761,\n",
       " 'regions': 1752,\n",
       " 'incidence': 1750,\n",
       " 'outcome': 1747,\n",
       " 'oral': 1744,\n",
       " 'interaction': 1744,\n",
       " 'index': 1731,\n",
       " 'second': 1727,\n",
       " 'might': 1722,\n",
       " 'likely': 1720,\n",
       " 'characteristics': 1720,\n",
       " 'min': 1718,\n",
       " 'confirmed': 1717,\n",
       " 'mortality': 1714,\n",
       " 'quality': 1714,\n",
       " 'diet': 1713,\n",
       " 'signaling': 1707,\n",
       " 'types': 1704,\n",
       " 'standard': 1703,\n",
       " 'proliferation': 1703,\n",
       " 'six': 1702,\n",
       " 'milk': 1702,\n",
       " 'ability': 1700,\n",
       " 'value': 1699,\n",
       " 'combined': 1692,\n",
       " 'synthesis': 1691,\n",
       " 'demonstrate': 1690,\n",
       " 'enhanced': 1689,\n",
       " 'identify': 1687,\n",
       " 'collected': 1684,\n",
       " 'target': 1682,\n",
       " 'considered': 1682,\n",
       " 'tissues': 1681,\n",
       " 'being': 1680,\n",
       " 'volume': 1677,\n",
       " 'stage': 1668,\n",
       " 'described': 1665,\n",
       " 'then': 1664,\n",
       " 'rna': 1664,\n",
       " 'order': 1661,\n",
       " 'therapeutic': 1661,\n",
       " 'us': 1659,\n",
       " 'disorder': 1653,\n",
       " 'indicated': 1648,\n",
       " 'kinase': 1647,\n",
       " 'part': 1645,\n",
       " 'regulation': 1644,\n",
       " 'furthermore': 1643,\n",
       " 'efficacy': 1640,\n",
       " 'work': 1639,\n",
       " 'k': 1639,\n",
       " 'viral': 1638,\n",
       " 'inhibited': 1636,\n",
       " 'available': 1632,\n",
       " 'increases': 1631,\n",
       " 'systems': 1631,\n",
       " 'essential': 1629,\n",
       " 'sodium': 1627,\n",
       " 'main': 1623,\n",
       " 'infected': 1622,\n",
       " 'identification': 1621,\n",
       " 'ph': 1618,\n",
       " 'compounds': 1614,\n",
       " 'lines': 1614,\n",
       " 'resulted': 1612,\n",
       " 'pattern': 1608,\n",
       " 'analyses': 1604,\n",
       " 'drugs': 1603,\n",
       " 'recent': 1593,\n",
       " 'nuclear': 1593,\n",
       " 'mutant': 1590,\n",
       " 'impact': 1580,\n",
       " 'sample': 1579,\n",
       " 'increasing': 1577,\n",
       " 'injection': 1570,\n",
       " 'pulmonary': 1563,\n",
       " 'correlated': 1562,\n",
       " 'apoptosis': 1562,\n",
       " 'state': 1561,\n",
       " 'peripheral': 1559,\n",
       " 'f': 1556,\n",
       " 'induction': 1548,\n",
       " 'median': 1546,\n",
       " 'disorders': 1543,\n",
       " 'performance': 1543,\n",
       " 'damage': 1542,\n",
       " 'andor': 1538,\n",
       " 'previous': 1538,\n",
       " 'chain': 1538,\n",
       " 'pcr': 1534,\n",
       " 'inflammatory': 1532,\n",
       " 'microm': 1530,\n",
       " 'inhibitor': 1526,\n",
       " 'tests': 1526,\n",
       " 'least': 1525,\n",
       " 'complete': 1525,\n",
       " 'assess': 1518,\n",
       " 'direct': 1516,\n",
       " 'management': 1515,\n",
       " 'average': 1514,\n",
       " 'infections': 1513,\n",
       " 'diagnostic': 1513,\n",
       " 'stimulation': 1510,\n",
       " 'since': 1510,\n",
       " 'differentiation': 1508,\n",
       " 'conducted': 1498,\n",
       " 'experiments': 1490,\n",
       " 'given': 1489,\n",
       " 'where': 1487,\n",
       " 'suggests': 1485,\n",
       " 'wt': 1482,\n",
       " 'sequences': 1477,\n",
       " 'areas': 1475,\n",
       " 'men': 1466,\n",
       " 'initial': 1465,\n",
       " 'examination': 1463,\n",
       " 'hospital': 1462,\n",
       " 'patterns': 1460,\n",
       " 'assessment': 1460,\n",
       " 'platelet': 1460,\n",
       " 'useful': 1460,\n",
       " 'better': 1458,\n",
       " 'calcium': 1456,\n",
       " 'even': 1446,\n",
       " 'improved': 1446,\n",
       " 'cp': 1444,\n",
       " 'domain': 1444,\n",
       " 'baseline': 1433,\n",
       " 'longterm': 1429,\n",
       " 'markers': 1427,\n",
       " 'versus': 1425,\n",
       " 'participants': 1425,\n",
       " 'amino': 1424,\n",
       " 'alpha': 1424,\n",
       " 'additional': 1421,\n",
       " 'agents': 1420,\n",
       " 'applied': 1420,\n",
       " 'general': 1419,\n",
       " 'transmission': 1419,\n",
       " 'according': 1418,\n",
       " 'seen': 1416,\n",
       " 'would': 1413,\n",
       " 'biological': 1408,\n",
       " 'dietary': 1408,\n",
       " 'interactions': 1403,\n",
       " 'does': 1400,\n",
       " 'injury': 1392,\n",
       " 'elevated': 1390,\n",
       " 'th': 1389,\n",
       " 'mgkg': 1388,\n",
       " 'events': 1385,\n",
       " 'left': 1385,\n",
       " 'how': 1383,\n",
       " 'suggested': 1381,\n",
       " 'occurred': 1380,\n",
       " 'life': 1378,\n",
       " 'chromosome': 1375,\n",
       " 'measures': 1373,\n",
       " 'ventricular': 1372,\n",
       " 'screening': 1370,\n",
       " 'structural': 1369,\n",
       " 'iron': 1364,\n",
       " 'bacterial': 1360,\n",
       " 'absence': 1359,\n",
       " 'often': 1357,\n",
       " 'basis': 1357,\n",
       " 'established': 1356,\n",
       " 'nm': 1353,\n",
       " 'technique': 1352,\n",
       " 'consistent': 1352,\n",
       " 'thyroid': 1349,\n",
       " 'electron': 1344,\n",
       " 'transcription': 1344,\n",
       " 'products': 1344,\n",
       " 'vascular': 1339,\n",
       " 'ra': 1338,\n",
       " 'measurements': 1336,\n",
       " 'delivery': 1334,\n",
       " 'rapid': 1332,\n",
       " 'fish': 1330,\n",
       " 'knowledge': 1330,\n",
       " 'recently': 1326,\n",
       " 'times': 1324,\n",
       " 'secretion': 1322,\n",
       " 'populations': 1321,\n",
       " 'temperature': 1320,\n",
       " 'them': 1317,\n",
       " 'individual': 1314,\n",
       " 'made': 1313,\n",
       " 'recombinant': 1313,\n",
       " 'microscopy': 1312,\n",
       " 'stem': 1307,\n",
       " 'processes': 1306,\n",
       " 'functions': 1306,\n",
       " 'physical': 1304,\n",
       " 'alone': 1302,\n",
       " 'peptide': 1300,\n",
       " 'outcomes': 1300,\n",
       " 'natural': 1296,\n",
       " 'exposed': 1293,\n",
       " 'aa': 1292,\n",
       " 'history': 1291,\n",
       " 'action': 1290,\n",
       " 'purpose': 1287,\n",
       " 'antigen': 1287,\n",
       " 'key': 1286,\n",
       " 'independent': 1281,\n",
       " 'local': 1281,\n",
       " 'infants': 1279,\n",
       " 'components': 1278,\n",
       " 'light': 1278,\n",
       " 'adults': 1278,\n",
       " 'application': 1275,\n",
       " 'systemic': 1271,\n",
       " 'affect': 1270,\n",
       " 'selected': 1269,\n",
       " 'daily': 1268,\n",
       " 'fold': 1266,\n",
       " 'resulting': 1265,\n",
       " 'root': 1265,\n",
       " 'together': 1264,\n",
       " 'capacity': 1262,\n",
       " 'isolates': 1259,\n",
       " 'food': 1253,\n",
       " 'understanding': 1252,\n",
       " 'intracellular': 1251,\n",
       " 'uptake': 1243,\n",
       " 'molecules': 1242,\n",
       " 'secondary': 1241,\n",
       " 'animal': 1240,\n",
       " 'rare': 1236,\n",
       " 'density': 1235,\n",
       " 'distinct': 1235,\n",
       " 'pcp': 1235,\n",
       " 'testing': 1230,\n",
       " 'replication': 1229,\n",
       " 'play': 1227,\n",
       " 'solution': 1223,\n",
       " 'induce': 1218,\n",
       " 'progression': 1217,\n",
       " 'moreover': 1216,\n",
       " 'fluid': 1216,\n",
       " 'diabetes': 1216,\n",
       " 'materials': 1214,\n",
       " 'metabolism': 1212,\n",
       " 'exercise': 1210,\n",
       " 'acids': 1208,\n",
       " 'need': 1208,\n",
       " 'field': 1207,\n",
       " 'inflammation': 1206,\n",
       " 'consumption': 1205,\n",
       " 'accumulation': 1201,\n",
       " 'indicating': 1201,\n",
       " 'highest': 1200,\n",
       " 'host': 1199,\n",
       " 'especially': 1198,\n",
       " 'phosphorylation': 1194,\n",
       " 'pathways': 1192,\n",
       " 'good': 1192,\n",
       " 'structures': 1185,\n",
       " 'signal': 1180,\n",
       " 'beta': 1179,\n",
       " 'regression': 1179,\n",
       " 'activated': 1178,\n",
       " 'future': 1178,\n",
       " 'specificity': 1176,\n",
       " 'line': 1175,\n",
       " 'coronary': 1174,\n",
       " 'murine': 1172,\n",
       " 'chemotherapy': 1172,\n",
       " 'ct': 1170,\n",
       " 'sensitive': 1169,\n",
       " 'quantitative': 1165,\n",
       " 'critical': 1165,\n",
       " 'despite': 1162,\n",
       " 'administered': 1160,\n",
       " 'practice': 1160,\n",
       " 'derived': 1159,\n",
       " 'hormone': 1157,\n",
       " 'trial': 1157,\n",
       " 'do': 1156,\n",
       " 'interval': 1152,\n",
       " 'exhibited': 1152,\n",
       " 'endothelial': 1152,\n",
       " 'improve': 1150,\n",
       " 'duration': 1146,\n",
       " 'doses': 1145,\n",
       " 'toxicity': 1142,\n",
       " 'provides': 1138,\n",
       " 'involvement': 1137,\n",
       " 'describe': 1135,\n",
       " 'laboratory': 1134,\n",
       " 'lipid': 1133,\n",
       " 'score': 1133,\n",
       " 'diagnosed': 1132,\n",
       " 'limited': 1130,\n",
       " 'breastfeeding': 1125,\n",
       " 'criteria': 1124,\n",
       " 'techniques': 1120,\n",
       " 'iii': 1119,\n",
       " 'intervention': 1119,\n",
       " 'characterization': 1117,\n",
       " 'training': 1114,\n",
       " 'leukemia': 1113,\n",
       " 'cycle': 1110,\n",
       " 'treatments': 1108,\n",
       " 'dental': 1108,\n",
       " 'upon': 1107,\n",
       " 'chemical': 1106,\n",
       " 'taken': 1104,\n",
       " 'reduce': 1103,\n",
       " 'epithelial': 1103,\n",
       " 'fatty': 1102,\n",
       " 'strong': 1101,\n",
       " 'free': 1101,\n",
       " 'cortical': 1099,\n",
       " 'hr': 1098,\n",
       " 'pregnancy': 1097,\n",
       " 'abnormalities': 1096,\n",
       " 'proposed': 1095,\n",
       " 'still': 1094,\n",
       " 'week': 1091,\n",
       " 'inhibitors': 1090,\n",
       " 'causes': 1090,\n",
       " 'across': 1089,\n",
       " 'fluorescence': 1085,\n",
       " 'agent': 1084,\n",
       " 'estimated': 1080,\n",
       " 'behavior': 1078,\n",
       " 'surgical': 1077,\n",
       " 'literature': 1076,\n",
       " 'pathogenesis': 1075,\n",
       " 'young': 1075,\n",
       " 'defined': 1072,\n",
       " 'bacteria': 1070,\n",
       " 'dysfunction': 1064,\n",
       " 'specimens': 1063,\n",
       " 'provided': 1061,\n",
       " 'length': 1061,\n",
       " 'forms': 1060,\n",
       " 'carried': 1058,\n",
       " 'develop': 1058,\n",
       " 'resonance': 1055,\n",
       " 'end': 1054,\n",
       " 'developing': 1051,\n",
       " 'wildtype': 1050,\n",
       " 'statistically': 1050,\n",
       " 'states': 1050,\n",
       " 'teeth': 1049,\n",
       " 'females': 1048,\n",
       " 'enzymes': 1047,\n",
       " 'material': 1045,\n",
       " 'series': 1041,\n",
       " 'phenotype': 1040,\n",
       " 'iv': 1039,\n",
       " 'hypothesis': 1039,\n",
       " 'cardiovascular': 1039,\n",
       " 'inhibitory': 1038,\n",
       " 'severity': 1038,\n",
       " 'recovery': 1037,\n",
       " 'marrow': 1035,\n",
       " 'trials': 1035,\n",
       " 'stable': 1033,\n",
       " 'class': 1033,\n",
       " 'physiological': 1030,\n",
       " 'aged': 1030,\n",
       " 'medium': 1029,\n",
       " 'paper': 1027,\n",
       " 'tolerance': 1026,\n",
       " 'long': 1023,\n",
       " 'contribute': 1022,\n",
       " 'onset': 1021,\n",
       " 'so': 1019,\n",
       " 'cm': 1019,\n",
       " 'dependent': 1018,\n",
       " 'prior': 1018,\n",
       " 'artery': 1017,\n",
       " 'fa': 1016,\n",
       " 'right': 1015,\n",
       " 'reference': 1014,\n",
       " 'able': 1013,\n",
       " 'procedure': 1010,\n",
       " 'examine': 1008,\n",
       " 'ip': 1007,\n",
       " 'seven': 1005,\n",
       " 'anterior': 1004,\n",
       " 'course': 1004,\n",
       " 'ifngamma': 1004,\n",
       " 'complications': 1002,\n",
       " 'western': 1002,\n",
       " 'complexes': 1001,\n",
       " 'magnetic': 1000,\n",
       " 'hybridization': 998,\n",
       " 'mediated': 997,\n",
       " 'marker': 997,\n",
       " 'mainly': 997,\n",
       " 'program': 996,\n",
       " 'coli': 995,\n",
       " 'fetal': 994,\n",
       " 'investigation': 994,\n",
       " 'v': 993,\n",
       " 'kidney': 993,\n",
       " 'frequently': 991,\n",
       " 'little': 991,\n",
       " 'ie': 990,\n",
       " 'source': 990,\n",
       " 'importance': 989,\n",
       " 'directly': 989,\n",
       " 'ala': 987,\n",
       " 'lack': 986,\n",
       " 'calculated': 986,\n",
       " 'bovine': 985,\n",
       " 'underwent': 985,\n",
       " 'controlled': 984,\n",
       " 'achieved': 983,\n",
       " 'cortex': 982,\n",
       " 'males': 981,\n",
       " 'oxygen': 981,\n",
       " 'cns': 980,\n",
       " 'cad': 980,\n",
       " 'point': 979,\n",
       " 'percentage': 978,\n",
       " 'conventional': 978,\n",
       " 'randomized': 977,\n",
       " 'retinal': 976,\n",
       " 'hours': 975,\n",
       " 'amount': 974,\n",
       " 'malignant': 974,\n",
       " 'responsible': 973,\n",
       " 'remains': 972,\n",
       " 'cultures': 969,\n",
       " 'yearold': 969,\n",
       " 'recorded': 968,\n",
       " 'cultured': 968,\n",
       " 'transfer': 966,\n",
       " 'subsequent': 966,\n",
       " 'lens': 966,\n",
       " 'discussed': 964,\n",
       " 'cohort': 961,\n",
       " 'regulatory': 960,\n",
       " 'selective': 959,\n",
       " 'relatively': 958,\n",
       " 'strategies': 958,\n",
       " 'prevention': 958,\n",
       " 'along': 957,\n",
       " 'ion': 956,\n",
       " 'component': 956,\n",
       " 'humans': 956,\n",
       " 'maximum': 955,\n",
       " 'metabolic': 955,\n",
       " 'partial': 953,\n",
       " 'eight': 953,\n",
       " 'fever': 951,\n",
       " 'include': 951,\n",
       " 'stages': 950,\n",
       " 'differential': 950,\n",
       " 'nerve': 950,\n",
       " 'few': 950,\n",
       " 'joint': 949,\n",
       " 'removal': 948,\n",
       " 'having': 948,\n",
       " 'predicted': 948,\n",
       " 'particularly': 947,\n",
       " 'mitochondrial': 947,\n",
       " 'genome': 946,\n",
       " 'her': 946,\n",
       " 'extracellular': 943,\n",
       " 'whole': 941,\n",
       " 'plant': 940,\n",
       " 'regarding': 940,\n",
       " 'anemia': 939,\n",
       " 'located': 938,\n",
       " 'residues': 936,\n",
       " 'strongly': 936,\n",
       " 'lymphocytes': 935,\n",
       " 'unknown': 935,\n",
       " 'leading': 934,\n",
       " 'oxidative': 934,\n",
       " 'efficiency': 933,\n",
       " 'deficiency': 931,\n",
       " 'much': 929,\n",
       " 'posterior': 926,\n",
       " 'red': 924,\n",
       " 'mri': 924,\n",
       " 'bse': 924,\n",
       " 'bpd': 924,\n",
       " 'national': 923,\n",
       " 'assays': 921,\n",
       " 'situ': 920,\n",
       " 'crf': 919,\n",
       " 'alterations': 918,\n",
       " 'later': 917,\n",
       " 'deletion': 916,\n",
       " 'alternative': 916,\n",
       " 'confidence': 915,\n",
       " 'short': 914,\n",
       " 'macrophages': 913,\n",
       " 'cerebral': 911,\n",
       " 'origin': 910,\n",
       " 'basal': 910,\n",
       " 'rb': 909,\n",
       " 'scd': 909,\n",
       " 'count': 908,\n",
       " 'sp': 907,\n",
       " 'composition': 906,\n",
       " 'variables': 904,\n",
       " 'side': 901,\n",
       " 'gas': 901,\n",
       " 'compare': 900,\n",
       " 'corresponding': 899,\n",
       " 'images': 898,\n",
       " 'defects': 897,\n",
       " 'fed': 896,\n",
       " 'adverse': 895,\n",
       " 'ml': 894,\n",
       " 'generated': 893,\n",
       " 'tnt': 893,\n",
       " 'needed': 892,\n",
       " 'improvement': 892,\n",
       " 'o': 892,\n",
       " 'survey': 886,\n",
       " 'fas': 885,\n",
       " 'environmental': 883,\n",
       " 'plants': 883,\n",
       " 'stability': 881,\n",
       " 'social': 881,\n",
       " 'larger': 880,\n",
       " 'malaria': 880,\n",
       " 'drinking': 879,\n",
       " 'scores': 879,\n",
       " 'produce': 878,\n",
       " 'maternal': 878,\n",
       " 'occur': 876,\n",
       " 'clinically': 876,\n",
       " 'profile': 875,\n",
       " 'poor': 874,\n",
       " 'shows': 872,\n",
       " 'kg': 872,\n",
       " 'hps': 872,\n",
       " 'frequent': 870,\n",
       " 'necessary': 869,\n",
       " 'insulin': 869,\n",
       " 'particular': 869,\n",
       " 'product': 868,\n",
       " 'implications': 868,\n",
       " 'nursing': 867,\n",
       " 'biochemical': 866,\n",
       " 'modified': 864,\n",
       " 'unique': 864,\n",
       " 'altered': 862,\n",
       " 'ss': 861,\n",
       " 'tomography': 860,\n",
       " 'protection': 859,\n",
       " 'set': 858,\n",
       " 'remained': 857,\n",
       " 'tool': 857,\n",
       " 'degradation': 856,\n",
       " 'significance': 854,\n",
       " 'ocd': 854,\n",
       " 'linear': 853,\n",
       " 'prospective': 853,\n",
       " 'fracture': 853,\n",
       " 'sars': 853,\n",
       " 'led': 852,\n",
       " 'promoter': 851,\n",
       " 'ccl': 848,\n",
       " 'rather': 847,\n",
       " 'lupus': 847,\n",
       " 'cognitive': 847,\n",
       " 'fibrosis': 847,\n",
       " 'simple': 846,\n",
       " 'underlying': 846,\n",
       " 'setting': 845,\n",
       " 'genomic': 843,\n",
       " 'mothers': 843,\n",
       " 'peptides': 842,\n",
       " 'neuronal': 842,\n",
       " 'processing': 841,\n",
       " 'susceptibility': 841,\n",
       " 'pituitary': 840,\n",
       " 'extract': 840,\n",
       " 'protective': 838,\n",
       " 'safety': 837,\n",
       " 'gland': 836,\n",
       " 'manner': 836,\n",
       " 'fusion': 836,\n",
       " 'measure': 835,\n",
       " 'polymerase': 834,\n",
       " 'soil': 834,\n",
       " 'purified': 833,\n",
       " 'generation': 833,\n",
       " 'visual': 833,\n",
       " 'lesion': 832,\n",
       " 'peak': 830,\n",
       " 'abnormal': 826,\n",
       " 'bp': 825,\n",
       " 'measurement': 823,\n",
       " 'q': 822,\n",
       " 'relation': 822,\n",
       " 'atp': 821,\n",
       " ...}"
      ]
     },
     "execution_count": 69,
     "metadata": {},
     "output_type": "execute_result"
    }
   ],
   "source": [
    "keys_to_remove = [\"the\", \"of\", \"and\", \"in\", \"to\", \"a\", \"with\", \"for\", \"was\", \"were\", \"that\", \"by\", \"is\", \"on\", \"from\", \"as\", \"or\",\n",
    "                \"this\", \"at\", \"are\", \"an\", \"we\", \"be\", \"than\", \"p\", \"not\", \"but\", \"these\", \"after\", \"have\", \"also\", \"using\",\n",
    "                 \"which\", \"has\", \"had\", \"it\"] + polysemy_list\n",
    "\n",
    "filtered_occurrence_dict = dict(sorted_occurrence_dict)\n",
    "for key_to_remove in keys_to_remove:\n",
    "  del filtered_occurrence_dict[key_to_remove]\n",
    "    \n",
    "filtered_occurrence_dict"
   ]
  },
  {
   "cell_type": "code",
   "execution_count": 70,
   "metadata": {},
   "outputs": [],
   "source": [
    "non_poly_words = [\"protein\", \"disease\", \"analysis\", \"gene\", \"data\", \"years\", \"dna\", \"infection\", \"therapy\"]"
   ]
  },
  {
   "cell_type": "markdown",
   "metadata": {
    "id": "QSf_3QWYk7Me"
   },
   "source": [
    "## Models\n"
   ]
  },
  {
   "cell_type": "markdown",
   "metadata": {
    "id": "cotqAK-yk8MO"
   },
   "source": [
    "### BERT"
   ]
  },
  {
   "cell_type": "code",
   "execution_count": 15,
   "metadata": {},
   "outputs": [
    {
     "name": "stderr",
     "output_type": "stream",
     "text": [
      "Some weights of the model checkpoint at bert-base-uncased were not used when initializing BertModel: ['cls.seq_relationship.bias', 'cls.predictions.transform.LayerNorm.weight', 'cls.predictions.transform.dense.weight', 'cls.predictions.transform.LayerNorm.bias', 'cls.predictions.bias', 'cls.predictions.transform.dense.bias', 'cls.predictions.decoder.weight', 'cls.seq_relationship.weight']\n",
      "- This IS expected if you are initializing BertModel from the checkpoint of a model trained on another task or with another architecture (e.g. initializing a BertForSequenceClassification model from a BertForPreTraining model).\n",
      "- This IS NOT expected if you are initializing BertModel from the checkpoint of a model that you expect to be exactly identical (initializing a BertForSequenceClassification model from a BertForSequenceClassification model).\n"
     ]
    },
    {
     "data": {
      "text/plain": [
       "BertModel(\n",
       "  (embeddings): BertEmbeddings(\n",
       "    (word_embeddings): Embedding(30522, 768, padding_idx=0)\n",
       "    (position_embeddings): Embedding(512, 768)\n",
       "    (token_type_embeddings): Embedding(2, 768)\n",
       "    (LayerNorm): LayerNorm((768,), eps=1e-12, elementwise_affine=True)\n",
       "    (dropout): Dropout(p=0.1, inplace=False)\n",
       "  )\n",
       "  (encoder): BertEncoder(\n",
       "    (layer): ModuleList(\n",
       "      (0): BertLayer(\n",
       "        (attention): BertAttention(\n",
       "          (self): BertSelfAttention(\n",
       "            (query): Linear(in_features=768, out_features=768, bias=True)\n",
       "            (key): Linear(in_features=768, out_features=768, bias=True)\n",
       "            (value): Linear(in_features=768, out_features=768, bias=True)\n",
       "            (dropout): Dropout(p=0.1, inplace=False)\n",
       "          )\n",
       "          (output): BertSelfOutput(\n",
       "            (dense): Linear(in_features=768, out_features=768, bias=True)\n",
       "            (LayerNorm): LayerNorm((768,), eps=1e-12, elementwise_affine=True)\n",
       "            (dropout): Dropout(p=0.1, inplace=False)\n",
       "          )\n",
       "        )\n",
       "        (intermediate): BertIntermediate(\n",
       "          (dense): Linear(in_features=768, out_features=3072, bias=True)\n",
       "        )\n",
       "        (output): BertOutput(\n",
       "          (dense): Linear(in_features=3072, out_features=768, bias=True)\n",
       "          (LayerNorm): LayerNorm((768,), eps=1e-12, elementwise_affine=True)\n",
       "          (dropout): Dropout(p=0.1, inplace=False)\n",
       "        )\n",
       "      )\n",
       "      (1): BertLayer(\n",
       "        (attention): BertAttention(\n",
       "          (self): BertSelfAttention(\n",
       "            (query): Linear(in_features=768, out_features=768, bias=True)\n",
       "            (key): Linear(in_features=768, out_features=768, bias=True)\n",
       "            (value): Linear(in_features=768, out_features=768, bias=True)\n",
       "            (dropout): Dropout(p=0.1, inplace=False)\n",
       "          )\n",
       "          (output): BertSelfOutput(\n",
       "            (dense): Linear(in_features=768, out_features=768, bias=True)\n",
       "            (LayerNorm): LayerNorm((768,), eps=1e-12, elementwise_affine=True)\n",
       "            (dropout): Dropout(p=0.1, inplace=False)\n",
       "          )\n",
       "        )\n",
       "        (intermediate): BertIntermediate(\n",
       "          (dense): Linear(in_features=768, out_features=3072, bias=True)\n",
       "        )\n",
       "        (output): BertOutput(\n",
       "          (dense): Linear(in_features=3072, out_features=768, bias=True)\n",
       "          (LayerNorm): LayerNorm((768,), eps=1e-12, elementwise_affine=True)\n",
       "          (dropout): Dropout(p=0.1, inplace=False)\n",
       "        )\n",
       "      )\n",
       "      (2): BertLayer(\n",
       "        (attention): BertAttention(\n",
       "          (self): BertSelfAttention(\n",
       "            (query): Linear(in_features=768, out_features=768, bias=True)\n",
       "            (key): Linear(in_features=768, out_features=768, bias=True)\n",
       "            (value): Linear(in_features=768, out_features=768, bias=True)\n",
       "            (dropout): Dropout(p=0.1, inplace=False)\n",
       "          )\n",
       "          (output): BertSelfOutput(\n",
       "            (dense): Linear(in_features=768, out_features=768, bias=True)\n",
       "            (LayerNorm): LayerNorm((768,), eps=1e-12, elementwise_affine=True)\n",
       "            (dropout): Dropout(p=0.1, inplace=False)\n",
       "          )\n",
       "        )\n",
       "        (intermediate): BertIntermediate(\n",
       "          (dense): Linear(in_features=768, out_features=3072, bias=True)\n",
       "        )\n",
       "        (output): BertOutput(\n",
       "          (dense): Linear(in_features=3072, out_features=768, bias=True)\n",
       "          (LayerNorm): LayerNorm((768,), eps=1e-12, elementwise_affine=True)\n",
       "          (dropout): Dropout(p=0.1, inplace=False)\n",
       "        )\n",
       "      )\n",
       "      (3): BertLayer(\n",
       "        (attention): BertAttention(\n",
       "          (self): BertSelfAttention(\n",
       "            (query): Linear(in_features=768, out_features=768, bias=True)\n",
       "            (key): Linear(in_features=768, out_features=768, bias=True)\n",
       "            (value): Linear(in_features=768, out_features=768, bias=True)\n",
       "            (dropout): Dropout(p=0.1, inplace=False)\n",
       "          )\n",
       "          (output): BertSelfOutput(\n",
       "            (dense): Linear(in_features=768, out_features=768, bias=True)\n",
       "            (LayerNorm): LayerNorm((768,), eps=1e-12, elementwise_affine=True)\n",
       "            (dropout): Dropout(p=0.1, inplace=False)\n",
       "          )\n",
       "        )\n",
       "        (intermediate): BertIntermediate(\n",
       "          (dense): Linear(in_features=768, out_features=3072, bias=True)\n",
       "        )\n",
       "        (output): BertOutput(\n",
       "          (dense): Linear(in_features=3072, out_features=768, bias=True)\n",
       "          (LayerNorm): LayerNorm((768,), eps=1e-12, elementwise_affine=True)\n",
       "          (dropout): Dropout(p=0.1, inplace=False)\n",
       "        )\n",
       "      )\n",
       "      (4): BertLayer(\n",
       "        (attention): BertAttention(\n",
       "          (self): BertSelfAttention(\n",
       "            (query): Linear(in_features=768, out_features=768, bias=True)\n",
       "            (key): Linear(in_features=768, out_features=768, bias=True)\n",
       "            (value): Linear(in_features=768, out_features=768, bias=True)\n",
       "            (dropout): Dropout(p=0.1, inplace=False)\n",
       "          )\n",
       "          (output): BertSelfOutput(\n",
       "            (dense): Linear(in_features=768, out_features=768, bias=True)\n",
       "            (LayerNorm): LayerNorm((768,), eps=1e-12, elementwise_affine=True)\n",
       "            (dropout): Dropout(p=0.1, inplace=False)\n",
       "          )\n",
       "        )\n",
       "        (intermediate): BertIntermediate(\n",
       "          (dense): Linear(in_features=768, out_features=3072, bias=True)\n",
       "        )\n",
       "        (output): BertOutput(\n",
       "          (dense): Linear(in_features=3072, out_features=768, bias=True)\n",
       "          (LayerNorm): LayerNorm((768,), eps=1e-12, elementwise_affine=True)\n",
       "          (dropout): Dropout(p=0.1, inplace=False)\n",
       "        )\n",
       "      )\n",
       "      (5): BertLayer(\n",
       "        (attention): BertAttention(\n",
       "          (self): BertSelfAttention(\n",
       "            (query): Linear(in_features=768, out_features=768, bias=True)\n",
       "            (key): Linear(in_features=768, out_features=768, bias=True)\n",
       "            (value): Linear(in_features=768, out_features=768, bias=True)\n",
       "            (dropout): Dropout(p=0.1, inplace=False)\n",
       "          )\n",
       "          (output): BertSelfOutput(\n",
       "            (dense): Linear(in_features=768, out_features=768, bias=True)\n",
       "            (LayerNorm): LayerNorm((768,), eps=1e-12, elementwise_affine=True)\n",
       "            (dropout): Dropout(p=0.1, inplace=False)\n",
       "          )\n",
       "        )\n",
       "        (intermediate): BertIntermediate(\n",
       "          (dense): Linear(in_features=768, out_features=3072, bias=True)\n",
       "        )\n",
       "        (output): BertOutput(\n",
       "          (dense): Linear(in_features=3072, out_features=768, bias=True)\n",
       "          (LayerNorm): LayerNorm((768,), eps=1e-12, elementwise_affine=True)\n",
       "          (dropout): Dropout(p=0.1, inplace=False)\n",
       "        )\n",
       "      )\n",
       "      (6): BertLayer(\n",
       "        (attention): BertAttention(\n",
       "          (self): BertSelfAttention(\n",
       "            (query): Linear(in_features=768, out_features=768, bias=True)\n",
       "            (key): Linear(in_features=768, out_features=768, bias=True)\n",
       "            (value): Linear(in_features=768, out_features=768, bias=True)\n",
       "            (dropout): Dropout(p=0.1, inplace=False)\n",
       "          )\n",
       "          (output): BertSelfOutput(\n",
       "            (dense): Linear(in_features=768, out_features=768, bias=True)\n",
       "            (LayerNorm): LayerNorm((768,), eps=1e-12, elementwise_affine=True)\n",
       "            (dropout): Dropout(p=0.1, inplace=False)\n",
       "          )\n",
       "        )\n",
       "        (intermediate): BertIntermediate(\n",
       "          (dense): Linear(in_features=768, out_features=3072, bias=True)\n",
       "        )\n",
       "        (output): BertOutput(\n",
       "          (dense): Linear(in_features=3072, out_features=768, bias=True)\n",
       "          (LayerNorm): LayerNorm((768,), eps=1e-12, elementwise_affine=True)\n",
       "          (dropout): Dropout(p=0.1, inplace=False)\n",
       "        )\n",
       "      )\n",
       "      (7): BertLayer(\n",
       "        (attention): BertAttention(\n",
       "          (self): BertSelfAttention(\n",
       "            (query): Linear(in_features=768, out_features=768, bias=True)\n",
       "            (key): Linear(in_features=768, out_features=768, bias=True)\n",
       "            (value): Linear(in_features=768, out_features=768, bias=True)\n",
       "            (dropout): Dropout(p=0.1, inplace=False)\n",
       "          )\n",
       "          (output): BertSelfOutput(\n",
       "            (dense): Linear(in_features=768, out_features=768, bias=True)\n",
       "            (LayerNorm): LayerNorm((768,), eps=1e-12, elementwise_affine=True)\n",
       "            (dropout): Dropout(p=0.1, inplace=False)\n",
       "          )\n",
       "        )\n",
       "        (intermediate): BertIntermediate(\n",
       "          (dense): Linear(in_features=768, out_features=3072, bias=True)\n",
       "        )\n",
       "        (output): BertOutput(\n",
       "          (dense): Linear(in_features=3072, out_features=768, bias=True)\n",
       "          (LayerNorm): LayerNorm((768,), eps=1e-12, elementwise_affine=True)\n",
       "          (dropout): Dropout(p=0.1, inplace=False)\n",
       "        )\n",
       "      )\n",
       "      (8): BertLayer(\n",
       "        (attention): BertAttention(\n",
       "          (self): BertSelfAttention(\n",
       "            (query): Linear(in_features=768, out_features=768, bias=True)\n",
       "            (key): Linear(in_features=768, out_features=768, bias=True)\n",
       "            (value): Linear(in_features=768, out_features=768, bias=True)\n",
       "            (dropout): Dropout(p=0.1, inplace=False)\n",
       "          )\n",
       "          (output): BertSelfOutput(\n",
       "            (dense): Linear(in_features=768, out_features=768, bias=True)\n",
       "            (LayerNorm): LayerNorm((768,), eps=1e-12, elementwise_affine=True)\n",
       "            (dropout): Dropout(p=0.1, inplace=False)\n",
       "          )\n",
       "        )\n",
       "        (intermediate): BertIntermediate(\n",
       "          (dense): Linear(in_features=768, out_features=3072, bias=True)\n",
       "        )\n",
       "        (output): BertOutput(\n",
       "          (dense): Linear(in_features=3072, out_features=768, bias=True)\n",
       "          (LayerNorm): LayerNorm((768,), eps=1e-12, elementwise_affine=True)\n",
       "          (dropout): Dropout(p=0.1, inplace=False)\n",
       "        )\n",
       "      )\n",
       "      (9): BertLayer(\n",
       "        (attention): BertAttention(\n",
       "          (self): BertSelfAttention(\n",
       "            (query): Linear(in_features=768, out_features=768, bias=True)\n",
       "            (key): Linear(in_features=768, out_features=768, bias=True)\n",
       "            (value): Linear(in_features=768, out_features=768, bias=True)\n",
       "            (dropout): Dropout(p=0.1, inplace=False)\n",
       "          )\n",
       "          (output): BertSelfOutput(\n",
       "            (dense): Linear(in_features=768, out_features=768, bias=True)\n",
       "            (LayerNorm): LayerNorm((768,), eps=1e-12, elementwise_affine=True)\n",
       "            (dropout): Dropout(p=0.1, inplace=False)\n",
       "          )\n",
       "        )\n",
       "        (intermediate): BertIntermediate(\n",
       "          (dense): Linear(in_features=768, out_features=3072, bias=True)\n",
       "        )\n",
       "        (output): BertOutput(\n",
       "          (dense): Linear(in_features=3072, out_features=768, bias=True)\n",
       "          (LayerNorm): LayerNorm((768,), eps=1e-12, elementwise_affine=True)\n",
       "          (dropout): Dropout(p=0.1, inplace=False)\n",
       "        )\n",
       "      )\n",
       "      (10): BertLayer(\n",
       "        (attention): BertAttention(\n",
       "          (self): BertSelfAttention(\n",
       "            (query): Linear(in_features=768, out_features=768, bias=True)\n",
       "            (key): Linear(in_features=768, out_features=768, bias=True)\n",
       "            (value): Linear(in_features=768, out_features=768, bias=True)\n",
       "            (dropout): Dropout(p=0.1, inplace=False)\n",
       "          )\n",
       "          (output): BertSelfOutput(\n",
       "            (dense): Linear(in_features=768, out_features=768, bias=True)\n",
       "            (LayerNorm): LayerNorm((768,), eps=1e-12, elementwise_affine=True)\n",
       "            (dropout): Dropout(p=0.1, inplace=False)\n",
       "          )\n",
       "        )\n",
       "        (intermediate): BertIntermediate(\n",
       "          (dense): Linear(in_features=768, out_features=3072, bias=True)\n",
       "        )\n",
       "        (output): BertOutput(\n",
       "          (dense): Linear(in_features=3072, out_features=768, bias=True)\n",
       "          (LayerNorm): LayerNorm((768,), eps=1e-12, elementwise_affine=True)\n",
       "          (dropout): Dropout(p=0.1, inplace=False)\n",
       "        )\n",
       "      )\n",
       "      (11): BertLayer(\n",
       "        (attention): BertAttention(\n",
       "          (self): BertSelfAttention(\n",
       "            (query): Linear(in_features=768, out_features=768, bias=True)\n",
       "            (key): Linear(in_features=768, out_features=768, bias=True)\n",
       "            (value): Linear(in_features=768, out_features=768, bias=True)\n",
       "            (dropout): Dropout(p=0.1, inplace=False)\n",
       "          )\n",
       "          (output): BertSelfOutput(\n",
       "            (dense): Linear(in_features=768, out_features=768, bias=True)\n",
       "            (LayerNorm): LayerNorm((768,), eps=1e-12, elementwise_affine=True)\n",
       "            (dropout): Dropout(p=0.1, inplace=False)\n",
       "          )\n",
       "        )\n",
       "        (intermediate): BertIntermediate(\n",
       "          (dense): Linear(in_features=768, out_features=3072, bias=True)\n",
       "        )\n",
       "        (output): BertOutput(\n",
       "          (dense): Linear(in_features=3072, out_features=768, bias=True)\n",
       "          (LayerNorm): LayerNorm((768,), eps=1e-12, elementwise_affine=True)\n",
       "          (dropout): Dropout(p=0.1, inplace=False)\n",
       "        )\n",
       "      )\n",
       "    )\n",
       "  )\n",
       "  (pooler): BertPooler(\n",
       "    (dense): Linear(in_features=768, out_features=768, bias=True)\n",
       "    (activation): Tanh()\n",
       "  )\n",
       ")"
      ]
     },
     "execution_count": 15,
     "metadata": {},
     "output_type": "execute_result"
    }
   ],
   "source": [
    "tokenizer = BertTokenizer.from_pretrained('bert-base-uncased')\n",
    "\n",
    "model = BertModel.from_pretrained('bert-base-uncased',\n",
    "                                  output_hidden_states = True, \n",
    "                                  )\n",
    "model.eval()"
   ]
  },
  {
   "cell_type": "code",
   "execution_count": 16,
   "metadata": {
    "id": "4kW1_yMUnRmJ",
    "scrolled": true
   },
   "outputs": [],
   "source": [
    "# Initialise new dataframe and required constant variables.\n",
    "\n",
    "if BERT_DF_EXISTS:\n",
    "  uploaded = files.upload()  # opens explorer to select data \n",
    "  bert_pkl = \"bert_msh_data_subset.pkl.zip\" if TEST_MODE else \"bert_msh_data.pkl.zip\" \"\"  # TODO TEST MODE IS ON.\n",
    "  bert_msh_data = pd.read_pickle(io.BytesIO(uploaded[bert_pkl]), compression=\"zip\")\n",
    "\n",
    "else:  # remake the dataframe. \n",
    "  bert_msh_data = msh_data.copy(deep=True)\n",
    "  bert_msh_data['citation-string'] = bert_msh_data[\"citation-string\"].str.replace('[^a-zA-Z 0-9]', '')  # remove non-alphanumeric characters excluding space.\n",
    "  bert_msh_data['citation-string'] = '[CLS] ' + bert_msh_data['citation-string'].astype(str) + ' [SEP]'  # Adds special tokens ([CLS] and [SEP]) \n",
    "\n",
    "# bert_polysemy_idx = [extract_sentences(word) for word in polysemy_list]"
   ]
  },
  {
   "cell_type": "code",
   "execution_count": 74,
   "metadata": {},
   "outputs": [
    {
     "data": {
      "text/plain": [
       "(35358, 3)"
      ]
     },
     "execution_count": 74,
     "metadata": {},
     "output_type": "execute_result"
    }
   ],
   "source": [
    "bert_msh_data.shape"
   ]
  },
  {
   "cell_type": "code",
   "execution_count": 17,
   "metadata": {
    "colab": {
     "base_uri": "https://localhost:8080/"
    },
    "id": "e64X5IB66Cvh",
    "outputId": "034e2bdd-57df-4a14-aa21-30248389687b"
   },
   "outputs": [
    {
     "data": {
      "text/plain": [
       "[['single'], ['growth'], ['evaluation'], ['surgery'], ['reduction']]"
      ]
     },
     "execution_count": 17,
     "metadata": {},
     "output_type": "execute_result"
    }
   ],
   "source": [
    "# Convert polysemy words to token variant for easy search later.\n",
    "polysemy_tokens = [] \n",
    "\n",
    "for polysemy in polysemy_list:\n",
    "   polysemy_tokens.append(tokenizer.tokenize(polysemy)) \n",
    "  \n",
    "polysemy_tokens[:5]"
   ]
  },
  {
   "cell_type": "code",
   "execution_count": 76,
   "metadata": {},
   "outputs": [
    {
     "data": {
      "text/plain": [
       "[['protein'],\n",
       " ['disease'],\n",
       " ['analysis'],\n",
       " ['gene'],\n",
       " ['data'],\n",
       " ['years'],\n",
       " ['dna'],\n",
       " ['infection'],\n",
       " ['therapy']]"
      ]
     },
     "execution_count": 76,
     "metadata": {},
     "output_type": "execute_result"
    }
   ],
   "source": [
    "non_polysemy_tokens = []\n",
    "\n",
    "for non_poly in non_poly_words:\n",
    "   non_polysemy_tokens.append(tokenizer.tokenize(non_poly)) \n",
    "\n",
    "non_polysemy_tokens"
   ]
  },
  {
   "cell_type": "code",
   "execution_count": 18,
   "metadata": {
    "id": "22u1KpvoxuWa"
   },
   "outputs": [],
   "source": [
    "def calculate_tokens(df):\n",
    "  \"\"\"\n",
    "  Gets the embeddings for each token by first converting sentences to tokens\n",
    "\n",
    "  :param dataframe df: dataframe that contains all necessary data.\n",
    "\n",
    "  :return: updated dataframe with embeddings.\n",
    "  \"\"\"\n",
    "\n",
    "  print(\"----- STARTING TOKENIZING ----- \")\n",
    "  print(df.shape)\n",
    "\n",
    "  tokenized_texts = []\n",
    "  indexed_tokens = []\n",
    "  segments_ids = []\n",
    "\n",
    "  for sentence in tqdm(df['citation-string']):\n",
    "    tokenized_text = tokenizer.tokenize(sentence)\n",
    "    tokenized_texts.append(tokenized_text)\n",
    "    indexed_tokens.append(tokenizer.convert_tokens_to_ids(tokenized_text))\n",
    "    segments_ids.append([1] * len(tokenized_text))\n",
    "\n",
    "  # Append all details to existing dataframe, avoids having to keep track by index!\n",
    "  df[\"tokenized-text\"] = tokenized_texts\n",
    "  df[\"indexed-tokens\"] = indexed_tokens\n",
    "  df[\"segments-ids\"] = segments_ids\n",
    "\n",
    "  unwanted_rows = df['indexed-tokens'].str.len() > 512  # remove rows where len of tokens > 512.\n",
    "  df = df.drop(df.index[(list(unwanted_rows[unwanted_rows].index))])\n",
    "\n",
    "  print(\"----- Completed tokenizing ----- \")\n",
    "  print(df.shape)\n",
    "  df.reset_index(drop=True, inplace=True)\n",
    "    \n",
    "  return df\n",
    "\n",
    "    \n",
    "def calculate_embeddings(df):\n",
    "  sentence_vecs_cat = []  # keeps track of all vectors for every token for a sentence.\n",
    "  print(df.shape)\n",
    "\n",
    "  for indexed_tokens, segments_ids in tqdm(zip(df[\"indexed-tokens\"], df[\"segments-ids\"])):\n",
    "\n",
    "    tokens_tensor = torch.tensor([indexed_tokens])\n",
    "    segments_tensors = torch.tensor([segments_ids])\n",
    "\n",
    "    with torch.no_grad():  # do not train\n",
    "        outputs = model(tokens_tensor, segments_tensors)\n",
    "        hidden_states = outputs[2]\n",
    "\n",
    "        token_embeddings = torch.stack(hidden_states, dim=0)\n",
    "        token_embeddings = torch.squeeze(token_embeddings, dim=1)\n",
    "        token_embeddings = token_embeddings.permute(1,0,2)\n",
    "\n",
    "        token_vecs_cat = []  # tracks vectors for each token.\n",
    "\n",
    "        for token in token_embeddings:\n",
    "            # concatenate the layers outputs.\n",
    "            cat_vec = torch.cat((token[-1], token[-2], token[-3], token[-4]), dim=0)\n",
    "            token_vecs_cat.append(cat_vec)\n",
    "\n",
    "        sentence_vecs_cat.append(token_vecs_cat)\n",
    "\n",
    "  df[\"sentence-vecs\"] = sentence_vecs_cat  # do not recommend trying to print out the dataframe anymore...\n",
    "\n",
    "  print(\"----- CALCULATED VECTORS -----  \")\n",
    "  print(df.shape)\n",
    "\n",
    "  return df\n",
    "\n",
    "\n",
    "def get_polysemy_data(df, polysemy_list=polysemy_list, polysemy_token=polysemy_tokens):\n",
    "  \"\"\"\n",
    "  Gets correct embeddings for polysemic words and their sentences.\n",
    "  If word occurs N times in same sentence, the sentence is added N many times.\n",
    "\n",
    "  :param dataframe df: dataframe which contains embeddings and sentences.\n",
    "  :param list polysemy_list: list of polysemic words.\n",
    "  :param list polysemy_token: list of polysemic words in their token form (BERT).\n",
    "  \n",
    "  :return: list of embeddings for every polysemic word and their sentences.\n",
    "  \"\"\"\n",
    "  polysemy_words_vecs = []  # keeps track of vectors for ALL words.\n",
    "  polysemy_sentences = []\n",
    "\n",
    "  for polysemy_word in tqdm(polysemy_list):\n",
    "    # find rows in dataframe and the correspondin sentence where polysemy word is.\n",
    "    rows, sentences = extract_sentences(polysemy_word, df)  \n",
    "\n",
    "    # find polysemy index to find out if word is split when tokenized.\n",
    "    polysemy_idx = polysemy_list.index(polysemy_word)\n",
    "\n",
    "    # keeps track of ONE polysemy word's vectors\n",
    "    polysemy_word_vecs = []\n",
    "    possible_sentence = []  # for loop will not add sentence if it is empty. Not a problem with full dataset.\n",
    "\n",
    "    assert len(polysemy_tokens[polysemy_idx]) == 1  # word is not split up.\n",
    "    for row, sentence in zip(rows, sentences):  # iterate all rows that have polysemy words in them.\n",
    "      # find index of all occurences of word in sentence.\n",
    "      polysemy_token_idxs = [i for i,d in enumerate(df[\"tokenized-text\"][row]) if d==polysemy_word]  \n",
    "\n",
    "      # append sentence for every time the word appears.\n",
    "      possible_sentence.extend([sentence] * len(polysemy_token_idxs))\n",
    "      \n",
    "      # get vectors of polysemy word.\n",
    "      for polysemy_token_idx in polysemy_token_idxs:\n",
    "        polysemy_word_vecs.append(df[\"sentence-vecs\"][row][polysemy_token_idx])  \n",
    "\n",
    "    polysemy_words_vecs.append(polysemy_word_vecs)\n",
    "    polysemy_sentences.append(possible_sentence)  \n",
    "\n",
    "  assert len(polysemy_words_vecs) == len(polysemy_sentences)\n",
    "     \n",
    "  return polysemy_words_vecs, polysemy_sentences"
   ]
  },
  {
   "cell_type": "code",
   "execution_count": 19,
   "metadata": {
    "colab": {
     "base_uri": "https://localhost:8080/",
     "height": 154,
     "referenced_widgets": [
      "0af92165c8f04325a74d3fcf599c988a",
      "09e0170aca6347959701deb73f3bef8b",
      "e90fd5ef36774d389b87e965f4dfd107",
      "3ee0d56076ab46d589f750fbdd50f647",
      "361f6b963a4f4b7b81c9ecf36f6f48db",
      "0d560c931f2345cb920fa587e72a579d",
      "287d3974224c4fcb833257db5d22dbde",
      "582880714a1c48fca9c90dabf5cc0c84",
      "3f7e59883439419a981b4da39db368da",
      "faf0afa7d17a4f329241f2cb6046afb1",
      "54f6d351648044febceaaa182ba8932e"
     ]
    },
    "id": "BHiAt6oyD0bG",
    "outputId": "097e3a4c-5beb-4d97-ad17-671f40bad541",
    "scrolled": true
   },
   "outputs": [],
   "source": [
    "def calculate_polysemy_embedding(word, token_df, fraction=0.25, name=\"./embedding-data/bert_msh_data\"):\n",
    "  bert_word_subset = extract_sentences(word, token_df)[2] \n",
    "  bert_word_subset = bert_word_subset.sample(frac=fraction, replace=True, random_state=1) # only take fraction of the words\n",
    "   \n",
    "  calculate_embeddings(bert_word_subset).reset_index(drop=True, inplace=True)\n",
    "    \n",
    "  to_save_bert_word_subset = bert_word_subset.copy(deep=True).drop(\"sentence-vecs\", 1)\n",
    "    \n",
    "  all_word_vectors = []\n",
    "  polysemy_label = [] \n",
    "\n",
    "  for i in range(bert_word_subset.shape[0]):\n",
    "    bert_token_idxs = [index for index, element in enumerate(bert_word_subset['tokenized-text'][i]) if element == word]\n",
    "    word_vectors = []\n",
    "    for bert_token_idx in bert_token_idxs:\n",
    "      word_vectors.append(bert_word_subset['sentence-vecs'][i][bert_token_idx])\n",
    "        \n",
    "    all_word_vectors.append(word_vectors)  \n",
    "    polysemy_label.append(word)\n",
    "            \n",
    "  to_save_bert_word_subset['polysemy-vector'] = all_word_vectors\n",
    "  to_save_bert_word_subset['polysemy-label'] = polysemy_label\n",
    "  # print(bert_msh_data.columns)\n",
    "  to_save_bert_word_subset.to_pickle(\"{1}_{0}.pkl.zip\".format(word, name), compression=\"zip\")\n"
   ]
  },
  {
   "cell_type": "code",
   "execution_count": 83,
   "metadata": {
    "scrolled": true
   },
   "outputs": [
    {
     "name": "stdout",
     "output_type": "stream",
     "text": [
      "(34520, 6)\n"
     ]
    },
    {
     "data": {
      "application/vnd.jupyter.widget-view+json": {
       "model_id": "9555520f0246424ca1c0025b0c41c5ba",
       "version_major": 2,
       "version_minor": 0
      },
      "text/plain": [
       "HBox(children=(HTML(value=''), FloatProgress(value=0.0, max=41.0), HTML(value='')))"
      ]
     },
     "metadata": {},
     "output_type": "display_data"
    },
    {
     "name": "stdout",
     "output_type": "stream",
     "text": [
      "single\n",
      "(1874, 6)\n"
     ]
    },
    {
     "data": {
      "application/vnd.jupyter.widget-view+json": {
       "model_id": "6f8348aee5294b9f879bd86de2309f09",
       "version_major": 2,
       "version_minor": 0
      },
      "text/plain": [
       "HBox(children=(HTML(value=''), FloatProgress(value=1.0, bar_style='info', layout=Layout(width='20px'), max=1.0…"
      ]
     },
     "metadata": {},
     "output_type": "display_data"
    },
    {
     "name": "stdout",
     "output_type": "stream",
     "text": [
      "\n",
      "----- CALCULATED VECTORS -----  \n",
      "(1874, 7)\n",
      "growth\n",
      "(2455, 6)\n"
     ]
    },
    {
     "data": {
      "application/vnd.jupyter.widget-view+json": {
       "model_id": "d5ae39bfb1ef4550af92c6fa7835e6be",
       "version_major": 2,
       "version_minor": 0
      },
      "text/plain": [
       "HBox(children=(HTML(value=''), FloatProgress(value=1.0, bar_style='info', layout=Layout(width='20px'), max=1.0…"
      ]
     },
     "metadata": {},
     "output_type": "display_data"
    },
    {
     "name": "stdout",
     "output_type": "stream",
     "text": [
      "\n",
      "----- CALCULATED VECTORS -----  \n",
      "(2455, 7)\n",
      "evaluation\n",
      "(1592, 6)\n"
     ]
    },
    {
     "data": {
      "application/vnd.jupyter.widget-view+json": {
       "model_id": "ba385544a94a448590afd8e16236ff3e",
       "version_major": 2,
       "version_minor": 0
      },
      "text/plain": [
       "HBox(children=(HTML(value=''), FloatProgress(value=1.0, bar_style='info', layout=Layout(width='20px'), max=1.0…"
      ]
     },
     "metadata": {},
     "output_type": "display_data"
    },
    {
     "name": "stdout",
     "output_type": "stream",
     "text": [
      "\n",
      "----- CALCULATED VECTORS -----  \n",
      "(1592, 7)\n",
      "surgery\n",
      "(835, 6)\n"
     ]
    },
    {
     "data": {
      "application/vnd.jupyter.widget-view+json": {
       "model_id": "7da60b073ade489c90b768fb04a96ce9",
       "version_major": 2,
       "version_minor": 0
      },
      "text/plain": [
       "HBox(children=(HTML(value=''), FloatProgress(value=1.0, bar_style='info', layout=Layout(width='20px'), max=1.0…"
      ]
     },
     "metadata": {},
     "output_type": "display_data"
    },
    {
     "name": "stdout",
     "output_type": "stream",
     "text": [
      "\n",
      "----- CALCULATED VECTORS -----  \n",
      "(835, 7)\n",
      "reduction\n",
      "(1527, 6)\n"
     ]
    },
    {
     "data": {
      "application/vnd.jupyter.widget-view+json": {
       "model_id": "ba1b7657d52a428ab252a57ddd3efa3a",
       "version_major": 2,
       "version_minor": 0
      },
      "text/plain": [
       "HBox(children=(HTML(value=''), FloatProgress(value=1.0, bar_style='info', layout=Layout(width='20px'), max=1.0…"
      ]
     },
     "metadata": {},
     "output_type": "display_data"
    },
    {
     "name": "stdout",
     "output_type": "stream",
     "text": [
      "\n",
      "----- CALCULATED VECTORS -----  \n",
      "(1527, 7)\n",
      "inhibition\n",
      "(1528, 6)\n"
     ]
    },
    {
     "data": {
      "application/vnd.jupyter.widget-view+json": {
       "model_id": "e10df545929143708d41ec06b9ba5d65",
       "version_major": 2,
       "version_minor": 0
      },
      "text/plain": [
       "HBox(children=(HTML(value=''), FloatProgress(value=1.0, bar_style='info', layout=Layout(width='20px'), max=1.0…"
      ]
     },
     "metadata": {},
     "output_type": "display_data"
    },
    {
     "name": "stdout",
     "output_type": "stream",
     "text": [
      "\n",
      "----- CALCULATED VECTORS -----  \n",
      "(1528, 7)\n",
      "pressure\n",
      "(954, 6)\n"
     ]
    },
    {
     "data": {
      "application/vnd.jupyter.widget-view+json": {
       "model_id": "16e29adcd7d545cf9989620da201f152",
       "version_major": 2,
       "version_minor": 0
      },
      "text/plain": [
       "HBox(children=(HTML(value=''), FloatProgress(value=1.0, bar_style='info', layout=Layout(width='20px'), max=1.0…"
      ]
     },
     "metadata": {},
     "output_type": "display_data"
    },
    {
     "name": "stdout",
     "output_type": "stream",
     "text": [
      "\n",
      "----- CALCULATED VECTORS -----  \n",
      "(954, 7)\n",
      "support\n",
      "(1453, 6)\n"
     ]
    },
    {
     "data": {
      "application/vnd.jupyter.widget-view+json": {
       "model_id": "ea7bec06d7ce43a6bbda847399387943",
       "version_major": 2,
       "version_minor": 0
      },
      "text/plain": [
       "HBox(children=(HTML(value=''), FloatProgress(value=1.0, bar_style='info', layout=Layout(width='20px'), max=1.0…"
      ]
     },
     "metadata": {},
     "output_type": "display_data"
    },
    {
     "name": "stdout",
     "output_type": "stream",
     "text": [
      "\n",
      "----- CALCULATED VECTORS -----  \n",
      "(1453, 7)\n",
      "weight\n",
      "(1146, 6)\n"
     ]
    },
    {
     "data": {
      "application/vnd.jupyter.widget-view+json": {
       "model_id": "914776567cbb4eda94768b33214c2dd7",
       "version_major": 2,
       "version_minor": 0
      },
      "text/plain": [
       "HBox(children=(HTML(value=''), FloatProgress(value=1.0, bar_style='info', layout=Layout(width='20px'), max=1.0…"
      ]
     },
     "metadata": {},
     "output_type": "display_data"
    },
    {
     "name": "stdout",
     "output_type": "stream",
     "text": [
      "\n",
      "----- CALCULATED VECTORS -----  \n",
      "(1146, 7)\n",
      "frequency\n",
      "(1189, 6)\n"
     ]
    },
    {
     "data": {
      "application/vnd.jupyter.widget-view+json": {
       "model_id": "c42e9e6ebd304d65800c98cf29d67a76",
       "version_major": 2,
       "version_minor": 0
      },
      "text/plain": [
       "HBox(children=(HTML(value=''), FloatProgress(value=1.0, bar_style='info', layout=Layout(width='20px'), max=1.0…"
      ]
     },
     "metadata": {},
     "output_type": "display_data"
    },
    {
     "name": "stdout",
     "output_type": "stream",
     "text": [
      "\n",
      "----- CALCULATED VECTORS -----  \n",
      "(1189, 7)\n",
      "sensitivity\n",
      "(1256, 6)\n"
     ]
    },
    {
     "data": {
      "application/vnd.jupyter.widget-view+json": {
       "model_id": "e1421cece1ef4836a96110748abd3a15",
       "version_major": 2,
       "version_minor": 0
      },
      "text/plain": [
       "HBox(children=(HTML(value=''), FloatProgress(value=1.0, bar_style='info', layout=Layout(width='20px'), max=1.0…"
      ]
     },
     "metadata": {},
     "output_type": "display_data"
    },
    {
     "name": "stdout",
     "output_type": "stream",
     "text": [
      "\n",
      "----- CALCULATED VECTORS -----  \n",
      "(1256, 7)\n",
      "failure\n",
      "(947, 6)\n"
     ]
    },
    {
     "data": {
      "application/vnd.jupyter.widget-view+json": {
       "model_id": "f341976240d8415ab351b08390358e9b",
       "version_major": 2,
       "version_minor": 0
      },
      "text/plain": [
       "HBox(children=(HTML(value=''), FloatProgress(value=1.0, bar_style='info', layout=Layout(width='20px'), max=1.0…"
      ]
     },
     "metadata": {},
     "output_type": "display_data"
    },
    {
     "name": "stdout",
     "output_type": "stream",
     "text": [
      "\n",
      "----- CALCULATED VECTORS -----  \n",
      "(947, 7)\n",
      "culture\n",
      "(1038, 6)\n"
     ]
    },
    {
     "data": {
      "application/vnd.jupyter.widget-view+json": {
       "model_id": "d4b01b5bc7e9440c9e0513c775fa2748",
       "version_major": 2,
       "version_minor": 0
      },
      "text/plain": [
       "HBox(children=(HTML(value=''), FloatProgress(value=1.0, bar_style='info', layout=Layout(width='20px'), max=1.0…"
      ]
     },
     "metadata": {},
     "output_type": "display_data"
    },
    {
     "name": "stdout",
     "output_type": "stream",
     "text": [
      "\n",
      "----- CALCULATED VECTORS -----  \n",
      "(1038, 7)\n",
      "resistance\n",
      "(977, 6)\n"
     ]
    },
    {
     "data": {
      "application/vnd.jupyter.widget-view+json": {
       "model_id": "5a9aece3d0a74647b1cf72e3e6021392",
       "version_major": 2,
       "version_minor": 0
      },
      "text/plain": [
       "HBox(children=(HTML(value=''), FloatProgress(value=1.0, bar_style='info', layout=Layout(width='20px'), max=1.0…"
      ]
     },
     "metadata": {},
     "output_type": "display_data"
    },
    {
     "name": "stdout",
     "output_type": "stream",
     "text": [
      "\n",
      "----- CALCULATED VECTORS -----  \n",
      "(977, 7)\n",
      "degree\n",
      "(741, 6)\n"
     ]
    },
    {
     "data": {
      "application/vnd.jupyter.widget-view+json": {
       "model_id": "525e53fc150c44d89a22bba23fd9e4a5",
       "version_major": 2,
       "version_minor": 0
      },
      "text/plain": [
       "HBox(children=(HTML(value=''), FloatProgress(value=1.0, bar_style='info', layout=Layout(width='20px'), max=1.0…"
      ]
     },
     "metadata": {},
     "output_type": "display_data"
    },
    {
     "name": "stdout",
     "output_type": "stream",
     "text": [
      "\n",
      "----- CALCULATED VECTORS -----  \n",
      "(741, 7)\n",
      "determination\n",
      "(637, 6)\n"
     ]
    },
    {
     "data": {
      "application/vnd.jupyter.widget-view+json": {
       "model_id": "06f444d7732543a28769cf6bac1a390a",
       "version_major": 2,
       "version_minor": 0
      },
      "text/plain": [
       "HBox(children=(HTML(value=''), FloatProgress(value=1.0, bar_style='info', layout=Layout(width='20px'), max=1.0…"
      ]
     },
     "metadata": {},
     "output_type": "display_data"
    },
    {
     "name": "stdout",
     "output_type": "stream",
     "text": [
      "\n",
      "----- CALCULATED VECTORS -----  \n",
      "(637, 7)\n",
      "energy\n",
      "(703, 6)\n"
     ]
    },
    {
     "data": {
      "application/vnd.jupyter.widget-view+json": {
       "model_id": "b26a3c6d0a9c4526b292f5dba585e146",
       "version_major": 2,
       "version_minor": 0
      },
      "text/plain": [
       "HBox(children=(HTML(value=''), FloatProgress(value=1.0, bar_style='info', layout=Layout(width='20px'), max=1.0…"
      ]
     },
     "metadata": {},
     "output_type": "display_data"
    },
    {
     "name": "stdout",
     "output_type": "stream",
     "text": [
      "\n",
      "----- CALCULATED VECTORS -----  \n",
      "(703, 7)\n",
      "lead\n",
      "(862, 6)\n"
     ]
    },
    {
     "data": {
      "application/vnd.jupyter.widget-view+json": {
       "model_id": "2d404cf160bb43df9dc664ed614de478",
       "version_major": 2,
       "version_minor": 0
      },
      "text/plain": [
       "HBox(children=(HTML(value=''), FloatProgress(value=1.0, bar_style='info', layout=Layout(width='20px'), max=1.0…"
      ]
     },
     "metadata": {},
     "output_type": "display_data"
    },
    {
     "name": "stdout",
     "output_type": "stream",
     "text": [
      "\n",
      "----- CALCULATED VECTORS -----  \n",
      "(862, 7)\n",
      "glucose\n",
      "(468, 6)\n"
     ]
    },
    {
     "data": {
      "application/vnd.jupyter.widget-view+json": {
       "model_id": "116ab6b432b345f58b9f15f7dd630021",
       "version_major": 2,
       "version_minor": 0
      },
      "text/plain": [
       "HBox(children=(HTML(value=''), FloatProgress(value=1.0, bar_style='info', layout=Layout(width='20px'), max=1.0…"
      ]
     },
     "metadata": {},
     "output_type": "display_data"
    },
    {
     "name": "stdout",
     "output_type": "stream",
     "text": [
      "\n",
      "----- CALCULATED VECTORS -----  \n",
      "(468, 7)\n",
      "scale\n",
      "(572, 6)\n"
     ]
    },
    {
     "data": {
      "application/vnd.jupyter.widget-view+json": {
       "model_id": "7627787c28d9468faffa972256ab6a0b",
       "version_major": 2,
       "version_minor": 0
      },
      "text/plain": [
       "HBox(children=(HTML(value=''), FloatProgress(value=1.0, bar_style='info', layout=Layout(width='20px'), max=1.0…"
      ]
     },
     "metadata": {},
     "output_type": "display_data"
    },
    {
     "name": "stdout",
     "output_type": "stream",
     "text": [
      "\n",
      "----- CALCULATED VECTORS -----  \n",
      "(572, 7)\n",
      "strains\n",
      "(973, 6)\n"
     ]
    },
    {
     "data": {
      "application/vnd.jupyter.widget-view+json": {
       "model_id": "a79019ec5aa84347a914c44f11e63dff",
       "version_major": 2,
       "version_minor": 0
      },
      "text/plain": [
       "HBox(children=(HTML(value=''), FloatProgress(value=1.0, bar_style='info', layout=Layout(width='20px'), max=1.0…"
      ]
     },
     "metadata": {},
     "output_type": "display_data"
    },
    {
     "name": "stdout",
     "output_type": "stream",
     "text": [
      "\n",
      "----- CALCULATED VECTORS -----  \n",
      "(973, 7)\n",
      "sex\n",
      "(733, 6)\n"
     ]
    },
    {
     "data": {
      "application/vnd.jupyter.widget-view+json": {
       "model_id": "5b5ca0665e50436a8b8c375f1b585793",
       "version_major": 2,
       "version_minor": 0
      },
      "text/plain": [
       "HBox(children=(HTML(value=''), FloatProgress(value=1.0, bar_style='info', layout=Layout(width='20px'), max=1.0…"
      ]
     },
     "metadata": {},
     "output_type": "display_data"
    },
    {
     "name": "stdout",
     "output_type": "stream",
     "text": [
      "\n",
      "----- CALCULATED VECTORS -----  \n",
      "(733, 7)\n",
      "condition\n",
      "(731, 6)\n"
     ]
    },
    {
     "data": {
      "application/vnd.jupyter.widget-view+json": {
       "model_id": "a5573400bfef4ee9bd7e397760beeb3b",
       "version_major": 2,
       "version_minor": 0
      },
      "text/plain": [
       "HBox(children=(HTML(value=''), FloatProgress(value=1.0, bar_style='info', layout=Layout(width='20px'), max=1.0…"
      ]
     },
     "metadata": {},
     "output_type": "display_data"
    },
    {
     "name": "stdout",
     "output_type": "stream",
     "text": [
      "\n",
      "----- CALCULATED VECTORS -----  \n",
      "(731, 7)\n",
      "variation\n",
      "(686, 6)\n"
     ]
    },
    {
     "data": {
      "application/vnd.jupyter.widget-view+json": {
       "model_id": "58538dd4fd2d42e7851c3ed4fc565ba4",
       "version_major": 2,
       "version_minor": 0
      },
      "text/plain": [
       "HBox(children=(HTML(value=''), FloatProgress(value=1.0, bar_style='info', layout=Layout(width='20px'), max=1.0…"
      ]
     },
     "metadata": {},
     "output_type": "display_data"
    },
    {
     "name": "stdout",
     "output_type": "stream",
     "text": [
      "\n",
      "----- CALCULATED VECTORS -----  \n",
      "(686, 7)\n",
      "transport\n",
      "(621, 6)\n"
     ]
    },
    {
     "data": {
      "application/vnd.jupyter.widget-view+json": {
       "model_id": "123c72b8ecd84e65886f23554522eb08",
       "version_major": 2,
       "version_minor": 0
      },
      "text/plain": [
       "HBox(children=(HTML(value=''), FloatProgress(value=1.0, bar_style='info', layout=Layout(width='20px'), max=1.0…"
      ]
     },
     "metadata": {},
     "output_type": "display_data"
    },
    {
     "name": "stdout",
     "output_type": "stream",
     "text": [
      "\n",
      "----- CALCULATED VECTORS -----  \n",
      "(621, 7)\n",
      "man\n",
      "(316, 6)\n"
     ]
    },
    {
     "data": {
      "application/vnd.jupyter.widget-view+json": {
       "model_id": "8588ec368d8a4884b5790a835edeb688",
       "version_major": 2,
       "version_minor": 0
      },
      "text/plain": [
       "HBox(children=(HTML(value=''), FloatProgress(value=1.0, bar_style='info', layout=Layout(width='20px'), max=1.0…"
      ]
     },
     "metadata": {},
     "output_type": "display_data"
    },
    {
     "name": "stdout",
     "output_type": "stream",
     "text": [
      "\n",
      "----- CALCULATED VECTORS -----  \n",
      "(316, 7)\n",
      "radiation\n",
      "(608, 6)\n"
     ]
    },
    {
     "data": {
      "application/vnd.jupyter.widget-view+json": {
       "model_id": "f617419de76c4777ad9f1882b241777c",
       "version_major": 2,
       "version_minor": 0
      },
      "text/plain": [
       "HBox(children=(HTML(value=''), FloatProgress(value=1.0, bar_style='info', layout=Layout(width='20px'), max=1.0…"
      ]
     },
     "metadata": {},
     "output_type": "display_data"
    },
    {
     "name": "stdout",
     "output_type": "stream",
     "text": [
      "\n",
      "----- CALCULATED VECTORS -----  \n",
      "(608, 7)\n",
      "transient\n",
      "(430, 6)\n"
     ]
    },
    {
     "data": {
      "application/vnd.jupyter.widget-view+json": {
       "model_id": "fd507a53468b4d978ba03c4567fc41ce",
       "version_major": 2,
       "version_minor": 0
      },
      "text/plain": [
       "HBox(children=(HTML(value=''), FloatProgress(value=1.0, bar_style='info', layout=Layout(width='20px'), max=1.0…"
      ]
     },
     "metadata": {},
     "output_type": "display_data"
    },
    {
     "name": "stdout",
     "output_type": "stream",
     "text": [
      "\n",
      "----- CALCULATED VECTORS -----  \n",
      "(430, 7)\n",
      "white\n",
      "(540, 6)\n"
     ]
    },
    {
     "data": {
      "application/vnd.jupyter.widget-view+json": {
       "model_id": "ee087959c41e46d4bbf6ed808778a7c7",
       "version_major": 2,
       "version_minor": 0
      },
      "text/plain": [
       "HBox(children=(HTML(value=''), FloatProgress(value=1.0, bar_style='info', layout=Layout(width='20px'), max=1.0…"
      ]
     },
     "metadata": {},
     "output_type": "display_data"
    },
    {
     "name": "stdout",
     "output_type": "stream",
     "text": [
      "\n",
      "----- CALCULATED VECTORS -----  \n",
      "(540, 7)\n",
      "depression\n",
      "(267, 6)\n"
     ]
    },
    {
     "data": {
      "application/vnd.jupyter.widget-view+json": {
       "model_id": "85f7859044174794af073fd2f024142a",
       "version_major": 2,
       "version_minor": 0
      },
      "text/plain": [
       "HBox(children=(HTML(value=''), FloatProgress(value=1.0, bar_style='info', layout=Layout(width='20px'), max=1.0…"
      ]
     },
     "metadata": {},
     "output_type": "display_data"
    },
    {
     "name": "stdout",
     "output_type": "stream",
     "text": [
      "\n",
      "----- CALCULATED VECTORS -----  \n",
      "(267, 7)\n",
      "repair\n",
      "(394, 6)\n"
     ]
    },
    {
     "data": {
      "application/vnd.jupyter.widget-view+json": {
       "model_id": "e97a55be67084bf6b98676230fa7e986",
       "version_major": 2,
       "version_minor": 0
      },
      "text/plain": [
       "HBox(children=(HTML(value=''), FloatProgress(value=1.0, bar_style='info', layout=Layout(width='20px'), max=1.0…"
      ]
     },
     "metadata": {},
     "output_type": "display_data"
    },
    {
     "name": "stdout",
     "output_type": "stream",
     "text": [
      "\n",
      "----- CALCULATED VECTORS -----  \n",
      "(394, 7)\n",
      "pathology\n",
      "(439, 6)\n"
     ]
    },
    {
     "data": {
      "application/vnd.jupyter.widget-view+json": {
       "model_id": "181a02ce4d0a44d8b5ff043d80cbb869",
       "version_major": 2,
       "version_minor": 0
      },
      "text/plain": [
       "HBox(children=(HTML(value=''), FloatProgress(value=1.0, bar_style='info', layout=Layout(width='20px'), max=1.0…"
      ]
     },
     "metadata": {},
     "output_type": "display_data"
    },
    {
     "name": "stdout",
     "output_type": "stream",
     "text": [
      "\n",
      "----- CALCULATED VECTORS -----  \n",
      "(439, 7)\n",
      "fat\n",
      "(319, 6)\n"
     ]
    },
    {
     "data": {
      "application/vnd.jupyter.widget-view+json": {
       "model_id": "10233cb4b7094ce78fc411374950881d",
       "version_major": 2,
       "version_minor": 0
      },
      "text/plain": [
       "HBox(children=(HTML(value=''), FloatProgress(value=1.0, bar_style='info', layout=Layout(width='20px'), max=1.0…"
      ]
     },
     "metadata": {},
     "output_type": "display_data"
    },
    {
     "name": "stdout",
     "output_type": "stream",
     "text": [
      "\n",
      "----- CALCULATED VECTORS -----  \n",
      "(319, 7)\n",
      "extraction\n",
      "(358, 6)\n"
     ]
    },
    {
     "data": {
      "application/vnd.jupyter.widget-view+json": {
       "model_id": "570a83c46fcc4871836de5940a811b15",
       "version_major": 2,
       "version_minor": 0
      },
      "text/plain": [
       "HBox(children=(HTML(value=''), FloatProgress(value=1.0, bar_style='info', layout=Layout(width='20px'), max=1.0…"
      ]
     },
     "metadata": {},
     "output_type": "display_data"
    },
    {
     "name": "stdout",
     "output_type": "stream",
     "text": [
      "\n",
      "----- CALCULATED VECTORS -----  \n",
      "(358, 7)\n",
      "ultrasound\n",
      "(300, 6)\n"
     ]
    },
    {
     "data": {
      "application/vnd.jupyter.widget-view+json": {
       "model_id": "65e939630570463e97ab5b3b1dd76771",
       "version_major": 2,
       "version_minor": 0
      },
      "text/plain": [
       "HBox(children=(HTML(value=''), FloatProgress(value=1.0, bar_style='info', layout=Layout(width='20px'), max=1.0…"
      ]
     },
     "metadata": {},
     "output_type": "display_data"
    },
    {
     "name": "stdout",
     "output_type": "stream",
     "text": [
      "\n",
      "----- CALCULATED VECTORS -----  \n",
      "(300, 7)\n",
      "discharge\n",
      "(200, 6)\n"
     ]
    },
    {
     "data": {
      "application/vnd.jupyter.widget-view+json": {
       "model_id": "eb9b120b61304f0ab58003d76a6ec42e",
       "version_major": 2,
       "version_minor": 0
      },
      "text/plain": [
       "HBox(children=(HTML(value=''), FloatProgress(value=1.0, bar_style='info', layout=Layout(width='20px'), max=1.0…"
      ]
     },
     "metadata": {},
     "output_type": "display_data"
    },
    {
     "name": "stdout",
     "output_type": "stream",
     "text": [
      "\n",
      "----- CALCULATED VECTORS -----  \n",
      "(200, 7)\n",
      "nutrition\n",
      "(186, 6)\n"
     ]
    },
    {
     "data": {
      "application/vnd.jupyter.widget-view+json": {
       "model_id": "805ccfc4fa5e4a2dac78151eb8f5da67",
       "version_major": 2,
       "version_minor": 0
      },
      "text/plain": [
       "HBox(children=(HTML(value=''), FloatProgress(value=1.0, bar_style='info', layout=Layout(width='20px'), max=1.0…"
      ]
     },
     "metadata": {},
     "output_type": "display_data"
    },
    {
     "name": "stdout",
     "output_type": "stream",
     "text": [
      "\n",
      "----- CALCULATED VECTORS -----  \n",
      "(186, 7)\n",
      "adjustment\n",
      "(207, 6)\n"
     ]
    },
    {
     "data": {
      "application/vnd.jupyter.widget-view+json": {
       "model_id": "38973181edb3493ca72975c7d5d53b60",
       "version_major": 2,
       "version_minor": 0
      },
      "text/plain": [
       "HBox(children=(HTML(value=''), FloatProgress(value=1.0, bar_style='info', layout=Layout(width='20px'), max=1.0…"
      ]
     },
     "metadata": {},
     "output_type": "display_data"
    },
    {
     "name": "stdout",
     "output_type": "stream",
     "text": [
      "\n",
      "----- CALCULATED VECTORS -----  \n",
      "(207, 7)\n",
      "Japanese\n",
      "(279, 6)\n"
     ]
    },
    {
     "data": {
      "application/vnd.jupyter.widget-view+json": {
       "model_id": "e2f7a682ece74960ae6bdddd3c2e457f",
       "version_major": 2,
       "version_minor": 0
      },
      "text/plain": [
       "HBox(children=(HTML(value=''), FloatProgress(value=1.0, bar_style='info', layout=Layout(width='20px'), max=1.0…"
      ]
     },
     "metadata": {},
     "output_type": "display_data"
    },
    {
     "name": "stdout",
     "output_type": "stream",
     "text": [
      "\n",
      "----- CALCULATED VECTORS -----  \n",
      "(279, 7)\n",
      "cold\n",
      "(370, 6)\n"
     ]
    },
    {
     "data": {
      "application/vnd.jupyter.widget-view+json": {
       "model_id": "2980ebc38abd470cbc138b9a1d826a97",
       "version_major": 2,
       "version_minor": 0
      },
      "text/plain": [
       "HBox(children=(HTML(value=''), FloatProgress(value=1.0, bar_style='info', layout=Layout(width='20px'), max=1.0…"
      ]
     },
     "metadata": {},
     "output_type": "display_data"
    },
    {
     "name": "stdout",
     "output_type": "stream",
     "text": [
      "\n",
      "----- CALCULATED VECTORS -----  \n",
      "(370, 7)\n",
      "mole\n",
      "(81, 6)\n"
     ]
    },
    {
     "data": {
      "application/vnd.jupyter.widget-view+json": {
       "model_id": "064da4ac93dd487c9dadf08b7fec9409",
       "version_major": 2,
       "version_minor": 0
      },
      "text/plain": [
       "HBox(children=(HTML(value=''), FloatProgress(value=1.0, bar_style='info', layout=Layout(width='20px'), max=1.0…"
      ]
     },
     "metadata": {},
     "output_type": "display_data"
    },
    {
     "name": "stdout",
     "output_type": "stream",
     "text": [
      "\n",
      "----- CALCULATED VECTORS -----  \n",
      "(81, 7)\n",
      "\n"
     ]
    }
   ],
   "source": [
    "if not BERT_DF_EXISTS & False:\n",
    "  # bert_msh_data = calculate_tokens(bert_msh_data)  # bert_msh_data adjusted inplace.\n",
    "  print(bert_msh_data.shape)\n",
    "  for word in tqdm(polysemy_list):\n",
    "    print(word)\n",
    "    calculate_polysemy_embedding(word, bert_msh_data, fraction=1.0)"
   ]
  },
  {
   "cell_type": "code",
   "execution_count": 20,
   "metadata": {},
   "outputs": [
    {
     "name": "stdout",
     "output_type": "stream",
     "text": [
      "----- STARTING TOKENIZING ----- \n",
      "(35358, 3)\n"
     ]
    },
    {
     "data": {
      "application/vnd.jupyter.widget-view+json": {
       "model_id": "4b232a2f742643b18a3fb09be0c21dc4",
       "version_major": 2,
       "version_minor": 0
      },
      "text/plain": [
       "HBox(children=(HTML(value=''), FloatProgress(value=0.0, max=35358.0), HTML(value='')))"
      ]
     },
     "metadata": {},
     "output_type": "display_data"
    },
    {
     "name": "stdout",
     "output_type": "stream",
     "text": [
      "\n",
      "----- Completed tokenizing ----- \n",
      "(34520, 6)\n"
     ]
    }
   ],
   "source": [
    "bert_msh_data = calculate_tokens(bert_msh_data)"
   ]
  },
  {
   "cell_type": "code",
   "execution_count": 21,
   "metadata": {},
   "outputs": [
    {
     "name": "stdout",
     "output_type": "stream",
     "text": [
      "(607, 6)\n"
     ]
    },
    {
     "data": {
      "application/vnd.jupyter.widget-view+json": {
       "model_id": "bc33b7905bd346cb99eadef112905817",
       "version_major": 2,
       "version_minor": 0
      },
      "text/plain": [
       "HBox(children=(HTML(value=''), FloatProgress(value=1.0, bar_style='info', layout=Layout(width='20px'), max=1.0…"
      ]
     },
     "metadata": {},
     "output_type": "display_data"
    },
    {
     "name": "stdout",
     "output_type": "stream",
     "text": [
      "\n",
      "----- CALCULATED VECTORS -----  \n",
      "(607, 7)\n"
     ]
    }
   ],
   "source": [
    "stem_msh = bert_msh_data.copy(deep=True)\n",
    "calculate_polysemy_embedding(\"stem\", stem_msh, fraction=1.0, name=\"./embedding-data/bert_msh_data_\")"
   ]
  },
  {
   "cell_type": "code",
   "execution_count": 84,
   "metadata": {
    "scrolled": true
   },
   "outputs": [
    {
     "data": {
      "application/vnd.jupyter.widget-view+json": {
       "model_id": "00620a33cffd4bb1928a0a4ec0496dc1",
       "version_major": 2,
       "version_minor": 0
      },
      "text/plain": [
       "HBox(children=(HTML(value=''), FloatProgress(value=0.0, max=9.0), HTML(value='')))"
      ]
     },
     "metadata": {},
     "output_type": "display_data"
    },
    {
     "name": "stdout",
     "output_type": "stream",
     "text": [
      "protein\n",
      "(4673, 6)\n"
     ]
    },
    {
     "data": {
      "application/vnd.jupyter.widget-view+json": {
       "model_id": "d8e77b1c60cd40eaba59c7290380bbc6",
       "version_major": 2,
       "version_minor": 0
      },
      "text/plain": [
       "HBox(children=(HTML(value=''), FloatProgress(value=1.0, bar_style='info', layout=Layout(width='20px'), max=1.0…"
      ]
     },
     "metadata": {},
     "output_type": "display_data"
    },
    {
     "name": "stdout",
     "output_type": "stream",
     "text": [
      "\n",
      "----- CALCULATED VECTORS -----  \n",
      "(4673, 7)\n",
      "disease\n",
      "(4824, 6)\n"
     ]
    },
    {
     "data": {
      "application/vnd.jupyter.widget-view+json": {
       "model_id": "055c98d5a06f4ffd9135082024e7c2f2",
       "version_major": 2,
       "version_minor": 0
      },
      "text/plain": [
       "HBox(children=(HTML(value=''), FloatProgress(value=1.0, bar_style='info', layout=Layout(width='20px'), max=1.0…"
      ]
     },
     "metadata": {},
     "output_type": "display_data"
    },
    {
     "name": "stdout",
     "output_type": "stream",
     "text": [
      "\n",
      "----- CALCULATED VECTORS -----  \n",
      "(4824, 7)\n",
      "analysis\n",
      "(5988, 6)\n"
     ]
    },
    {
     "data": {
      "application/vnd.jupyter.widget-view+json": {
       "model_id": "a99542751fce4ed7a57defb297378554",
       "version_major": 2,
       "version_minor": 0
      },
      "text/plain": [
       "HBox(children=(HTML(value=''), FloatProgress(value=1.0, bar_style='info', layout=Layout(width='20px'), max=1.0…"
      ]
     },
     "metadata": {},
     "output_type": "display_data"
    },
    {
     "name": "stdout",
     "output_type": "stream",
     "text": [
      "\n",
      "----- CALCULATED VECTORS -----  \n",
      "(5988, 7)\n",
      "gene\n",
      "(3819, 6)\n"
     ]
    },
    {
     "data": {
      "application/vnd.jupyter.widget-view+json": {
       "model_id": "6d470915d89a4190a64ccbb7220db4c6",
       "version_major": 2,
       "version_minor": 0
      },
      "text/plain": [
       "HBox(children=(HTML(value=''), FloatProgress(value=1.0, bar_style='info', layout=Layout(width='20px'), max=1.0…"
      ]
     },
     "metadata": {},
     "output_type": "display_data"
    },
    {
     "name": "stdout",
     "output_type": "stream",
     "text": [
      "\n",
      "----- CALCULATED VECTORS -----  \n",
      "(3819, 7)\n",
      "data\n",
      "(5514, 6)\n"
     ]
    },
    {
     "data": {
      "application/vnd.jupyter.widget-view+json": {
       "model_id": "67ba74172caa49d6af416b86ef736e79",
       "version_major": 2,
       "version_minor": 0
      },
      "text/plain": [
       "HBox(children=(HTML(value=''), FloatProgress(value=1.0, bar_style='info', layout=Layout(width='20px'), max=1.0…"
      ]
     },
     "metadata": {},
     "output_type": "display_data"
    },
    {
     "name": "stdout",
     "output_type": "stream",
     "text": [
      "\n",
      "----- CALCULATED VECTORS -----  \n",
      "(5514, 7)\n",
      "years\n",
      "(3442, 6)\n"
     ]
    },
    {
     "data": {
      "application/vnd.jupyter.widget-view+json": {
       "model_id": "6d30f70cc2b646a09747568d77a9050e",
       "version_major": 2,
       "version_minor": 0
      },
      "text/plain": [
       "HBox(children=(HTML(value=''), FloatProgress(value=1.0, bar_style='info', layout=Layout(width='20px'), max=1.0…"
      ]
     },
     "metadata": {},
     "output_type": "display_data"
    },
    {
     "name": "stdout",
     "output_type": "stream",
     "text": [
      "\n",
      "----- CALCULATED VECTORS -----  \n",
      "(3442, 7)\n",
      "dna\n",
      "(2165, 6)\n"
     ]
    },
    {
     "data": {
      "application/vnd.jupyter.widget-view+json": {
       "model_id": "c385a3c93e1c49dd80b073f34e0cd09c",
       "version_major": 2,
       "version_minor": 0
      },
      "text/plain": [
       "HBox(children=(HTML(value=''), FloatProgress(value=1.0, bar_style='info', layout=Layout(width='20px'), max=1.0…"
      ]
     },
     "metadata": {},
     "output_type": "display_data"
    },
    {
     "name": "stdout",
     "output_type": "stream",
     "text": [
      "\n",
      "----- CALCULATED VECTORS -----  \n",
      "(2165, 7)\n",
      "infection\n",
      "(2160, 6)\n"
     ]
    },
    {
     "data": {
      "application/vnd.jupyter.widget-view+json": {
       "model_id": "e59206c26f774090b375a0c749c83eec",
       "version_major": 2,
       "version_minor": 0
      },
      "text/plain": [
       "HBox(children=(HTML(value=''), FloatProgress(value=1.0, bar_style='info', layout=Layout(width='20px'), max=1.0…"
      ]
     },
     "metadata": {},
     "output_type": "display_data"
    },
    {
     "name": "stdout",
     "output_type": "stream",
     "text": [
      "\n",
      "----- CALCULATED VECTORS -----  \n",
      "(2160, 7)\n",
      "therapy\n",
      "(2308, 6)\n"
     ]
    },
    {
     "data": {
      "application/vnd.jupyter.widget-view+json": {
       "model_id": "3249f1176f044d61916dba120aa715f8",
       "version_major": 2,
       "version_minor": 0
      },
      "text/plain": [
       "HBox(children=(HTML(value=''), FloatProgress(value=1.0, bar_style='info', layout=Layout(width='20px'), max=1.0…"
      ]
     },
     "metadata": {},
     "output_type": "display_data"
    },
    {
     "name": "stdout",
     "output_type": "stream",
     "text": [
      "\n",
      "----- CALCULATED VECTORS -----  \n",
      "(2308, 7)\n",
      "\n"
     ]
    }
   ],
   "source": [
    "non_poly_msh_data = bert_msh_data.copy(deep=True)\n",
    "\n",
    "for word in tqdm(non_poly_words):\n",
    "    print(word)\n",
    "    calculate_polysemy_embedding(word, non_poly_msh_data, fraction=1.0, name=\"./non_polysemy/bert_msh_data_\")"
   ]
  },
  {
   "cell_type": "code",
   "execution_count": 18,
   "metadata": {
    "colab": {
     "base_uri": "https://localhost:8080/",
     "height": 49,
     "referenced_widgets": [
      "10aeeeb6ef8d493486b06d9a26e6e33c",
      "9e7f1e4c88634431933df95c497ead3f",
      "9f7b7a463c164934b540ecfd29c600f0",
      "4cc07000098943b4b46e67963820b0b0",
      "94c3e91ed91a4a75a739cc3b3dbf019b",
      "6d9e68894f1248f386799933a778fb40",
      "f6f243224b9b41978135dc6f4c15f64c",
      "e32776fb510047ec869a42692f737667",
      "68d69e3f84744ef4aab367597e6ffe91",
      "977679cb3f15414ca10fd59a7862260b",
      "416663132f5b44c587cb08f6d7df4943"
     ]
    },
    "id": "3Ars-7N4SyRQ",
    "outputId": "d18ed47b-45a2-414b-e6ee-d0f7fcbddd0a"
   },
   "outputs": [],
   "source": [
    "def produce_ngram_sentences(word, read_loc=\"./embedding-data/bert_msh_data\", n_gram=5):\n",
    "  # n-gram\n",
    "  bert_ngram = pd.read_pickle(r\"{1}_{0}.pkl.zip\".format(word, read_loc), compression=\"zip\")\n",
    "  bert_ngram['polysemy-vector'][1]\n",
    "\n",
    "  ngram_sentences = []\n",
    "  for sentence in bert_ngram['citation-string']:\n",
    "    split_sentence = sentence.split()  # split sentence into words.\n",
    "    word_idxs = [i for i, x in enumerate(split_sentence) if x == word]\n",
    "    \n",
    "    for word_idx in word_idxs:\n",
    "      n_before = split_sentence[word_idx-n_gram:word_idx]  # take ngram words before current word.\n",
    "      n_after = split_sentence[word_idx:word_idx+n_gram]  # take ngram words after current word.\n",
    "      merge = \" \".join(n_before)\n",
    "      merge += \" \"  #  add space before merging another list.\n",
    "      merge += \" \".join(n_after)\n",
    "      ngram_sentences.append(merge)\n",
    "        \n",
    "  return ngram_sentences\n",
    "    \n"
   ]
  },
  {
   "cell_type": "code",
   "execution_count": 83,
   "metadata": {
    "scrolled": true
   },
   "outputs": [
    {
     "name": "stdout",
     "output_type": "stream",
     "text": [
      "mole\n",
      "----- STARTING TOKENIZING ----- \n",
      "(32, 1)\n"
     ]
    },
    {
     "data": {
      "application/vnd.jupyter.widget-view+json": {
       "model_id": "460d247eee8449039df94e6aabc8029d",
       "version_major": 2,
       "version_minor": 0
      },
      "text/plain": [
       "HBox(children=(HTML(value=''), FloatProgress(value=0.0, max=32.0), HTML(value='')))"
      ]
     },
     "metadata": {},
     "output_type": "display_data"
    },
    {
     "name": "stdout",
     "output_type": "stream",
     "text": [
      "\n",
      "----- Completed tokenizing ----- \n",
      "(32, 4)\n",
      "(32, 4)\n"
     ]
    },
    {
     "data": {
      "application/vnd.jupyter.widget-view+json": {
       "model_id": "b2457ca34e524485a0f0da5430fad0de",
       "version_major": 2,
       "version_minor": 0
      },
      "text/plain": [
       "HBox(children=(HTML(value=''), FloatProgress(value=1.0, bar_style='info', layout=Layout(width='20px'), max=1.0…"
      ]
     },
     "metadata": {},
     "output_type": "display_data"
    },
    {
     "name": "stdout",
     "output_type": "stream",
     "text": [
      "\n",
      "----- CALCULATED VECTORS -----  \n",
      "(32, 5)\n"
     ]
    }
   ],
   "source": [
    "for word in polysemy_list[-1:]:\n",
    "  print(word)\n",
    "  ngram_produced_sentences = produce_ngram_sentences(word, n_gram=5,)\n",
    "  ngram_df = pd.DataFrame({'citation-string':ngram_produced_sentences})\n",
    "  ngram_df['citation-string'] = '[CLS] ' + ngram_df['citation-string'].astype(str) + ' [SEP]'  # Adds special tokens ([CLS] and [SEP])\n",
    "  ngram_df = calculate_tokens(ngram_df) \n",
    "  calculate_polysemy_embedding(word, ngram_df, fraction=1.0,  name=\"./ngram-data/bert_msh_ngram5\")"
   ]
  },
  {
   "cell_type": "markdown",
   "metadata": {
    "id": "D1pF9qmfW9PR"
   },
   "source": [
    "### GloVe"
   ]
  },
  {
   "cell_type": "markdown",
   "metadata": {
    "id": "R9umIWCJXAAE"
   },
   "source": [
    "### fastText"
   ]
  },
  {
   "cell_type": "markdown",
   "metadata": {
    "id": "lCduuiQkqdxZ"
   },
   "source": [
    "## Analysis"
   ]
  },
  {
   "cell_type": "markdown",
   "metadata": {
    "id": "VzgXzREUtZzR"
   },
   "source": [
    "### Embeddings\n",
    "Analyse embeddings directly, rather than clusters"
   ]
  },
  {
   "cell_type": "code",
   "execution_count": 16,
   "metadata": {
    "id": "_bcR_aS4tbR8"
   },
   "outputs": [],
   "source": [
    "def cosine_distance(first_embedding, second_embedding):\n",
    "  \"\"\"\n",
    "  Computes cosine distance metric\n",
    "\n",
    "  :param numpy first_embedding: single embedding of a word.\n",
    "  :param numpy second_embedding: single embedding of a word.\n",
    "\n",
    "  :return: cosine distance between the two embeddings - smaller = more similar.\n",
    "  \"\"\"\n",
    "  return cosine(first_embedding, second_embedding)\n",
    "  \n",
    "\n",
    "def em_variance(first_embedding, second_embedding):\n",
    "  \"\"\"\n",
    "  Computes variance between two embeddings.\n",
    "\n",
    "  :param numpy first_embedding: single embedding of a word.\n",
    "  :param numpy second_embedding: single embedding of a word.\n",
    "\n",
    "  :return: variance between two embeddings.\n",
    "  \"\"\"\n",
    "\n",
    "  return np.var(first_embedding, second_embedding)\n",
    "\n",
    "\n",
    "def nxn_cosine(embedding, name=None):\n",
    "  cos_array = np.zeros([len(embedding), len(embedding)])\n",
    "\n",
    "  for i in tqdm(range(len(embedding))):\n",
    "    for j in range(len(embedding)):\n",
    "      cos_array[i][j] = cosine_distance(embedding[i], embedding[j])\n",
    "    \n",
    "  # not worth \n",
    "  # plt.figure(figsize=(20, 20))\n",
    "  # ax = sns.heatmap(cos_array[:100, :100], linewidth=0.5)\n",
    "  # plt.savefig(name)\n",
    "    \n",
    "  return cos_array\n",
    "\n",
    "\n",
    "def write_sentence_to_file(cos_array, sentences, word_idx, name, high_thresh=0.6, low_thresh=0.2):\n",
    "  high_idxs = np.argwhere(cos_array >= high_thresh)\n",
    "  high_idxs = list({tuple(sorted(item)) for item in high_idxs})\n",
    "    \n",
    "  low_idxs = np.argwhere((cos_array <= low_thresh) & (cos_array > 0))  # do not include diagonal line.\n",
    "  low_idxs = list({tuple(sorted(item)) for item in low_idxs})\n",
    " \n",
    "\n",
    "  high = []\n",
    "  low = []\n",
    "    \n",
    "  for high_idx in tqdm(high_idxs):\n",
    "    high.append(\"Similarity: {0:.2f},\\nSentence 1 (Word idx: {3}): {1}\\nSentence 2 (Word idx: {4}): {2}\\n\".format(cos_array[high_idx[0]][high_idx[1]], \n",
    "                                                                                            sentences[high_idx[0]], \n",
    "                                                                                            sentences[high_idx[1]],\n",
    "                                                                                            word_idx[high_idx[0]],\n",
    "                                                                                            word_idx[high_idx[1]]))  \n",
    "  for low_idx in tqdm(low_idxs):\n",
    "    low.append(\"Similarity: {0:.2f},\\nSentence 1 (Word idx: {3}): {1}\\nSentence 2 (Word idx: {4}): {2}\\n\".format(cos_array[low_idx[0]][low_idx[1]], \n",
    "                                                                                            sentences[low_idx[0]], \n",
    "                                                                                            sentences[low_idx[1]],\n",
    "                                                                                            word_idx[low_idx[0]],\n",
    "                                                                                            word_idx[low_idx[1]]))  \n",
    "  with open(\"{0}-{1}-high-.txt\".format(name, high_thresh), 'w') as f:\n",
    "    for item in high:\n",
    "        f.write(\"%s\\n\" % item)\n",
    "                   \n",
    "                  \n",
    "  with open(\"{0}-{1}-low.txt\".format(name, low_thresh), 'w') as f:\n",
    "    for item in low:\n",
    "        f.write(\"%s\\n\" % item)"
   ]
  },
  {
   "cell_type": "markdown",
   "metadata": {
    "id": "1f7nABWYqfsH"
   },
   "source": [
    "### Clustering"
   ]
  },
  {
   "cell_type": "code",
   "execution_count": 15,
   "metadata": {
    "id": "D2WN6DNsr1yZ"
   },
   "outputs": [],
   "source": [
    "def cluster_kmeans(embeddings, n_clusters):\n",
    "  \"\"\"\n",
    "  Performs kmeans clustering.\n",
    "\n",
    "  :param list embeddings: list of embeddings for ONE word.\n",
    "  :param int n_clusters: number of clusters.\n",
    "\n",
    "  :return kmeans: kmeans object.\n",
    "  \"\"\"\n",
    "\n",
    "  kmeans = KMeans(n_clusters=n_clusters, random_state=0).fit(embeddings)\n",
    "  \n",
    "  return kmeans\n",
    "\n",
    "\n",
    "def analyse_cluster_numbers(embeddings, n_clusters=10, bcss=False, plot_graph=True, name=None):\n",
    "  \"\"\"\n",
    "  Performs elbow method for within cluster SS and between clusters SS to find\n",
    "  optimum number of clusters.\n",
    "  \n",
    "  :param list embeddings: list of word embeddings for ONE word.\n",
    "  :param int n_clusters: number of clusters to create. Default 10.\n",
    "  :param bool plot_graph: To plot graph after iterations are finished or not.\n",
    "\n",
    "  :return list WCSS, BCSS: WCSS and BCSS for each cluster attempt.\n",
    "  \"\"\"\n",
    "\n",
    "  def calculate_BCSS(centroids):\n",
    "    \"\"\"\n",
    "    Calculates between clusters SS.\n",
    "    For each centroid, computes euclidean distance to every other centroid for all centroids.\n",
    "\n",
    "    :param list centroids: centroid locations returned by k-means.\n",
    "    :return: returns average BCSS.\n",
    "    \"\"\"\n",
    "    sum_bcss = 0\n",
    "    for first_centroid in centroids:\n",
    "      for second_centroid in centroids:\n",
    "        sum_bcss += np.linalg.norm(first_centroid-second_centroid)\n",
    "\n",
    "    return sum_bcss / len(centroids)\n",
    "\n",
    "  assert len(embeddings) >= n_clusters\n",
    "  np_embeddings = [np.asarray(e) for e in embeddings]\n",
    "\n",
    "  if bcss:\n",
    "    WCSS = []\n",
    "    BCSS = []\n",
    "\n",
    "    for i in range(2, n_clusters+1):\n",
    "      kmeans = cluster_kmeans(embeddings=np_embeddings, n_clusters=i)\n",
    "\n",
    "      WCSS.append(kmeans.inertia_)\n",
    "      BCSS.append(calculate_BCSS(kmeans.cluster_centers_))\n",
    "\n",
    "    if plot_graph:\n",
    "      x_axis = [i for i in range(2, n_clusters+1)]\n",
    "      plt.plot(x_axis, WCSS, label=\"WCSS\")\n",
    "      plt.plot(x_axis, BCSS, label=\"BCSS\")\n",
    "      plt.xlabel('Number of clusters')\n",
    "      plt.ylabel('Squared sum')\n",
    "      plt.legend()\n",
    "      # plt.show()\n",
    "      plt.close()\n",
    "\n",
    "    return WCSS, BCSS\n",
    "\n",
    "  else:  # yellow brick visualiser\n",
    "    model = KMeans()\n",
    "    visualizer = KElbowVisualizer(model, k=(2,n_clusters))\n",
    "    visualizer.fit(np.asarray(np_embeddings)) \n",
    "    \n",
    "    if name is None:\n",
    "      visualizer.show()   \n",
    "    else:\n",
    "      visualizer.show(outpath=name)\n",
    "    plt.close()\n",
    "    return model, visualizer.elbow_value_\n"
   ]
  },
  {
   "cell_type": "code",
   "execution_count": 12,
   "metadata": {
    "id": "zZXXW7m9sUIC"
   },
   "outputs": [],
   "source": [
    "def calculate_cluster_metrics(labels, embeddings, name=None):\n",
    "  \"\"\"\n",
    "  Calculates mean and var of clusters for a given polysemy.\n",
    "\n",
    "  :param list clusters: cluster labels for every embedding for a ONE word.\n",
    "  :param list embeddings: embeddings for all occurences for a ONE word.\n",
    "  \"\"\"\n",
    "\n",
    "  cluster_labels = np.unique(labels).tolist()  # get all cluster numbers.\n",
    "  np_embeddings = [e.numpy() for e in embeddings]\n",
    "  cluster_avg = [] \n",
    "  cluster_var = []\n",
    "\n",
    "  # get all embeddings for certain cluster\n",
    "  # calculate min.max.avg rather than below.\n",
    "  for i in cluster_labels:\n",
    "    current_idx = [index for index, element in enumerate(labels) if element == i]\n",
    "    current_cluster_embeddings = [np_embeddings[j] for j in current_idx]  # get all embeddings for a cluster.\n",
    "    np.mean(current_cluster_embeddings)\n",
    "            \n",
    "    cluster_avg.append(np.mean(current_cluster_embeddings))\n",
    "    cluster_var.append(np.var(current_cluster_embeddings))\n",
    "    \n",
    "\n",
    "  x = np.arange(len(cluster_labels))  \n",
    "  width = 0.35  \n",
    "\n",
    "  fig, ax = plt.subplots()\n",
    "  rects1 = ax.bar(x - width/2, cluster_avg, width, label='Mean')\n",
    "  rects2 = ax.bar(x + width/2, cluster_var, width, label='Variance')\n",
    "\n",
    "  # Add some text for labels, title and custom x-axis tick labels, etc.\n",
    "  ax.set_ylabel('Cluster value')\n",
    "  ax.set_title('Cluster labels')\n",
    "  ax.set_xticks(x)\n",
    "  ax.set_xticklabels(cluster_labels)\n",
    "  ax.legend()\n",
    "\n",
    "  # ax.bar_label(rects1, padding=3)\n",
    "  # ax.bar_label(rects2, padding=3)\n",
    "\n",
    "  fig.tight_layout()\n",
    "    \n",
    "  if name is not None:\n",
    "    plt.savefig(name)\n",
    "\n",
    "  # plt.show()\n",
    "  \n",
    "  plt.close()\n",
    "\n",
    "\n",
    "  \n",
    "  return cluster_avg, cluster_var\n"
   ]
  },
  {
   "cell_type": "code",
   "execution_count": 13,
   "metadata": {},
   "outputs": [],
   "source": [
    "def plot_kmeans(embeddings, labels, name=None):\n",
    "  pca = PCA(2)\n",
    "  pca_embeddings = pca.fit_transform(embeddings)\n",
    "    \n",
    "  u_labels = np.unique(labels)  \n",
    "\n",
    "  for i in u_labels:\n",
    "    plt.scatter(pca_embeddings[labels == i , 0] , pca_embeddings[labels == i , 1] , label = i)\n",
    "  plt.legend()\n",
    "  # plt.show()\n",
    "  plt.close()\n",
    "    "
   ]
  },
  {
   "cell_type": "code",
   "execution_count": 14,
   "metadata": {},
   "outputs": [],
   "source": [
    "def get_clusters_from_idxs(idxs, cluster_labels, name):\n",
    "  labels = []\n",
    "\n",
    "  for idx in idxs:\n",
    "    labels.append(cluster_labels[idx])\n",
    "    \n",
    "  u, c = np.unique(labels, return_counts=True)\n",
    "  # print(u, c)\n",
    "    \n",
    "  plt.figure()\n",
    "  plt.bar(u, c)\n",
    "  plt.xlabel(\"Cluster labels\")\n",
    "  plt.ylabel('Cluster count')\n",
    "  plt.savefig(\"{0}-clusters.png\".format(name))\n",
    "  # plt.show()\n",
    "  plt.clf()\n",
    "  plt.close()\n",
    "  return u, c\n",
    "  \n",
    "    "
   ]
  },
  {
   "cell_type": "markdown",
   "metadata": {
    "id": "Hf6VDHM0tntE"
   },
   "source": [
    "### Models"
   ]
  },
  {
   "cell_type": "markdown",
   "metadata": {
    "id": "MCkU5SQxr2ko"
   },
   "source": [
    "#### BERT"
   ]
  },
  {
   "cell_type": "code",
   "execution_count": 19,
   "metadata": {
    "scrolled": false
   },
   "outputs": [
    {
     "name": "stdout",
     "output_type": "stream",
     "text": [
      "['bert_msh_data__therapy.pkl.zip', 'bert_msh_data__years.pkl.zip']\n"
     ]
    },
    {
     "data": {
      "application/vnd.jupyter.widget-view+json": {
       "model_id": "94e0c8ddfd344d47a52a83b0c4b00ace",
       "version_major": 2,
       "version_minor": 0
      },
      "text/plain": [
       "HBox(children=(HTML(value=''), FloatProgress(value=0.0, max=2308.0), HTML(value='')))"
      ]
     },
     "metadata": {},
     "output_type": "display_data"
    },
    {
     "name": "stdout",
     "output_type": "stream",
     "text": [
      "\n",
      "------ CLUSTERING: 0 --------\n",
      "------ EMBEDDING: 0 --------\n"
     ]
    },
    {
     "data": {
      "application/vnd.jupyter.widget-view+json": {
       "model_id": "da9110a19b1c4009b3eba69e411cd126",
       "version_major": 2,
       "version_minor": 0
      },
      "text/plain": [
       "HBox(children=(HTML(value=''), FloatProgress(value=0.0, max=3442.0), HTML(value='')))"
      ]
     },
     "metadata": {},
     "output_type": "display_data"
    },
    {
     "name": "stdout",
     "output_type": "stream",
     "text": [
      "\n",
      "------ CLUSTERING: 1 --------\n",
      "------ EMBEDDING: 1 --------\n"
     ]
    }
   ],
   "source": [
    "# MASS AUTOMATION\n",
    "\n",
    "mypath = \"embedding-data\"\n",
    "onlyfiles = [f for f in listdir(mypath) if isfile(join(mypath, f))]\n",
    "print(onlyfiles)\n",
    "\n",
    "for i, f in enumerate(onlyfiles):\n",
    "  read_data = pd.read_pickle(r\"{0}/{1}\".format(mypath, f), compression=\"zip\")\n",
    "  polysemy_name = f[15:-8] # remove \"bert_msh_data\" and \".pkl.zip\"\n",
    "  # bert_strains.head()\n",
    "  # bert_strains.shape\n",
    "    \n",
    "  word_idx_in_sentence = []\n",
    "\n",
    "  for f in read_data['polysemy-vector'].tolist():\n",
    "    for x in range(1, len(f)+1):\n",
    "      word_idx_in_sentence.append(x)\n",
    "\n",
    "  flattened_read_data = flatten_list(read_data['polysemy-vector'].tolist())\n",
    "  flattened_numpy = np.asarray([np.asarray(e) for e in flattened_read_data])\n",
    "  flattened_sentences = extract_sentence_of_flattened_list(read_data)\n",
    "    \n",
    "\n",
    "  save_path = r\"auto/{0}/\".format(polysemy_name) \n",
    "  Path(save_path).mkdir(parents=True, exist_ok=True)\n",
    "\n",
    "  data_var = np.var([e.numpy() for e  in flattened_read_data]) # round to 2d\n",
    "  with open(r\"auto/var_list.txt\", 'a+') as f:\n",
    "    f.write(\"({0}, {1:.2f})\\n\".format(polysemy_name, data_var))\n",
    "    \n",
    "    \n",
    "  print(\"------ CLUSTERING: {0} --------\".format(i))\n",
    " \n",
    "  # CLUSTERING\n",
    "  #_, elbow_kmeans = analyse_cluster_numbers(flattened_read_data, n_clusters=30, name=\"{0}elbow\".format(save_path))\n",
    "\n",
    "  #kmeans_model = cluster_kmeans(embeddings=flattened_numpy, n_clusters=elbow_kmeans)\n",
    "  # plot_kmeans(bert_numpy_strain, bert_kmeans.labels_)  \n",
    "  #_ = calculate_cluster_metrics(kmeans_model.labels_, flattened_read_data, \n",
    "                                #name=\"{0}kmeans_metrics_{1}\".format(save_path, elbow_kmeans))\n",
    "    \n",
    "\n",
    "  print(\"------ EMBEDDING: {0} --------\".format(i))\n",
    "  EMBEDDING\n",
    "  cos_data = nxn_cosine(flattened_numpy)\n",
    "\n",
    "  get eitehr 0.6 or whatever the maximum value is rounded down to nearest 10th decimal place.\n",
    "  high_threshold = min(np.floor(np.max(cos_data)*100/10)/10, 0.6)  # yes its ugly,\n",
    "  low_threshold = 0.2\n",
    "    \n",
    "  write_sentence_to_file(cos_data, flattened_sentences, word_idx=word_idx_in_sentence, high_thresh=high_threshold,\n",
    "                        low_thresh=low_threshold, name=\"{0}sentences\".format(save_path))\n",
    "\n",
    "  \n",
    " \n",
    "  similar_idxs = np.argwhere(cos_data >= high_threshold)\n",
    "  similar_idxs = np.unique(similar_idxs.flatten())\n",
    "\n",
    "  get_clusters_from_idxs(similar_idxs, kmeans_model.labels_, name=\"{0}similar\".format(save_path))\n",
    "  \n",
    "  \n",
    "  unsimilar_idxs = np.argwhere((cos_data <= low_threshold) & (cos_data > 0)) \n",
    "  unsimilar_idxs = np.unique(unsimilar_idxs.flatten())\n",
    "\n",
    "  get_clusters_from_idxs(unsimilar_idxs, kmeans_model.labels_, name=\"{0}unsimilar\".format(save_path))\n",
    " \n",
    "\n",
    "\n",
    "\n"
   ]
  },
  {
   "cell_type": "markdown",
   "metadata": {
    "id": "_MvjzYlAr9pm"
   },
   "source": [
    "#### GloVe"
   ]
  },
  {
   "cell_type": "markdown",
   "metadata": {
    "id": "p5SIhyDVsBkb"
   },
   "source": [
    "#### fastText"
   ]
  },
  {
   "cell_type": "markdown",
   "metadata": {
    "id": "qBx30fDjKCpD"
   },
   "source": [
    "## Archive\n",
    "Functions that were originally used but no longer required. Kept as archive incase required in the future."
   ]
  },
  {
   "cell_type": "code",
   "execution_count": null,
   "metadata": {
    "id": "iXxqlq7PKEc7"
   },
   "outputs": [],
   "source": [
    "def create_dataset():  # merges all ARFF files into a CSV.\n",
    "  # papers that caused problems when reading ARFF.\n",
    "  manual = [\"ALS_pmids_tagged.arff\", \"CDR_pmids_tagged.arff\", \"Epi_pmids_tagged.arff\", \"PCA_pmids_tagged.arff\"]  \n",
    "\n",
    "  file_path = r\"\" # file path to folder of ARFF data. (will have to load.)\n",
    "\n",
    "  files = [f for f in listdir(file_path) if isfile(join(file_path, f))]\n",
    "\n",
    "  l = []\n",
    "  for file in tqdm(files):\n",
    "      data = arff.load(open(file_path + file, 'r'))\n",
    "      l.extend(data['data'])\n",
    "\n",
    "  df = pd.DataFrame(l, columns=['PMID-integer', 'citation-string', 'class'])\n",
    "  df.to_csv(\"MSH.csv\", encoding='utf-8', index=False)\n",
    "\n",
    "  # uncomment below to save to drive.\n",
    "  # from google.colab import drive\n",
    "  # drive.mount('drive')\n",
    "  # !cp MSH.csv \"drive/My Drive/\"\n",
    "\n",
    "  # drive.flush_and_unmount()  # to unmount"
   ]
  },
  {
   "cell_type": "code",
   "execution_count": null,
   "metadata": {
    "id": "6Sc9CYk0LOvD"
   },
   "outputs": [],
   "source": [
    "def remove_words(df):  # remove characters/words completely\n",
    "  words_to_remove = [\"<e>\", \"</e>\"]  \n",
    "\n",
    "  for word_to_remove in words_to_remove:\n",
    "    df['citation-string'] = df[\"citation-string\"].str.replace(word_to_remove , '')\n",
    "\n",
    "  return df\n",
    "\n",
    "def replace_words(df):  # Replace characters/words with space.\n",
    "  words_to_replace = [\"[\", \"]\"]\n",
    "\n",
    "  for word_to_replace in words_to_replace:\n",
    "    df['citation-string'] = df[\"citation-string\"].str.replace(word_to_replace , ' ')  # Unsure where [ ] are used. Replace with space for safety.\n",
    "\n",
    "  return df"
   ]
  },
  {
   "cell_type": "code",
   "execution_count": 20,
   "metadata": {},
   "outputs": [],
   "source": [
    "var_pol = [0.54, 0.55, 0.57, 0.55, 0.54, 0.56]\n",
    "var_pol_lb = [\"cold\", \"mole\", \"scale\", \"depression\", \"stem\", \"growth\"]\n",
    "\n",
    "var_mon = [0.56, 0.55, 0.58, 0.59]\n",
    "var_mon_lb = [\"therapy\", \"disease\", \"analysis\", \"year\"]\n"
   ]
  },
  {
   "cell_type": "code",
   "execution_count": 43,
   "metadata": {},
   "outputs": [
    {
     "data": {
      "image/png": "[encoded data removed]",
      "text/plain": [
       "<Figure size 432x288 with 1 Axes>"
      ]
     },
     "metadata": {
      "needs_background": "light"
     },
     "output_type": "display_data"
    }
   ],
   "source": [
    "plt.figure(figsize=(6, 4))\n",
    "y_pos = np.arange(len(var_pol_lb))\n",
    "plt.bar(y_pos, var_pol, width=[0.3], color=['darkgray'])\n",
    "# Create names on the x-axis\n",
    "plt.xticks(y_pos, var_pol_lb)\n",
    "plt.ylim(ymin=0.5)  # this line\n",
    "plt.ylabel('Variance')\n",
    "plt.xlabel('Word')\n",
    "plt.savefig(\"polysemy-var.png\")\n",
    "# Show graphic\n",
    "plt.show()"
   ]
  },
  {
   "cell_type": "code",
   "execution_count": 44,
   "metadata": {},
   "outputs": [
    {
     "data": {
      "image/png": "[encoded data removed]",
      "text/plain": [
       "<Figure size 432x288 with 1 Axes>"
      ]
     },
     "metadata": {
      "needs_background": "light"
     },
     "output_type": "display_data"
    }
   ],
   "source": [
    "plt.figure(figsize=(6, 4))\n",
    "y_pos = np.arange(len(var_mon_lb))\n",
    "plt.bar(y_pos, var_mon, width=[0.2], color=['darkgray'])\n",
    "# Create names on the x-axis\n",
    "plt.xticks(y_pos, var_mon_lb)\n",
    "plt.ylim(ymin=0.5)  # this line\n",
    "plt.ylabel('Variance')\n",
    "plt.xlabel('Word')\n",
    "plt.savefig(\"monosemy-var.png\")\n",
    "# Show graphic\n",
    "plt.show()"
   ]
  },
  {
   "cell_type": "code",
   "execution_count": null,
   "metadata": {},
   "outputs": [],
   "source": [
    "colors=['darkgray','gray','dimgray','lightgray']\n",
    "df.plot(kind='bar',color=colors )\n",
    "plt.show()"
   ]
  }
 ],
 "metadata": {
  "colab": {
   "name": "2AMM20.ipynb",
   "provenance": [],
   "toc_visible": true
  },
  "kernelspec": {
   "display_name": "Python 3",
   "language": "python",
   "name": "python3"
  },
  "language_info": {
   "codemirror_mode": {
    "name": "ipython",
    "version": 3
   },
   "file_extension": ".py",
   "mimetype": "text/x-python",
   "name": "python",
   "nbconvert_exporter": "python",
   "pygments_lexer": "ipython3",
   "version": "3.9.2"
  },
  "widgets": {
   "application/vnd.jupyter.widget-state+json": {
    "09e0170aca6347959701deb73f3bef8b": {
     "model_module": "@jupyter-widgets/base",
     "model_module_version": "1.2.0",
     "model_name": "LayoutModel",
     "state": {
      "_model_module": "@jupyter-widgets/base",
      "_model_module_version": "1.2.0",
      "_model_name": "LayoutModel",
      "_view_count": null,
      "_view_module": "@jupyter-widgets/base",
      "_view_module_version": "1.2.0",
      "_view_name": "LayoutView",
      "align_content": null,
      "align_items": null,
      "align_self": null,
      "border": null,
      "bottom": null,
      "display": null,
      "flex": null,
      "flex_flow": null,
      "grid_area": null,
      "grid_auto_columns": null,
      "grid_auto_flow": null,
      "grid_auto_rows": null,
      "grid_column": null,
      "grid_gap": null,
      "grid_row": null,
      "grid_template_areas": null,
      "grid_template_columns": null,
      "grid_template_rows": null,
      "height": null,
      "justify_content": null,
      "justify_items": null,
      "left": null,
      "margin": null,
      "max_height": null,
      "max_width": null,
      "min_height": null,
      "min_width": null,
      "object_fit": null,
      "object_position": null,
      "order": null,
      "overflow": null,
      "overflow_x": null,
      "overflow_y": null,
      "padding": null,
      "right": null,
      "top": null,
      "visibility": null,
      "width": null
     }
    },
    "0af92165c8f04325a74d3fcf599c988a": {
     "model_module": "@jupyter-widgets/controls",
     "model_module_version": "1.5.0",
     "model_name": "HBoxModel",
     "state": {
      "_dom_classes": [],
      "_model_module": "@jupyter-widgets/controls",
      "_model_module_version": "1.5.0",
      "_model_name": "HBoxModel",
      "_view_count": null,
      "_view_module": "@jupyter-widgets/controls",
      "_view_module_version": "1.5.0",
      "_view_name": "HBoxView",
      "box_style": "",
      "children": [
       "IPY_MODEL_e90fd5ef36774d389b87e965f4dfd107",
       "IPY_MODEL_3ee0d56076ab46d589f750fbdd50f647",
       "IPY_MODEL_361f6b963a4f4b7b81c9ecf36f6f48db"
      ],
      "layout": "IPY_MODEL_09e0170aca6347959701deb73f3bef8b"
     }
    },
    "0d560c931f2345cb920fa587e72a579d": {
     "model_module": "@jupyter-widgets/controls",
     "model_module_version": "1.5.0",
     "model_name": "DescriptionStyleModel",
     "state": {
      "_model_module": "@jupyter-widgets/controls",
      "_model_module_version": "1.5.0",
      "_model_name": "DescriptionStyleModel",
      "_view_count": null,
      "_view_module": "@jupyter-widgets/base",
      "_view_module_version": "1.2.0",
      "_view_name": "StyleView",
      "description_width": ""
     }
    },
    "10aeeeb6ef8d493486b06d9a26e6e33c": {
     "model_module": "@jupyter-widgets/controls",
     "model_module_version": "1.5.0",
     "model_name": "HBoxModel",
     "state": {
      "_dom_classes": [],
      "_model_module": "@jupyter-widgets/controls",
      "_model_module_version": "1.5.0",
      "_model_name": "HBoxModel",
      "_view_count": null,
      "_view_module": "@jupyter-widgets/controls",
      "_view_module_version": "1.5.0",
      "_view_name": "HBoxView",
      "box_style": "",
      "children": [
       "IPY_MODEL_9f7b7a463c164934b540ecfd29c600f0",
       "IPY_MODEL_4cc07000098943b4b46e67963820b0b0",
       "IPY_MODEL_94c3e91ed91a4a75a739cc3b3dbf019b"
      ],
      "layout": "IPY_MODEL_9e7f1e4c88634431933df95c497ead3f"
     }
    },
    "287d3974224c4fcb833257db5d22dbde": {
     "model_module": "@jupyter-widgets/base",
     "model_module_version": "1.2.0",
     "model_name": "LayoutModel",
     "state": {
      "_model_module": "@jupyter-widgets/base",
      "_model_module_version": "1.2.0",
      "_model_name": "LayoutModel",
      "_view_count": null,
      "_view_module": "@jupyter-widgets/base",
      "_view_module_version": "1.2.0",
      "_view_name": "LayoutView",
      "align_content": null,
      "align_items": null,
      "align_self": null,
      "border": null,
      "bottom": null,
      "display": null,
      "flex": null,
      "flex_flow": null,
      "grid_area": null,
      "grid_auto_columns": null,
      "grid_auto_flow": null,
      "grid_auto_rows": null,
      "grid_column": null,
      "grid_gap": null,
      "grid_row": null,
      "grid_template_areas": null,
      "grid_template_columns": null,
      "grid_template_rows": null,
      "height": null,
      "justify_content": null,
      "justify_items": null,
      "left": null,
      "margin": null,
      "max_height": null,
      "max_width": null,
      "min_height": null,
      "min_width": null,
      "object_fit": null,
      "object_position": null,
      "order": null,
      "overflow": null,
      "overflow_x": null,
      "overflow_y": null,
      "padding": null,
      "right": null,
      "top": null,
      "visibility": null,
      "width": null
     }
    },
    "361f6b963a4f4b7b81c9ecf36f6f48db": {
     "model_module": "@jupyter-widgets/controls",
     "model_module_version": "1.5.0",
     "model_name": "HTMLModel",
     "state": {
      "_dom_classes": [],
      "_model_module": "@jupyter-widgets/controls",
      "_model_module_version": "1.5.0",
      "_model_name": "HTMLModel",
      "_view_count": null,
      "_view_module": "@jupyter-widgets/controls",
      "_view_module_version": "1.5.0",
      "_view_name": "HTMLView",
      "description": "",
      "description_tooltip": null,
      "layout": "IPY_MODEL_54f6d351648044febceaaa182ba8932e",
      "placeholder": "​",
      "style": "IPY_MODEL_faf0afa7d17a4f329241f2cb6046afb1",
      "value": " 35358/35358 [03:52&lt;00:00, 182.65it/s]"
     }
    },
    "3ee0d56076ab46d589f750fbdd50f647": {
     "model_module": "@jupyter-widgets/controls",
     "model_module_version": "1.5.0",
     "model_name": "FloatProgressModel",
     "state": {
      "_dom_classes": [],
      "_model_module": "@jupyter-widgets/controls",
      "_model_module_version": "1.5.0",
      "_model_name": "FloatProgressModel",
      "_view_count": null,
      "_view_module": "@jupyter-widgets/controls",
      "_view_module_version": "1.5.0",
      "_view_name": "ProgressView",
      "bar_style": "success",
      "description": "",
      "description_tooltip": null,
      "layout": "IPY_MODEL_3f7e59883439419a981b4da39db368da",
      "max": 35358,
      "min": 0,
      "orientation": "horizontal",
      "style": "IPY_MODEL_582880714a1c48fca9c90dabf5cc0c84",
      "value": 35358
     }
    },
    "3f7e59883439419a981b4da39db368da": {
     "model_module": "@jupyter-widgets/base",
     "model_module_version": "1.2.0",
     "model_name": "LayoutModel",
     "state": {
      "_model_module": "@jupyter-widgets/base",
      "_model_module_version": "1.2.0",
      "_model_name": "LayoutModel",
      "_view_count": null,
      "_view_module": "@jupyter-widgets/base",
      "_view_module_version": "1.2.0",
      "_view_name": "LayoutView",
      "align_content": null,
      "align_items": null,
      "align_self": null,
      "border": null,
      "bottom": null,
      "display": null,
      "flex": null,
      "flex_flow": null,
      "grid_area": null,
      "grid_auto_columns": null,
      "grid_auto_flow": null,
      "grid_auto_rows": null,
      "grid_column": null,
      "grid_gap": null,
      "grid_row": null,
      "grid_template_areas": null,
      "grid_template_columns": null,
      "grid_template_rows": null,
      "height": null,
      "justify_content": null,
      "justify_items": null,
      "left": null,
      "margin": null,
      "max_height": null,
      "max_width": null,
      "min_height": null,
      "min_width": null,
      "object_fit": null,
      "object_position": null,
      "order": null,
      "overflow": null,
      "overflow_x": null,
      "overflow_y": null,
      "padding": null,
      "right": null,
      "top": null,
      "visibility": null,
      "width": null
     }
    },
    "416663132f5b44c587cb08f6d7df4943": {
     "model_module": "@jupyter-widgets/base",
     "model_module_version": "1.2.0",
     "model_name": "LayoutModel",
     "state": {
      "_model_module": "@jupyter-widgets/base",
      "_model_module_version": "1.2.0",
      "_model_name": "LayoutModel",
      "_view_count": null,
      "_view_module": "@jupyter-widgets/base",
      "_view_module_version": "1.2.0",
      "_view_name": "LayoutView",
      "align_content": null,
      "align_items": null,
      "align_self": null,
      "border": null,
      "bottom": null,
      "display": null,
      "flex": null,
      "flex_flow": null,
      "grid_area": null,
      "grid_auto_columns": null,
      "grid_auto_flow": null,
      "grid_auto_rows": null,
      "grid_column": null,
      "grid_gap": null,
      "grid_row": null,
      "grid_template_areas": null,
      "grid_template_columns": null,
      "grid_template_rows": null,
      "height": null,
      "justify_content": null,
      "justify_items": null,
      "left": null,
      "margin": null,
      "max_height": null,
      "max_width": null,
      "min_height": null,
      "min_width": null,
      "object_fit": null,
      "object_position": null,
      "order": null,
      "overflow": null,
      "overflow_x": null,
      "overflow_y": null,
      "padding": null,
      "right": null,
      "top": null,
      "visibility": null,
      "width": null
     }
    },
    "4cc07000098943b4b46e67963820b0b0": {
     "model_module": "@jupyter-widgets/controls",
     "model_module_version": "1.5.0",
     "model_name": "FloatProgressModel",
     "state": {
      "_dom_classes": [],
      "_model_module": "@jupyter-widgets/controls",
      "_model_module_version": "1.5.0",
      "_model_name": "FloatProgressModel",
      "_view_count": null,
      "_view_module": "@jupyter-widgets/controls",
      "_view_module_version": "1.5.0",
      "_view_name": "ProgressView",
      "bar_style": "success",
      "description": "",
      "description_tooltip": null,
      "layout": "IPY_MODEL_68d69e3f84744ef4aab367597e6ffe91",
      "max": 43,
      "min": 0,
      "orientation": "horizontal",
      "style": "IPY_MODEL_e32776fb510047ec869a42692f737667",
      "value": 43
     }
    },
    "54f6d351648044febceaaa182ba8932e": {
     "model_module": "@jupyter-widgets/base",
     "model_module_version": "1.2.0",
     "model_name": "LayoutModel",
     "state": {
      "_model_module": "@jupyter-widgets/base",
      "_model_module_version": "1.2.0",
      "_model_name": "LayoutModel",
      "_view_count": null,
      "_view_module": "@jupyter-widgets/base",
      "_view_module_version": "1.2.0",
      "_view_name": "LayoutView",
      "align_content": null,
      "align_items": null,
      "align_self": null,
      "border": null,
      "bottom": null,
      "display": null,
      "flex": null,
      "flex_flow": null,
      "grid_area": null,
      "grid_auto_columns": null,
      "grid_auto_flow": null,
      "grid_auto_rows": null,
      "grid_column": null,
      "grid_gap": null,
      "grid_row": null,
      "grid_template_areas": null,
      "grid_template_columns": null,
      "grid_template_rows": null,
      "height": null,
      "justify_content": null,
      "justify_items": null,
      "left": null,
      "margin": null,
      "max_height": null,
      "max_width": null,
      "min_height": null,
      "min_width": null,
      "object_fit": null,
      "object_position": null,
      "order": null,
      "overflow": null,
      "overflow_x": null,
      "overflow_y": null,
      "padding": null,
      "right": null,
      "top": null,
      "visibility": null,
      "width": null
     }
    },
    "582880714a1c48fca9c90dabf5cc0c84": {
     "model_module": "@jupyter-widgets/controls",
     "model_module_version": "1.5.0",
     "model_name": "ProgressStyleModel",
     "state": {
      "_model_module": "@jupyter-widgets/controls",
      "_model_module_version": "1.5.0",
      "_model_name": "ProgressStyleModel",
      "_view_count": null,
      "_view_module": "@jupyter-widgets/base",
      "_view_module_version": "1.2.0",
      "_view_name": "StyleView",
      "bar_color": null,
      "description_width": ""
     }
    },
    "68d69e3f84744ef4aab367597e6ffe91": {
     "model_module": "@jupyter-widgets/base",
     "model_module_version": "1.2.0",
     "model_name": "LayoutModel",
     "state": {
      "_model_module": "@jupyter-widgets/base",
      "_model_module_version": "1.2.0",
      "_model_name": "LayoutModel",
      "_view_count": null,
      "_view_module": "@jupyter-widgets/base",
      "_view_module_version": "1.2.0",
      "_view_name": "LayoutView",
      "align_content": null,
      "align_items": null,
      "align_self": null,
      "border": null,
      "bottom": null,
      "display": null,
      "flex": null,
      "flex_flow": null,
      "grid_area": null,
      "grid_auto_columns": null,
      "grid_auto_flow": null,
      "grid_auto_rows": null,
      "grid_column": null,
      "grid_gap": null,
      "grid_row": null,
      "grid_template_areas": null,
      "grid_template_columns": null,
      "grid_template_rows": null,
      "height": null,
      "justify_content": null,
      "justify_items": null,
      "left": null,
      "margin": null,
      "max_height": null,
      "max_width": null,
      "min_height": null,
      "min_width": null,
      "object_fit": null,
      "object_position": null,
      "order": null,
      "overflow": null,
      "overflow_x": null,
      "overflow_y": null,
      "padding": null,
      "right": null,
      "top": null,
      "visibility": null,
      "width": null
     }
    },
    "6d9e68894f1248f386799933a778fb40": {
     "model_module": "@jupyter-widgets/controls",
     "model_module_version": "1.5.0",
     "model_name": "DescriptionStyleModel",
     "state": {
      "_model_module": "@jupyter-widgets/controls",
      "_model_module_version": "1.5.0",
      "_model_name": "DescriptionStyleModel",
      "_view_count": null,
      "_view_module": "@jupyter-widgets/base",
      "_view_module_version": "1.2.0",
      "_view_name": "StyleView",
      "description_width": ""
     }
    },
    "94c3e91ed91a4a75a739cc3b3dbf019b": {
     "model_module": "@jupyter-widgets/controls",
     "model_module_version": "1.5.0",
     "model_name": "HTMLModel",
     "state": {
      "_dom_classes": [],
      "_model_module": "@jupyter-widgets/controls",
      "_model_module_version": "1.5.0",
      "_model_name": "HTMLModel",
      "_view_count": null,
      "_view_module": "@jupyter-widgets/controls",
      "_view_module_version": "1.5.0",
      "_view_name": "HTMLView",
      "description": "",
      "description_tooltip": null,
      "layout": "IPY_MODEL_416663132f5b44c587cb08f6d7df4943",
      "placeholder": "​",
      "style": "IPY_MODEL_977679cb3f15414ca10fd59a7862260b",
      "value": " 43/43 [00:00&lt;00:00, 399.06it/s]"
     }
    },
    "977679cb3f15414ca10fd59a7862260b": {
     "model_module": "@jupyter-widgets/controls",
     "model_module_version": "1.5.0",
     "model_name": "DescriptionStyleModel",
     "state": {
      "_model_module": "@jupyter-widgets/controls",
      "_model_module_version": "1.5.0",
      "_model_name": "DescriptionStyleModel",
      "_view_count": null,
      "_view_module": "@jupyter-widgets/base",
      "_view_module_version": "1.2.0",
      "_view_name": "StyleView",
      "description_width": ""
     }
    },
    "9e7f1e4c88634431933df95c497ead3f": {
     "model_module": "@jupyter-widgets/base",
     "model_module_version": "1.2.0",
     "model_name": "LayoutModel",
     "state": {
      "_model_module": "@jupyter-widgets/base",
      "_model_module_version": "1.2.0",
      "_model_name": "LayoutModel",
      "_view_count": null,
      "_view_module": "@jupyter-widgets/base",
      "_view_module_version": "1.2.0",
      "_view_name": "LayoutView",
      "align_content": null,
      "align_items": null,
      "align_self": null,
      "border": null,
      "bottom": null,
      "display": null,
      "flex": null,
      "flex_flow": null,
      "grid_area": null,
      "grid_auto_columns": null,
      "grid_auto_flow": null,
      "grid_auto_rows": null,
      "grid_column": null,
      "grid_gap": null,
      "grid_row": null,
      "grid_template_areas": null,
      "grid_template_columns": null,
      "grid_template_rows": null,
      "height": null,
      "justify_content": null,
      "justify_items": null,
      "left": null,
      "margin": null,
      "max_height": null,
      "max_width": null,
      "min_height": null,
      "min_width": null,
      "object_fit": null,
      "object_position": null,
      "order": null,
      "overflow": null,
      "overflow_x": null,
      "overflow_y": null,
      "padding": null,
      "right": null,
      "top": null,
      "visibility": null,
      "width": null
     }
    },
    "9f7b7a463c164934b540ecfd29c600f0": {
     "model_module": "@jupyter-widgets/controls",
     "model_module_version": "1.5.0",
     "model_name": "HTMLModel",
     "state": {
      "_dom_classes": [],
      "_model_module": "@jupyter-widgets/controls",
      "_model_module_version": "1.5.0",
      "_model_name": "HTMLModel",
      "_view_count": null,
      "_view_module": "@jupyter-widgets/controls",
      "_view_module_version": "1.5.0",
      "_view_name": "HTMLView",
      "description": "",
      "description_tooltip": null,
      "layout": "IPY_MODEL_f6f243224b9b41978135dc6f4c15f64c",
      "placeholder": "​",
      "style": "IPY_MODEL_6d9e68894f1248f386799933a778fb40",
      "value": "100%"
     }
    },
    "e32776fb510047ec869a42692f737667": {
     "model_module": "@jupyter-widgets/controls",
     "model_module_version": "1.5.0",
     "model_name": "ProgressStyleModel",
     "state": {
      "_model_module": "@jupyter-widgets/controls",
      "_model_module_version": "1.5.0",
      "_model_name": "ProgressStyleModel",
      "_view_count": null,
      "_view_module": "@jupyter-widgets/base",
      "_view_module_version": "1.2.0",
      "_view_name": "StyleView",
      "bar_color": null,
      "description_width": ""
     }
    },
    "e90fd5ef36774d389b87e965f4dfd107": {
     "model_module": "@jupyter-widgets/controls",
     "model_module_version": "1.5.0",
     "model_name": "HTMLModel",
     "state": {
      "_dom_classes": [],
      "_model_module": "@jupyter-widgets/controls",
      "_model_module_version": "1.5.0",
      "_model_name": "HTMLModel",
      "_view_count": null,
      "_view_module": "@jupyter-widgets/controls",
      "_view_module_version": "1.5.0",
      "_view_name": "HTMLView",
      "description": "",
      "description_tooltip": null,
      "layout": "IPY_MODEL_287d3974224c4fcb833257db5d22dbde",
      "placeholder": "​",
      "style": "IPY_MODEL_0d560c931f2345cb920fa587e72a579d",
      "value": "100%"
     }
    },
    "f6f243224b9b41978135dc6f4c15f64c": {
     "model_module": "@jupyter-widgets/base",
     "model_module_version": "1.2.0",
     "model_name": "LayoutModel",
     "state": {
      "_model_module": "@jupyter-widgets/base",
      "_model_module_version": "1.2.0",
      "_model_name": "LayoutModel",
      "_view_count": null,
      "_view_module": "@jupyter-widgets/base",
      "_view_module_version": "1.2.0",
      "_view_name": "LayoutView",
      "align_content": null,
      "align_items": null,
      "align_self": null,
      "border": null,
      "bottom": null,
      "display": null,
      "flex": null,
      "flex_flow": null,
      "grid_area": null,
      "grid_auto_columns": null,
      "grid_auto_flow": null,
      "grid_auto_rows": null,
      "grid_column": null,
      "grid_gap": null,
      "grid_row": null,
      "grid_template_areas": null,
      "grid_template_columns": null,
      "grid_template_rows": null,
      "height": null,
      "justify_content": null,
      "justify_items": null,
      "left": null,
      "margin": null,
      "max_height": null,
      "max_width": null,
      "min_height": null,
      "min_width": null,
      "object_fit": null,
      "object_position": null,
      "order": null,
      "overflow": null,
      "overflow_x": null,
      "overflow_y": null,
      "padding": null,
      "right": null,
      "top": null,
      "visibility": null,
      "width": null
     }
    },
    "faf0afa7d17a4f329241f2cb6046afb1": {
     "model_module": "@jupyter-widgets/controls",
     "model_module_version": "1.5.0",
     "model_name": "DescriptionStyleModel",
     "state": {
      "_model_module": "@jupyter-widgets/controls",
      "_model_module_version": "1.5.0",
      "_model_name": "DescriptionStyleModel",
      "_view_count": null,
      "_view_module": "@jupyter-widgets/base",
      "_view_module_version": "1.2.0",
      "_view_name": "StyleView",
      "description_width": ""
     }
    }
   }
  }
 },
 "nbformat": 4,
 "nbformat_minor": 1
}
